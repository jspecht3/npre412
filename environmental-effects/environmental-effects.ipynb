{
 "cells": [
  {
   "cell_type": "markdown",
   "metadata": {},
   "source": [
    "# Environmental Effects\n",
    "\n",
    "As we have studied the various steps of the nuclear fuel cycle, we have mentioned the environmental consequences of each.\n",
    "\n",
    "## Learning Objectives\n",
    "\n",
    "- Recognize agencies with authority over environmental impacts in the nuclear fuel cycle\n",
    "- Name stakeholders in nuclear fuel cycle environmental impacts\n",
    "- List the types of environmental impacts involved in the nuclear fuel cycle\n",
    "- Match the steps of the fuel cycle with the environmental impacts for which they are responsible\n",
    "- Calculate Energy Return on Investment"
   ]
  },
  {
   "cell_type": "markdown",
   "metadata": {},
   "source": [
    "## Environmental Policy History\n",
    "\n",
    "- 0-1970 : Public land management. Public Refuse Act of 1899. (see: [Bubbly Creek](https://en.wikipedia.org/wiki/Bubbly_Creek))\n",
    "- 1960s: Wilderness protection. Stemming population growth.\n",
    "- 1970: Earth Day, NEPA, Impact Statements, Clean Air Act. Large scale wilderness dedications.\n",
    "- 1980s: Reagan. Budget cutbacks, but ideologically committed appoitees in EPA, Dept. of Ag., Department of Interior, etc. Public backlash.\n",
    "- 1990s: Bush I, regulations 'put americans out of work'. Clinton pushed env. friendly appointees. Bush II withdrawal from Kyoto.\n",
    "- 2010s: Obama era, renewed involvment in international climate talks.\n",
    "- 2015-2016: US signs Paris agreement on climate change, no legal force.\n",
    "- 2017: Trump declares intent to withdraw the United States from the Paris agreement \n",
    "- 2019: Trump officially withdraws from Paris Agreement (to take effect November 2020)."
   ]
  },
  {
   "cell_type": "markdown",
   "metadata": {},
   "source": [
    "### Kyoto Protocol\n",
    "\n",
    "<a title=\"By User:Canuckguy, User:Danlaycock (File:UNFCCC parties.svg) [Public domain], via Wikimedia Commons\" href=\"https://commons.wikimedia.org/wiki/File%3AKyoto_Protocol_parties.svg\"><img width=\"512\" alt=\"Kyoto Protocol parties\" src=\"https://upload.wikimedia.org/wikipedia/commons/thumb/6/6e/Kyoto_Protocol_parties.svg/512px-Kyoto_Protocol_parties.svg.png\"/></a>\n",
    "\n",
    "A map of the parties to the Kyoto Protocol    \n",
    "<span style=\"width: 2.4em; display: inline-block; text-align: center; border: 1px solid #808080; background-color: #008000;\">&nbsp;</span>\n",
    "Annex B parties with binding targets in the second period    \n",
    "<span style=\"width: 2.4em; display: inline-block; text-align: center; border: 1px solid #808080; background-color: purple;\">&nbsp;</span>\n",
    "Annex B parties with binding targets in the first period but not the second    \n",
    "<span style=\"width: 2.4em; display: inline-block; text-align: center; border: 1px solid #808080; background-color: #0000FF;\">&nbsp;</span>\n",
    "non-Annex B parties without binding targets    \n",
    "<span style=\"width: 2.4em; display: inline-block; text-align: center; border: 1px solid #808080; background-color: #EEEE00;\">&nbsp;</span>\n",
    "Annex B parties with binding targets in the first period but which withdrew from the Protocol    \n",
    "<span style=\"width: 2.4em; display: inline-block; text-align: center; border: 1px solid #808080; background-color: orange;\">&nbsp;</span>\n",
    "Signatories to the Protocol that have not ratified    \n",
    "<span style=\"width: 2.4em; display: inline-block; text-align: center; border: 1px solid #808080; background-color: #FF1111;\">&nbsp;</span>\n",
    "Other UN member states and observers that are not party to the Protocol\n",
    "\n",
    "\n",
    "![https://upload.wikimedia.org/wikipedia/commons/4/4b/Kyoto_Parties_with_first_period_%282008-2012%29_greenhouse_gas_emissions_limitations_targets_and_the_percentage_change_in_their_carbon_dioxide_emissions_from_fuel_combustion_between_1990_and_2009.png](https://upload.wikimedia.org/wikipedia/commons/4/4b/Kyoto_Parties_with_first_period_%282008-2012%29_greenhouse_gas_emissions_limitations_targets_and_the_percentage_change_in_their_carbon_dioxide_emissions_from_fuel_combustion_between_1990_and_2009.png)"
   ]
  },
  {
   "cell_type": "markdown",
   "metadata": {},
   "source": [
    "### Paris Agreement\n",
    "<p><a href=\"https://commons.wikimedia.org/wiki/File:ParisAgreement.svg#/media/File:ParisAgreement.svg\"><img src=\"https://upload.wikimedia.org/wikipedia/commons/thumb/4/4b/ParisAgreement.svg/1200px-ParisAgreement.svg.png\" alt=\"ParisAgreement.svg\"></a><br>By <a href=\"//commons.wikimedia.org/wiki/User:L.tak\" title=\"User:L.tak\">L.tak</a> - <span class=\"int-own-work\" lang=\"en\">Own work</span>, <a href=\"https://creativecommons.org/licenses/by-sa/4.0\" title=\"Creative Commons Attribution-Share Alike 4.0\">CC BY-SA 4.0</a>, <a href=\"https://commons.wikimedia.org/w/index.php?curid=48320267\">Link</a></p>\n",
    "\n",
    "<span style=\"width: 2.4em; display: inline-block; text-align: center; border: 1px solid #808080; background-color: #6666ff;\">&nbsp;</span>\n",
    "Parties\n",
    "  <span style=\"width: 2.4em; display: inline-block; text-align: center; border: 1px solid #808080; background-color: #ffcc00;\">&nbsp;</span> Signatories\n",
    "  <span style=\"width: 2.4em; display: inline-block; text-align: center; border: 1px solid #808080; background-color: #000088;\">&nbsp;</span> \n",
    "   Parties also covered by European Union ratification\n",
    "   \n",
    "   \n",
    "   <p><a href=\"https://commons.wikimedia.org/wiki/File:Global_CO2_emissions_and_probabilistic_temperature_outcomes_of_Paris.png#/media/File:Global_CO2_emissions_and_probabilistic_temperature_outcomes_of_Paris.png\"><img src=\"https://upload.wikimedia.org/wikipedia/commons/thumb/4/44/Global_CO2_emissions_and_probabilistic_temperature_outcomes_of_Paris.png/1200px-Global_CO2_emissions_and_probabilistic_temperature_outcomes_of_Paris.png\" alt=\"Global CO2 emissions and probabilistic temperature outcomes of Paris.png\"></a><br>By This panel, “Emission Pathways”, is an adapted figure provided by Jae Edmonds. The original figure is found in: A.A. Fawcett, G.C. Iyer, L.E. Clarke, J.A. Edmonds, N.E. Hultman, H.C. McJeon, J. Rogeli, R. Schuler, J. Alsalam, G.R. Asrar, J. Creason, M. Jeong, J. McFarland, A. Mundra, and W. Shi, 2015: Can Paris pledges avert severe climate change? Science, 350 6266,1168-1169. The figure version presented here was adapted from the original as follows: For panel #1; The faint lines representing the emissions trajectories were removed. For panel #2; The Illustrative 50% likelihood projection was removed from the bottom of the chart. - The source for the diagram given in the report is U.S. Global Change Research Program: Climate Science Special Report, Fourth National Climate Assessment (NCA4), Volume I, chapter 14.2.\n",
    "<a rel=\"nofollow\" class=\"external free\" href=\"https://science2017.globalchange.gov/\">https://science2017.globalchange.gov/</a>, Public Domain, <a href=\"https://commons.wikimedia.org/w/index.php?curid=69337764\">Link</a></p>"
   ]
  },
  {
   "cell_type": "markdown",
   "metadata": {},
   "source": [
    "### EPA and the environment\n",
    "\n",
    "The EPA's ability to regulate is mostly controlled by its available budget. \n",
    "\n",
    "[https://www.epa.gov/planandbudget/budget](https://www.epa.gov/planandbudget/budget)\n",
    "\n",
    "\n",
    "### NRC  and the environment\n",
    "![http://www.nrc.gov/images/reading-rm/doc-collections/maps/nrc-regions-text.png](http://www.nrc.gov/images/reading-rm/doc-collections/maps/nrc-regions-text.png)\n",
    "\n",
    "### State Level NRC\n",
    "![https://scp.nrc.gov/includes/usmapAS.gif](https://scp.nrc.gov/includes/usmapAS.gif)\n",
    "\n",
    "Agreement states, non-agreement states, and letter of intent states."
   ]
  },
  {
   "cell_type": "markdown",
   "metadata": {},
   "source": [
    "## Energy Return on Investment\n",
    "\n",
    "\\begin{align}\n",
    "EROI =\\frac{\\mbox{energy generated}}{\\mbox{energy required to generate that energy}}\n",
    "\\end{align}\n",
    "\n"
   ]
  },
  {
   "cell_type": "code",
   "execution_count": 7,
   "metadata": {},
   "outputs": [
    {
     "data": {
      "text/html": [
       "\n",
       "        <iframe\n",
       "            width=\"100%\"\n",
       "            height=\"700\"\n",
       "            src=\"https://embed.polleverywhere.com/free_text_polls/n8QhU2s2gia0Qu6?controls=none&short_poll=true?frameBorder=0\"\n",
       "            frameborder=\"0\"\n",
       "            allowfullscreen\n",
       "        ></iframe>\n",
       "        "
      ],
      "text/plain": [
       "<IPython.lib.display.IFrame at 0x1040f8e10>"
      ]
     },
     "execution_count": 7,
     "metadata": {},
     "output_type": "execute_result"
    }
   ],
   "source": [
    "from IPython.display import IFrame\n",
    "IFrame(src=\"https://embed.polleverywhere.com/free_text_polls/n8QhU2s2gia0Qu6?controls=none&short_poll=true\", width=\"100%\", height=\"700\", frameBorder=\"0\")"
   ]
  },
  {
   "cell_type": "markdown",
   "metadata": {},
   "source": [
    "Very cool whitepaper on nuclear power plant material use:\n",
    "    [http://fhr.nuc.berkeley.edu/wp-content/uploads/2014/10/05-001-A_Material_input.pdf](http://fhr.nuc.berkeley.edu/wp-content/uploads/2014/10/05-001-A_Material_input.pdf)\n",
    "    \n",
    "> In nuclear energy systems, the major construction inputs are steel and concrete, which comprise\n",
    "over 95% of the material energy inputs. The evaluation of construction material inputs is central to lifecycle\n",
    "assessments for environmental impacts for nuclear and other non-fossil energy systems, and can\n",
    "provide a useful, if only qualitative, plausibility check for economics claims. This paper compares steel\n",
    "and concrete inputs for several nuclear power plants: a 1970's Generation II PWR and BWR, the\n",
    "Generation III EPR and ABWR, the Generation III+ ESBWR, and the Generation IV GT-MHR, PBMR\n",
    "(vertical), and AHTR. The steel and concrete input estimates for the Generation III, III+, and IV\n",
    "systems are based on available arrangement drawings, and on scaling laws, and thus are approximate.\n",
    "However, they show that the evolutionary Generation III plants—EPR and ABWR—use approximately\n",
    "25% more steel and 70% more concrete than 1970’s LWRs. This may explain, in part, the relatively\n",
    "large capital costs that have been observed for these plants. In contrast, the passive Generation III+\n",
    "LWRs that have been selected for new construction in the United States by Nustart—ESBWR and AP-\n",
    "1000—achieve substantial reductions in steel and concrete inputs. For example, analysis presented\n",
    "here suggests that the ESBWR uses 73% of the steel, and 50% of the concrete required to construct an\n",
    "ABWR. This suggests that new Generation III+ nuclear power construction in the U.S. will have\n",
    "substantially lower capital costs than was found with Generation III LWRs. This study also shows that\n",
    "the advanced gas-Brayton cycle technology that will be demonstrated by the Next Generation Nuclear\n",
    "Plant (NGNP) has the potential to achieve comparable material inputs to LWRs at much smaller unit\n",
    "capacities, and when extrapolated to larger reactors, to further reductions in steel and concrete input"
   ]
  },
  {
   "cell_type": "markdown",
   "metadata": {},
   "source": [
    "## Carbon Emissions\n",
    "\n",
    "![./carbon_eia.png](./carbon_eia.png)"
   ]
  },
  {
   "cell_type": "code",
   "execution_count": 2,
   "metadata": {},
   "outputs": [
    {
     "data": {
      "text/html": [
       "\n",
       "        <iframe\n",
       "            width=\"100%\"\n",
       "            height=\"700\"\n",
       "            src=\"https://www.eia.gov/tools/faqs/faq.cfm?id=74&t=11\"\n",
       "            frameborder=\"0\"\n",
       "            allowfullscreen\n",
       "        ></iframe>\n",
       "        "
      ],
      "text/plain": [
       "<IPython.lib.display.IFrame at 0x1040d9390>"
      ]
     },
     "execution_count": 2,
     "metadata": {},
     "output_type": "execute_result"
    }
   ],
   "source": [
    "IFrame(src=\"https://www.eia.gov/tools/faqs/faq.cfm?id=74&t=11\", width=\"100%\", height=\"700\")\n"
   ]
  },
  {
   "cell_type": "code",
   "execution_count": 3,
   "metadata": {
    "scrolled": true
   },
   "outputs": [
    {
     "data": {
      "text/html": [
       "\n",
       "        <iframe\n",
       "            width=\"100%\"\n",
       "            height=\"1000\"\n",
       "            src=\"https://www.eia.gov/electricity/annual/html/epa_a_03.html\"\n",
       "            frameborder=\"0\"\n",
       "            allowfullscreen\n",
       "        ></iframe>\n",
       "        "
      ],
      "text/plain": [
       "<IPython.lib.display.IFrame at 0x1040d9810>"
      ]
     },
     "execution_count": 3,
     "metadata": {},
     "output_type": "execute_result"
    }
   ],
   "source": [
    "IFrame(src=\"https://www.eia.gov/electricity/annual/html/epa_a_03.html\", width=\"100%\", height=1000)"
   ]
  },
  {
   "cell_type": "code",
   "execution_count": 4,
   "metadata": {},
   "outputs": [
    {
     "data": {
      "text/html": [
       "\n",
       "        <iframe\n",
       "            width=\"100%\"\n",
       "            height=\"700\"\n",
       "            src=\"http://www.eia.gov/electricity/annual/html/epa_08_02.html\"\n",
       "            frameborder=\"0\"\n",
       "            allowfullscreen\n",
       "        ></iframe>\n",
       "        "
      ],
      "text/plain": [
       "<IPython.lib.display.IFrame at 0x1040d9d50>"
      ]
     },
     "execution_count": 4,
     "metadata": {},
     "output_type": "execute_result"
    }
   ],
   "source": [
    "IFrame(src=\"http://www.eia.gov/electricity/annual/html/epa_08_02.html\", width=\"100%\", height=700)"
   ]
  },
  {
   "cell_type": "markdown",
   "metadata": {},
   "source": [
    "## References\n",
    "\n",
    "This section was developed to complement Ch 12 of [1]. \n",
    "\n",
    "[1] N. Tsoulfanidis, The Nuclear Fuel Cycle. La Grange Park, Illinois, USA: American Nuclear Society, 2013.\n"
   ]
  }
 ],
 "metadata": {
  "anaconda-cloud": {},
  "kernelspec": {
   "display_name": "Python 3",
   "language": "python",
   "name": "python3"
  },
  "language_info": {
   "codemirror_mode": {
    "name": "ipython",
    "version": 3
   },
   "file_extension": ".py",
   "mimetype": "text/x-python",
   "name": "python",
   "nbconvert_exporter": "python",
   "pygments_lexer": "ipython3",
   "version": "3.7.6"
  }
 },
 "nbformat": 4,
 "nbformat_minor": 1
}
