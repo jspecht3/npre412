{
 "cells": [
  {
   "cell_type": "code",
   "execution_count": 1,
   "metadata": {},
   "outputs": [],
   "source": [
    "%matplotlib notebook\n",
    "%matplotlib inline\n",
    "import math\n",
    "import matplotlib.pyplot as plt"
   ]
  },
  {
   "cell_type": "markdown",
   "metadata": {},
   "source": [
    "# Nuclear Fuel Resources, Mining, and Milling\n",
    "\n",
    "**Mining:** Nuclear fuel starts as natural uranium or thorium deposits in the earth. This material can be mined from the ground or even extracted from the sea. \n",
    "\n",
    "**Milling:** and other chemical and physical processes then follow in order to produce a uniform, concentrated material. In the case of Uranium, the product is called 'yellowcake'.\n",
    "\n",
    "## Learning Objectives\n",
    "\n",
    "This lesson should equip you to:\n",
    "\n",
    "- Describe the extent, geography, and characteristics of uranium and thorium resources.\n",
    "- Understand various methods of prospecting.\n",
    "- Differentiate various methods for uranium extraction.\n",
    "- Model the economic relationship between uranium resources and extraction price.\n",
    "- Apply decay energy calculations to the Radon decay chain.\n",
    "- Evaluate the radiation danger associated with uranium mining. \n",
    "- Calculate radition exposure for mine workers.\n",
    "- Understand the process in milling operations.\n",
    "- Recognize the chemical form of yellowcake and its role in the fuel cycle.\n",
    "\n"
   ]
  },
  {
   "cell_type": "markdown",
   "metadata": {},
   "source": [
    "# Uranium Resources\n",
    "\n",
    "There are important distinctions between production, supply, known reserves, and estimated resources. The book makes the distinction, further, among  \"probable,\" \"possible,\" and \"speculative\" resources. \n",
    "\n",
    "\n",
    "\n",
    "## Geography of Uranium Resources\n",
    "\n",
    "![https://upload.wikimedia.org/wikipedia/commons/1/1a/Uranium_production_world.PNG](https://upload.wikimedia.org/wikipedia/commons/1/1a/Uranium_production_world.PNG)\n",
    "\n",
    "\n",
    "\n",
    "| Mine | Country | Main owner | Type | Production (tU) | % of world |\n",
    "| ------------ |:-------------:|:-------------:|:-------------:|:-------------:|:-------------:|\n",
    "| McArthur River | Canada | Cameco | underground | 7356 | 13 |\n",
    "| Tortkuduk & Moinkum | Kazakhstan | Katco JV/Areva, Kazatomprom | ISL | 4322 | 8 |\n",
    "| Olympic Dam | Australia | BHP Billiton | by-product/underground | 3351 | 6 |\n",
    "|  SOMAIR | Niger | Areva | open pit | 2331 | 5 |\n",
    "| Budenovskoye 2 | Kazakhstan | Karatau JV/Kazatomprom, Uranium One | ISL | 2084 | 4 |\n",
    "| South Inkai | Kazakhstan | Betpak Dala JV/Uranium One, Kazatomprom | ISL | 2002 | 4 |\n",
    "| Priagunsky | Russia | ARMZ | underground | 1970 | 4 |\n",
    "| Langer Heinrich | Namibia | Paladin | open pit | 1947 | 4 |\n",
    "| Inkai | Kazakhstan | Inkai JV/Cameco, Kazatomprom | ISL | 1922 | 3 |\n",
    "| Central Mynkuduk | Kazakhstan | JSC Ken Dala, Kazatomprom | ISL | 1790 | 3 |\n",
    "| Top 10 total |   | | | 29,075 | 54% |\n",
    "<center>[Source: WNA](http://www.world-nuclear.org/information-library/nuclear-fuel-cycle/mining-of-uranium/uranium-mining-overview.aspx)</center>\n",
    "\n",
    "## Geology of Uranium Resources\n",
    "\n",
    "\n",
    "### Grades of Uranium Ore\n",
    "Uranium deposits are found in different \"grades\" of ore. The \"grade\" is the mass percentage of the rock that is made up of elemental uranium. \n",
    "\n",
    "| Ore Grade        | PPM  |\n",
    "| ------------- |:-------------:|\n",
    "| Very high-grade ore (Canada) – 20% U\t| 200,000 ppm U\n",
    "| High-grade ore – 2% U,\t| 20,000 ppm U |\n",
    "| Low-grade ore – 0.1% U, |\t1,000 ppm U |\n",
    "| Very low-grade ore* (Namibia) – 0.01% U\t| 100 ppm U |\n",
    "| Granite\t| 3-5 ppm U |\n",
    "| Sedimentary rock\t| 2-3 ppm U |\n",
    "| Earth's continental crust (av)\t| 2.8 ppm U |\n",
    "| Seawater |\t0.003 ppm U |\n",
    "<center>[Source: WNA](http://www.world-nuclear.org/information-library/nuclear-fuel-cycle/uranium-resources/supply-of-uranium.aspx)</center>"
   ]
  },
  {
   "cell_type": "code",
   "execution_count": 2,
   "metadata": {},
   "outputs": [],
   "source": [
    "def U(U_0, z):\n",
    "    \"\"\"Uranium concentration as a function of depth.\n",
    "    :param U_0: concentration at surface in ppm\n",
    "    :param z: depth\n",
    "    :return c: concentration at depth z\"\"\"\n",
    "    c = U_0*math.exp(-z/6300)\n",
    "    return c"
   ]
  },
  {
   "cell_type": "code",
   "execution_count": 3,
   "metadata": {},
   "outputs": [],
   "source": [
    "b = range(1, 1000, 5)\n",
    "to_plot = [U(2.8, z) for z in b]"
   ]
  },
  {
   "cell_type": "code",
   "execution_count": 4,
   "metadata": {
    "scrolled": true
   },
   "outputs": [
    {
     "data": {
      "text/plain": [
       "Text(0.5, 0, 'Depth [m]')"
      ]
     },
     "execution_count": 4,
     "metadata": {},
     "output_type": "execute_result"
    },
    {
     "data": {
      "image/png": "[encoded data removed]",
      "text/plain": [
       "<Figure size 432x288 with 1 Axes>"
      ]
     },
     "metadata": {
      "needs_background": "light"
     },
     "output_type": "display_data"
    }
   ],
   "source": [
    "plt.plot(to_plot)\n",
    "plt.title('Uranium Concentration as a Function of Depth')\n",
    "plt.ylabel('Uranium Concentration (ppm)')\n",
    "plt.xlabel('Depth [m]')"
   ]
  },
  {
   "cell_type": "markdown",
   "metadata": {},
   "source": [
    "## Extent of Uranium Resources\n",
    "\n",
    "Uranium production was at one point far ahead of demand. \n",
    "Recently, mining follows demand a bit more closely.\n",
    "\n",
    "![http://www.world-nuclear.org/uploadedImages/org/info/world_uranium_production_and_demand.png](http://www.world-nuclear.org/uploadedImages/org/info/world_uranium_production_and_demand.png)\n",
    "\n",
    "And, we know that there is a lot more out there.\n",
    "\n",
    "|   Nation  | tonnes U | percentage of world |\n",
    "| ------------ |:-------------:|:-------------:|\n",
    "|  Australia | 1,706,100 | 29% |\n",
    "|  Kazakhstan | 679,300 | 12% |\n",
    "|  Russia | 505,900 | 9% |\n",
    "|  Canada | 493,900 | 8% |\n",
    "|  Niger | 404,900 | 7% |\n",
    "|  Namibia | 382,800 | 6% |\n",
    "|  South Africa | 338,100 | 6% |\n",
    "|  Brazil | 276,100 | 5% |\n",
    "|  USA | 207,400 | 4% |\n",
    "|  China | 199,100 | 4% |\n",
    "|  Mongolia | 141,500 | 2% |\n",
    "|  Ukraine | 117,700 | 2% |\n",
    "|  Uzbekistan | 91,300 | 2% |\n",
    "|  Botswana | 68,800 | 1% |\n",
    "|  Tanzania | 58,500 | 1% |\n",
    "|  Jordan | 40,000 | 1% |\n",
    "|  Other | 191,500 | 3% |\n",
    "|  World total | 5,902,900 |  100% |\n",
    "<center>[Reasonably Assured Resources, Source: WNA](http://www.world-nuclear.org/information-library/nuclear-fuel-cycle/mining-of-uranium/world-uranium-mining-production.aspx)</center>"
   ]
  },
  {
   "cell_type": "markdown",
   "metadata": {
    "collapsed": true
   },
   "source": [
    "## Prospecting\n",
    "\n",
    "- Geologic Study \n",
    "\n",
    "![http://d32ogoqmya1dw8.cloudfront.net/images/research_education/nativelands/UraniumDeposits.jpg](http://d32ogoqmya1dw8.cloudfront.net/images/research_education/nativelands/UraniumDeposits.jpg)\n",
    "\n",
    "- Botanical Study\n",
    "\n",
    "![http://labs.bio.unc.edu/Peet/PEL/PGE/PGE2004/Grand%20Canyon%20pics%20047.jpg](http://labs.bio.unc.edu/Peet/PEL/PGE/PGE2004/Grand%20Canyon%20pics%20047.jpg)\n",
    "\n",
    "- Airborne Study \n",
    "\n",
    "![http://geosiamservices.com/wp-content/uploads/2015/07/Airborne02.png](http://geosiamservices.com/wp-content/uploads/2015/07/Airborne02.png)\n",
    "\n",
    "\n",
    "- Surface Study\n",
    "![https://wallaceterrycjr.files.wordpress.com/2015/09/prospecting-pic-2a.jpg?w=640](https://wallaceterrycjr.files.wordpress.com/2015/09/prospecting-pic-2a.jpg?w=640)\n",
    "\n",
    "- Well Logging\n",
    "\n",
    "\n",
    "\n",
    "![https://www.frontier-cf252.com/wp-content/uploads/oandg-large.jpg](https://www.frontier-cf252.com/wp-content/uploads/oandg-large.jpg)\n",
    "\n",
    "### Gamma Decay Review\n",
    "\n",
    "Radiometric measurements are typically taken from the air by a gamma ray detector.\n",
    "\n",
    "![http://geosiamservices.com/wp-content/uploads/2015/07/radiometric005.jpg](http://geosiamservices.com/wp-content/uploads/2015/07/radiometric005.jpg)\n",
    "\n",
    "\n",
    "\n",
    "\n",
    "![http://energyeducation.ca/wiki/images/4/4d/Gamma.png](http://energyeducation.ca/wiki/images/4/4d/Gamma.png)\n",
    "\n",
    "\n",
    "### Discussion: What naturally occurring elements have reasonably detectable gamma decays?\n",
    "\n",
    "\n",
    "&nbsp;\n",
    "\n",
    "\n",
    "&nbsp;\n",
    "\n"
   ]
  },
  {
   "cell_type": "markdown",
   "metadata": {},
   "source": [
    "## Open Pit Mining\n",
    "\n",
    "![http://www.abc.net.au/news/image/3673784-3x2-940x627.jpg](http://www.abc.net.au/news/image/3673784-3x2-940x627.jpg)\n",
    "\n",
    "## Underground Mining\n",
    "\n",
    "![https://upload.wikimedia.org/wikipedia/commons/5/57/UraniumMineUtah.JPG](https://upload.wikimedia.org/wikipedia/commons/5/57/UraniumMineUtah.JPG)\n",
    "<center>Mi Vida uranium mine in Moab, UT</center>\n",
    "\n",
    "### Radon\n",
    "\n",
    "![https://upload.wikimedia.org/wikipedia/commons/6/65/Decay_chain%284n%2B2%2C_Uranium_series%29.svg](https://upload.wikimedia.org/wikipedia/commons/6/65/Decay_chain%284n%2B2%2C_Uranium_series%29.svg)"
   ]
  },
  {
   "cell_type": "markdown",
   "metadata": {},
   "source": [
    "### Discussion: If the daughters of radon are solids, how do they get into your lungs?\n",
    "\n",
    "\n",
    "\n",
    "### Discussion: Given this, what methods, in addition to moving the air around, might mitigate recieved dose?\n",
    "\n",
    "\n",
    "![https://upload.wikimedia.org/wikipedia/commons/c/c6/A_miner_hauling_a_car_of_silver_radium_ore%2C_340_feet_below_the_surface%2C_Eldorado_Mine_of_Great_Bear_Lake.jpg](https://upload.wikimedia.org/wikipedia/commons/c/c6/A_miner_hauling_a_car_of_silver_radium_ore%2C_340_feet_below_the_surface%2C_Eldorado_Mine_of_Great_Bear_Lake.jpg)\n",
    "\n",
    "&nbsp;\n",
    "\n",
    "\n",
    "&nbsp;"
   ]
  },
  {
   "cell_type": "markdown",
   "metadata": {},
   "source": [
    "### Working Level\n",
    "\n",
    "The working level is a unit of measurement for radon exposure. Alpha particles from radon and its progeny (daughters) are ionizing radiation and damage the DNA of the cells of your lungs, sometimes leading to cancer. \n",
    "\n",
    "The radon progeny in equilibrium with $100 \\frac{pCi}{L}$ radon gas at a mine would typically release approximately 130,000 MeV alpha energy in decay, so the WL was defined as:\n",
    "\n",
    "\\begin{align}\n",
    "1 WL &= 130,000\\frac{MeV}{L} \\mbox{ alpha energy from radon + daughters}\\\\\n",
    "     &= 20.8 \\frac{\\mu J}{m^3} \\mbox{ alpha energy from radon + daughters}\\\\\n",
    "\\end{align}\n",
    "\n",
    "The nominal working hours per month assume 40 hours per week and 4.25 weeks per month. Accordingly, the working level month (WLM) was introduced:\n",
    "\n",
    "\\begin{align}\n",
    "WLM &= \\mbox{Working Level Month}\\\\\n",
    "    &= \\mbox{1 WL exposure for 170 hours}\\\\\n",
    "1 WLM &= 170 x 20.8 = 3.54 \\frac{\\mu J h}{m^3}\\\\ \n",
    "\\end{align}\n",
    "\n",
    "Note that for conversion's sake:\n",
    "\n",
    "\\begin{align}\n",
    "17,000\\frac{pCi h}{L} &= 1 WLM\\\\\n",
    "1\\frac{pCi h}{L} &= 59 \\mu WLM\n",
    "\\end{align}"
   ]
  },
  {
   "cell_type": "code",
   "execution_count": 6,
   "metadata": {},
   "outputs": [
    {
     "name": "stdout",
     "output_type": "stream",
     "text": [
      "2.0  working level \n",
      "4.0  working level months\n"
     ]
    }
   ],
   "source": [
    "r = 2*1.3e5 # energy from alphas emitted by radon + progeny [MeV/L] \n",
    "h = 40*4.25*2 # working hours\n",
    "wl = 1.3e5 # worker level in [MeV/L]\n",
    "\n",
    "print((r/wl), \" working level \")\n",
    "print((r/wl)*(h/170), \" working level months\")"
   ]
  },
  {
   "cell_type": "markdown",
   "metadata": {},
   "source": [
    "## Energy vs. Rate of decays \n",
    "\n",
    "Radiation energy is measured in **electronvolts (eV), megaelectronvolts (MeV)** for convenience, and **Joules (J)**:\n",
    "\n",
    "\\begin{align}\n",
    "1 J &= 6.242\\times10^{12} MeV\\\\\n",
    "1 \\frac{J}{s} &= 1 W\\\\\n",
    "\\end{align}\n",
    "\n",
    "**Becquerels (Bq)** or **Curies (Ci)** measure the rate of decays from a source : \n",
    "\\begin{align}\n",
    "1 Bq &= \\frac{\\mbox{emission}}{s}\\\\\n",
    "1 Ci &= 37 GBq\\\\ \n",
    "     &= 37000 MBq\\\\\n",
    "1 Bq &= 27 pCi\\\\\n",
    "     &= 27\\times10^{-12}Ci\\\\\n",
    "\\end{align}\n",
    "\n",
    "### Discussion: What is another name for this rate?\n",
    "\n",
    "\n",
    "To convert between these, one must consider the energy per emission. \n",
    "\n",
    "### Calculation of Alpha Decay Energy\n",
    "\n",
    "Calculate the energy Q, in MeV, released during the alpha \n",
    "decay $^{ZZZ}I_i \\stackrel{\\alpha}{\\longrightarrow} {^{YYY}}I_d$:\n",
    "\n",
    "\\begin{align}\n",
    "                        m_i &= \\mbox{initial mass }[u]\\nonumber\\\\\n",
    "                        m_f &= \\mbox{final mass }[u]\\nonumber\\\\\n",
    "                            &= \\mbox{mass of daughter + mass of alpha }[u]\\nonumber\\\\\n",
    "                            &= m_d + m_{\\alpha}\\\\\n",
    "                        m_d &= \\mbox{mass of daughter}[u]\\nonumber\\\\\n",
    "                        m_{\\alpha} &= \\mbox{mass of alpha }[u]\\nonumber\\\\\n",
    "                        Q\\left[\\frac{u\\cdot m^2}{s^2}\\right] &= m_ic^2 - m_fc^2\\nonumber\\\\\n",
    "\\end{align}\n",
    "\n",
    "\n",
    "This equation will be used for all alpha decay calculations. These \n",
    "will only vary in the masses. Masses, however, are typically expressed in units of amu (or, u).\n",
    "\n",
    "\n",
    "\\begin{align*}\n",
    "                        m_{\\alpha} &= m_{\\alpha} [u]\\\\\n",
    "                        m_i &= m_{I_i} [u]\\\\\n",
    "                        m_d &= m_{I_f} [u]\\\\\n",
    "                 Q[MeV] &= (m_i - m_f)c^2\\left(931.494 \\frac{MeV}{c^2u}\\right)\\\\ \n",
    "                        &= (m_i - m_d - m_{\\alpha})\\left(931.494\\right)\\\\\n",
    "                 Q[MeV] &= 931.494\\left(m_i - m_d - m_{\\alpha}\\right)\\\\ \n",
    "\\end{align*}\n",
    "\n",
    "The energy released in alpha decay is converted into kinetic energy of the two final particles (daughter and alpha). Recall that kinetic energy is $\\frac{1}{2}mv^2$, so if the energy is split, the speed of the alpha particle will be significantly higher than the speed of the (much larger, typically) daughter particle.\n"
   ]
  },
  {
   "cell_type": "markdown",
   "metadata": {},
   "source": [
    "### A Note on Radiation Weighting Factors\n",
    "\n",
    "The conversion from energy to biological effect is complex. First, one must calculate absorbed dose $D_T$, the amount of energy from ionizing radiation actually deposited in tissue. \n",
    "\n",
    "\\begin{align}\n",
    "D_T = \\frac{\\Delta \\epsilon}{\\Delta m}\\\\\n",
    "\\Delta \\epsilon = \\mbox{ energy deposited }\\\\\n",
    "\\Delta m = \\mbox{ mass of tissue }\n",
    "\\end{align}"
   ]
  },
  {
   "cell_type": "code",
   "execution_count": 7,
   "metadata": {},
   "outputs": [],
   "source": [
    "def absorbed_dose(del_eps, del_m):\n",
    "    return del_eps/del_m"
   ]
  },
  {
   "cell_type": "markdown",
   "metadata": {},
   "source": [
    "The biological effect is related to the dose and depends on the nature of the\n",
    "radiation.\n",
    "\n",
    "![https://upload.wikimedia.org/wikipedia/commons/0/03/SI_Radiation_dose_units.png](https://upload.wikimedia.org/wikipedia/commons/0/03/SI_Radiation_dose_units.png)\n",
    "\n",
    "\n",
    "The ICRP has suggested a quantifying factor that translates from energy to dose. \n",
    "\n",
    "- (1991). \"1990 Recommendations of the International Commission on Radiological Protection\". Annals of the ICRP 21 (1-3). Retrieved on 17 May 2012.\n",
    "- (2007). \"The 2007 Recommendations of the International Commission on Radiological Protection\". Annals of the ICRP 37 (2-4). Retrieved on 17 May 2012.\n",
    "\n",
    "| Radiation | Radiation Energy Weighting Factor WR (formerly Q)            |\n",
    "|:-----------:|:-----------------------------------------------------------:|\n",
    "| x-rays, gammas, betas, muons | $1$ |\n",
    "| neutrons (< 1 MeV)                  | $2.5 + 18.2\\cdot e-\\frac{[ln(E)]^2}{6}$ |\n",
    "| neutrons (1 - 50 MeV) | $5.0 + 17.0\\cdot e-\\frac{[ln(2\\cdot E)]^2}{6}$ |\n",
    "| neutrons (> 50 MeV)      | $2.5 + 3.25\\cdot e-\\frac{[ln(0.04\\cdot E)]^2}{6}$  |\n",
    "| protons, charged pions | 2 |\n",
    "| alphas, fission products, heavy nuclei | 20 |\n",
    "\n"
   ]
  },
  {
   "cell_type": "markdown",
   "metadata": {},
   "source": [
    "![](https://www.nap.edu/openbook/11340/xhtml/images/p2000e6f3g5001.jpg)\n",
    "![](https://www.nap.edu/openbook/11340/xhtml/images/p2000e6f3g4001.jpg)"
   ]
  },
  {
   "cell_type": "markdown",
   "metadata": {},
   "source": [
    "Epidemiological studies vary on the factors for both dose conversion and risk from dose from various sources. There is a nice recent study on what we know. [http://www.ncbi.nlm.nih.gov/pubmed/27334644](http://www.ncbi.nlm.nih.gov/pubmed/27334644)\n",
    "\n",
    "\n",
    "![./exposure_to_dose](./exposure_to_dose.png)\n",
    "\n",
    "\n",
    "\n",
    "\n",
    "### Discussion: What are the key takeaways from this review of Underground Mining ?\n",
    "\n",
    "- .Radon gas is a big issue, so you have to be careful if you're a miner. \n",
    "- .Have a very dense lung... \n",
    "- .wear a mask\n",
    "- .keep in mind of the countries with thier underground mining and resources.\n",
    "- WL & WLM\n",
    "- you can calculate the energy of the alphas\n",
    "\n"
   ]
  },
  {
   "cell_type": "markdown",
   "metadata": {},
   "source": [
    "## In Situ Leaching\n",
    "![https://upload.wikimedia.org/wikipedia/commons/9/92/NRC_Uranium_In_Situ_Leach.png](https://upload.wikimedia.org/wikipedia/commons/9/92/NRC_Uranium_In_Situ_Leach.png)\n",
    "￼\n",
    "![http://bloximages.chicago2.vip.townnews.com/trib.com/content/tncms/assets/v3/editorial/d/38/d38a276b-f0df-5522-bd9d-9e6b0a00759f/4c93921010ecf.image.jpg](http://bloximages.chicago2.vip.townnews.com/trib.com/content/tncms/assets/v3/editorial/d/38/d38a276b-f0df-5522-bd9d-9e6b0a00759f/4c93921010ecf.image.jpg)\n",
    "\n",
    "From [WNA](http://www.world-nuclear.org/information-library/nuclear-fuel-cycle/mining-of-uranium/in-situ-leach-mining-of-uranium.aspx):\n",
    "\n",
    "> In 2013, 47% of world uranium mined was from ISL operations. Most uranium mining in the USA, Kazakhstan and Uzbekistan is now by in situ leach methods, also known as in situ recovery (ISR).\n",
    "\n",
    "\n",
    "\n",
    "### Discussion: What are some benefits and drawbacks of in situ leaching?\n"
   ]
  },
  {
   "cell_type": "markdown",
   "metadata": {},
   "source": [
    "### Uranium in Seawater\n",
    "\n",
    "Great presentation by expert professor Erich Schneider. [http://www-pub.iaea.org/iaeameetings/cn216pn/Thursday/Session13/180-Schneider.pdf](http://www-pub.iaea.org/iaeameetings/cn216pn/Thursday/Session13/180-Schneider.pdf) .\n",
    "\n",
    "---\n",
    "\n",
    "![https://thumbor.forbes.com/thumbor/690x1689/https://blogs-images.forbes.com/jamesconca/files/2016/06/ORNL-U-sea.jpg?width=960](https://thumbor.forbes.com/thumbor/690x1689/https://blogs-images.forbes.com/jamesconca/files/2016/06/ORNL-U-sea.jpg?width=960)\n",
    "\n",
    "---\n",
    "\n",
    "![https://thumbor.forbes.com/thumbor/960x0/https%3A%2F%2Fblogs-images.forbes.com%2Fjamesconca%2Ffiles%2F2016%2F03%2FEV478_ORNL_HiCap.jpg](https://thumbor.forbes.com/thumbor/960x0/https%3A%2F%2Fblogs-images.forbes.com%2Fjamesconca%2Ffiles%2F2016%2F03%2FEV478_ORNL_HiCap.jpg)\n",
    "\n",
    "---\n",
    "\n",
    "![schneider_seawater.png](./schneider_seawater.png)\n",
    "\n",
    "---\n",
    "\n",
    "\\begin{align}\n",
    "y &= \\frac{\\beta_{max} t}{K_D + t}\\\\\n",
    "y &= \\mbox{uranium uptake} \\left[\\frac{g_U}{kg_{ads}}\\right]\\\\\n",
    "\\beta_{max} &= \\mbox{saturation capacity } \\left[\\frac{g_U}{kg_{ads}}\\right]\\\\\n",
    "K_D &= \\mbox{half saturation time }[d]\\\\\n",
    "t &= \\mbox{exposure time }[d]\\\\\n",
    "\\end{align}"
   ]
  },
  {
   "cell_type": "code",
   "execution_count": 8,
   "metadata": {},
   "outputs": [
    {
     "data": {
      "text/plain": [
       "<matplotlib.text.Text at 0x1181304a8>"
      ]
     },
     "execution_count": 8,
     "metadata": {},
     "output_type": "execute_result"
    },
    {
     "data": {
      "image/png": "[encoded data removed]",
      "text/plain": [
       "<matplotlib.figure.Figure at 0x116095b38>"
      ]
     },
     "metadata": {},
     "output_type": "display_data"
    }
   ],
   "source": [
    "def uptake(beta_max, k_d, t):\n",
    "    return beta_max*t/(k_d+t)\n",
    "\n",
    "beta_max = 48.9\n",
    "k_d = 28.0\n",
    "\n",
    "import numpy as np\n",
    "y = np.arange(0.0,100.0)\n",
    "\n",
    "for t in range(0, 100):\n",
    "    y[t] = uptake(beta_max, k_d, t)\n",
    "    \n",
    "plt.plot(y)\n",
    "plt.ylabel(r'Uranium uptake $\\left[\\frac{g_U}{kg_{ads}}\\right]$', fontsize=20)\n",
    "plt.xlabel(r'Time $\\left[d\\right]$', fontsize=20)\n",
    "\n"
   ]
  },
  {
   "cell_type": "markdown",
   "metadata": {
    "collapsed": true
   },
   "source": [
    "\n",
    "## Thorium Resources\n",
    "\n",
    "![https://universe-review.ca/I14-03-thorium.jpg](https://universe-review.ca/I14-03-thorium.jpg)\n",
    "\n",
    "![http://web.mit.edu/12.000/www/m2016/finalwebsite/solutions/assets/deposits-thorium.jpg](http://web.mit.edu/12.000/www/m2016/finalwebsite/solutions/assets/deposits-thorium.jpg)\n",
    "[Source: http://minerals.usgs.gov/minerals/pubs/commodity/thorium/690397.pdf](http://minerals.usgs.gov/minerals/pubs/commodity/thorium/690397.pdf): Where's Turkey?\n",
    "\n",
    "\n",
    "![http://web.mit.edu/12.000/www/m2016/finalwebsite/solutions/assets/deposits-5.jpg](http://web.mit.edu/12.000/www/m2016/finalwebsite/solutions/assets/deposits-5.jpg)\n",
    "\n",
    "\n",
    "![http://www.ga.gov.au/__data/assets/image/0016/41533/AERA-6_01-800.jpg](http://www.ga.gov.au/__data/assets/image/0016/41533/AERA-6_01-800.jpg)\n",
    "\n",
    "![http://pandoraspromise.com/wp-content/uploads/2013/05/still_41.jpg](http://pandoraspromise.com/wp-content/uploads/2013/05/still_41.jpg)\n",
    "\n",
    "This reading from the black monazite rich beach in Brazil, is in units of $\\frac{\\mu Sv}{h}$. Typical background radiation is around $0.3\\frac{\\mu Sv}{h}$."
   ]
  },
  {
   "cell_type": "markdown",
   "metadata": {
    "collapsed": true
   },
   "source": [
    "## Milling\n",
    "\n",
    "Milling is the process of concentrating uranium ore into a substance known as yellow cake, concentrated $U_3O_8$. \n",
    "\n",
    "\n",
    "\n",
    "![https://geoinfo.nmt.edu/resources/uranium/images/uraniummill.gif](https://geoinfo.nmt.edu/resources/uranium/images/uraniummill.gif)\n",
    "\n",
    "\n",
    "For open pit or underground mining, the first step is to crush the material. The second step is to dissolve out the uranium. This is not a pretty industrial process.\n",
    "\n",
    "![https://upload.wikimedia.org/wikipedia/commons/1/1d/NRC_Uranium_Heap_Leach.png](https://upload.wikimedia.org/wikipedia/commons/1/1d/NRC_Uranium_Heap_Leach.png)\n",
    "\n",
    "\n",
    "However, for ISL, the material is already in liquid form (because the leaching chemistry already occurred underground.) \n",
    "\n",
    "![http://www.world-nuclear.org/uploadedImages/org/info/isloveralldiag.gif](http://www.world-nuclear.org/uploadedImages/org/info/isloveralldiag.gif)\n",
    "\n",
    "\n",
    "ISL Ion Exchange uses resin beads to separate the $U_3O_8$.\n",
    "\n",
    "![https://upload.wikimedia.org/wikipedia/commons/0/08/Ion_exchange_resin_beads.jpg](https://upload.wikimedia.org/wikipedia/commons/0/08/Ion_exchange_resin_beads.jpg)\n",
    "\n",
    "\n",
    "As an aside, united states mining & milling has declined. \n",
    "\n",
    "![https://upload.wikimedia.org/wikipedia/commons/3/37/US_Uranium_Production_1949-2011.png](https://upload.wikimedia.org/wikipedia/commons/3/37/US_Uranium_Production_1949-2011.png)"
   ]
  },
  {
   "cell_type": "markdown",
   "metadata": {},
   "source": [
    "## Wrap-up\n",
    "\n",
    "- There is a great deal of both uranium and thorium available, depending on the price.\n",
    "- Certain nations have a great deal more resources than other nations (see: Canada, Khazakstan, Australia)\n",
    "- Prospecting uses biology, geology, radiology, and electromagnetism to identify uranium and thorium resources\n",
    "- Biological prospecting relies on indicator plants which seek out areas rich in indicative minerals\n",
    "- Aerial prospecting relies on gamma spectrometers and magnetometers\n",
    "- Surface prostpecting relies on handheld detectors\n",
    "- Well logging maps the subsurface vertically with detection in wells\n",
    "- Uranium can be extracted from the ground with open pit mines, underground mines, in situ leaching, and even seawater extraction. \n",
    "- Prospecting for mineral resources and the ability to extract those resources respond to market price.\n",
    "- The Radon decay chain is responsible for radiation dangers to mine workers and is measured in Working Level or Working Level Months.\n",
    "- The energy of radon daughter alphas can be calculated for each decay.\n",
    "- Radiation effects are expressed in many units and the weighting factors related to biological impacts are approximate and controversial.\n",
    "- Milling requires separation of the uranium via ion exchange with carbonates or acids. \n",
    "- The milling process associated with in situ leaching conducts chemistry underground and accordingly avoids tailings piles.\n",
    "- Concentrate, yellow, $U_3O_8$ is the results of milling operations and is known as 'yellowcake'."
   ]
  },
  {
   "cell_type": "markdown",
   "metadata": {},
   "source": [
    "## References\n",
    "\n",
    "This section was developed to complement Chapter 2 of [1]. You can find a video at [2].\n",
    "\n",
    "[1] N. Tsoulfanidis, The Nuclear Fuel Cycle. La Grange Park, Illinois, USA: American Nuclear Society, 2013.\n",
    "\n",
    "[2] The Heritage Foundation. Powering America: Uranium Mining and Milling. https://www.youtube.com/watch?v=oT2LHGG-9Ko\n"
   ]
  },
  {
   "cell_type": "code",
   "execution_count": null,
   "metadata": {
    "collapsed": true
   },
   "outputs": [],
   "source": []
  }
 ],
 "metadata": {
  "anaconda-cloud": {},
  "kernelspec": {
   "display_name": "Python 3",
   "language": "python",
   "name": "python3"
  },
  "language_info": {
   "codemirror_mode": {
    "name": "ipython",
    "version": 3
   },
   "file_extension": ".py",
   "mimetype": "text/x-python",
   "name": "python",
   "nbconvert_exporter": "python",
   "pygments_lexer": "ipython3",
   "version": "3.7.6"
  }
 },
 "nbformat": 4,
 "nbformat_minor": 1
}
