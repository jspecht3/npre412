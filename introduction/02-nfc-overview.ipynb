{
 "cells": [
  {
   "cell_type": "markdown",
   "metadata": {},
   "source": [
    "# Nuclear Fuel Cycle Overview\n",
    "\n",
    "The nuclear fuel cycle is the technical and economic system traversed by nuclear fuel during the generation of nuclear power.\n",
    "\n",
    "## Learning Objectives\n",
    "\n",
    "By the end of this lesson, you should be able to:\n",
    "\n",
    "- Categorize types of fission reactors by their fuels and coolants.\n",
    "- Summarize the history and key characteristics of reactor technology generations.\n",
    "- Weigh and compare advanced nuclear reactor types.\n",
    "- Name fuel cycle facilities and technologies that contribute to open and closed cycles.\n",
    "- Identify categories of nuclear fuel cycle strategies (open, closed, etc.)\n",
    "- Associate categories of fuel cycle with nations that implement them (USA, France, etc.)\n",
    "- Order the stages of such fuel cycle from mining to disposal, including reprocessing.\n",
    "- Identify the chemical and physical states of nuclear material passed between stages.\n"
   ]
  },
  {
   "cell_type": "markdown",
   "metadata": {},
   "source": [
    "## Fission Reactor Types\n",
    "\n",
    "Let's see what you know already.\n",
    "\n",
    "[pollev.com/katyhuff](pollev.com/katyhuff)"
   ]
  },
  {
   "cell_type": "code",
   "execution_count": 1,
   "metadata": {},
   "outputs": [
    {
     "data": {
      "text/html": [
       "\n",
       "        <iframe\n",
       "            width=\"1000\"\n",
       "            height=\"700\"\n",
       "            src=\"https://embed.polleverywhere.com/free_text_polls/YWUBNMDynR0yeiu?controls=none&short_poll=true?frameBorder=0\"\n",
       "            frameborder=\"0\"\n",
       "            allowfullscreen\n",
       "        ></iframe>\n",
       "        "
      ],
      "text/plain": [
       "<IPython.lib.display.IFrame at 0x7ff1305919d0>"
      ]
     },
     "execution_count": 1,
     "metadata": {},
     "output_type": "execute_result"
    }
   ],
   "source": [
    "from IPython.display import IFrame\n",
    "IFrame(\"https://embed.polleverywhere.com/free_text_polls/YWUBNMDynR0yeiu?controls=none&short_poll=true\", width=\"1000\", height=\"700\", frameBorder=\"0\")"
   ]
  },
  {
   "cell_type": "code",
   "execution_count": 2,
   "metadata": {},
   "outputs": [
    {
     "data": {
      "text/html": [
       "\n",
       "        <iframe\n",
       "            width=\"1000\"\n",
       "            height=\"700\"\n",
       "            src=\"https://embed.polleverywhere.com/free_text_polls/rhvKnG3a6nKaNdU?controls=none&short_poll=true?frameBorder=0\"\n",
       "            frameborder=\"0\"\n",
       "            allowfullscreen\n",
       "        ></iframe>\n",
       "        "
      ],
      "text/plain": [
       "<IPython.lib.display.IFrame at 0x7ff130683d10>"
      ]
     },
     "execution_count": 2,
     "metadata": {},
     "output_type": "execute_result"
    }
   ],
   "source": [
    "from IPython.display import IFrame\n",
    "IFrame(\"https://embed.polleverywhere.com/free_text_polls/rhvKnG3a6nKaNdU?controls=none&short_poll=true\", width=\"1000\", height=\"700\", frameBorder=\"0\")"
   ]
  },
  {
   "cell_type": "code",
   "execution_count": 1,
   "metadata": {},
   "outputs": [
    {
     "data": {
      "text/html": [
       "\n",
       "        <iframe\n",
       "            width=\"1000\"\n",
       "            height=\"700\"\n",
       "            src=\"https://embed.polleverywhere.com/free_text_polls/zdDog6JmDGOQ1hJ?controls=none&short_poll=true?frameBorder=0\"\n",
       "            frameborder=\"0\"\n",
       "            allowfullscreen\n",
       "        ></iframe>\n",
       "        "
      ],
      "text/plain": [
       "<IPython.lib.display.IFrame at 0x7fd8a76881d0>"
      ]
     },
     "execution_count": 1,
     "metadata": {},
     "output_type": "execute_result"
    }
   ],
   "source": [
    "from IPython.display import IFrame\n",
    "IFrame(\"https://embed.polleverywhere.com/free_text_polls/zdDog6JmDGOQ1hJ?controls=none&short_poll=true\", width=\"1000\", height=\"700\", frameBorder=\"0\")"
   ]
  },
  {
   "cell_type": "code",
   "execution_count": 2,
   "metadata": {},
   "outputs": [
    {
     "data": {
      "text/html": [
       "\n",
       "        <iframe\n",
       "            width=\"1000\"\n",
       "            height=\"700\"\n",
       "            src=\"https://embed.polleverywhere.com/free_text_polls/YE5bPL6KecA5M3A?controls=none&short_poll=true?frameBorder=0\"\n",
       "            frameborder=\"0\"\n",
       "            allowfullscreen\n",
       "        ></iframe>\n",
       "        "
      ],
      "text/plain": [
       "<IPython.lib.display.IFrame at 0x7fd8a7688b90>"
      ]
     },
     "execution_count": 2,
     "metadata": {},
     "output_type": "execute_result"
    }
   ],
   "source": [
    "from IPython.display import IFrame\n",
    "IFrame(\"https://embed.polleverywhere.com/free_text_polls/YE5bPL6KecA5M3A?controls=none&short_poll=true\", width=\"1000\", height=\"700\", frameBorder=\"0\")"
   ]
  },
  {
   "cell_type": "code",
   "execution_count": 3,
   "metadata": {},
   "outputs": [
    {
     "data": {
      "text/html": [
       "\n",
       "        <iframe\n",
       "            width=\"1000\"\n",
       "            height=\"700\"\n",
       "            src=\"https://embed.polleverywhere.com/free_text_polls/BLojIJiKtPULpmw?controls=none&short_poll=true?frameBorder=0\"\n",
       "            frameborder=\"0\"\n",
       "            allowfullscreen\n",
       "        ></iframe>\n",
       "        "
      ],
      "text/plain": [
       "<IPython.lib.display.IFrame at 0x7fd8a76bc110>"
      ]
     },
     "execution_count": 3,
     "metadata": {},
     "output_type": "execute_result"
    }
   ],
   "source": [
    "from IPython.display import IFrame\n",
    "IFrame(\"https://embed.polleverywhere.com/free_text_polls/BLojIJiKtPULpmw?controls=none&short_poll=true\", width=\"1000\", height=\"700\", frameBorder=\"0\")"
   ]
  },
  {
   "cell_type": "markdown",
   "metadata": {},
   "source": [
    "A really good summary, with images, can be found [here](https://www.theiet.org/media/1275/nuclear-reactors.pdf)."
   ]
  },
  {
   "cell_type": "code",
   "execution_count": 4,
   "metadata": {},
   "outputs": [
    {
     "data": {
      "text/html": [
       "\n",
       "        <iframe\n",
       "            width=\"1000\"\n",
       "            height=\"700\"\n",
       "            src=\"https://www.theiet.org/media/1275/nuclear-reactors.pdf\"\n",
       "            frameborder=\"0\"\n",
       "            allowfullscreen\n",
       "        ></iframe>\n",
       "        "
      ],
      "text/plain": [
       "<IPython.lib.display.IFrame at 0x7fd8a76bc490>"
      ]
     },
     "execution_count": 4,
     "metadata": {},
     "output_type": "execute_result"
    }
   ],
   "source": [
    "\n",
    "from IPython.display import IFrame\n",
    "\n",
    "IFrame(\"https://www.theiet.org/media/1275/nuclear-reactors.pdf\", width=1000, height=700)"
   ]
  },
  {
   "cell_type": "markdown",
   "metadata": {},
   "source": [
    "What about fusion?\n",
    "\n",
    "Fusion devices can use Tritium, Deuterium, Protium, $^3He$, $^4He$.\n",
    "\n",
    "![https://upload.wikimedia.org/wikipedia/commons/thumb/d/da/ITER_Tokamak_and_Plant_Systems_%282016%29_%2841783636452%29.jpg/1200px-ITER_Tokamak_and_Plant_Systems_%282016%29_%2841783636452%29.jpg](https://upload.wikimedia.org/wikipedia/commons/thumb/d/da/ITER_Tokamak_and_Plant_Systems_%282016%29_%2841783636452%29.jpg/1200px-ITER_Tokamak_and_Plant_Systems_%282016%29_%2841783636452%29.jpg)"
   ]
  },
  {
   "cell_type": "markdown",
   "metadata": {},
   "source": [
    "# Fuel Cycle Strategies\n",
    "\n",
    "## Once through\n",
    "\n",
    "Also known as an open fuel cycle, this is the fuel cycle currently underway in the United States. There is no reprocessing or recycling of any kind and all high level spent nuclear fuel is eventually destined for a geologic repository."
   ]
  },
  {
   "cell_type": "code",
   "execution_count": 7,
   "metadata": {},
   "outputs": [
    {
     "name": "stdout",
     "output_type": "stream",
     "text": [
      "/bin/sh: y: command not found\n",
      "Collecting package metadata (current_repodata.json): done\n",
      "Solving environment: failed with initial frozen solve. Retrying with flexible solve.\n",
      "Solving environment: failed with repodata from current_repodata.json, will retry with next repodata source.\n",
      "Collecting package metadata (repodata.json): done\n",
      "Solving environment: done\n",
      "\n",
      "## Package Plan ##\n",
      "\n",
      "  environment location: /Users/huff/opt/anaconda3\n",
      "\n",
      "  added / updated specs:\n",
      "    - graphviz\n",
      "\n",
      "\n",
      "The following packages will be downloaded:\n",
      "\n",
      "    package                    |            build\n",
      "    ---------------------------|-----------------\n",
      "    cairo-1.14.12              |       hc4e6be7_4         860 KB\n",
      "    conda-4.9.1                |   py37hecd8cb5_0         2.9 MB\n",
      "    fontconfig-2.13.0          |       h5d5b041_1         202 KB\n",
      "    fribidi-1.0.10             |       haf1e3a3_0          63 KB\n",
      "    graphite2-1.3.13           |       h2098e52_0          80 KB\n",
      "    graphviz-2.40.1            |       hefbbd9a_2         6.3 MB\n",
      "    harfbuzz-1.8.8             |       hb8d4a28_0         414 KB\n",
      "    pango-1.42.4               |       h7e27002_1         456 KB\n",
      "    pixman-0.40.0              |       haf1e3a3_0         340 KB\n",
      "    ------------------------------------------------------------\n",
      "                                           Total:        11.5 MB\n",
      "\n",
      "The following NEW packages will be INSTALLED:\n",
      "\n",
      "  cairo              pkgs/main/osx-64::cairo-1.14.12-hc4e6be7_4\n",
      "  fontconfig         pkgs/main/osx-64::fontconfig-2.13.0-h5d5b041_1\n",
      "  fribidi            pkgs/main/osx-64::fribidi-1.0.10-haf1e3a3_0\n",
      "  graphite2          pkgs/main/osx-64::graphite2-1.3.13-h2098e52_0\n",
      "  graphviz           pkgs/main/osx-64::graphviz-2.40.1-hefbbd9a_2\n",
      "  harfbuzz           pkgs/main/osx-64::harfbuzz-1.8.8-hb8d4a28_0\n",
      "  pango              pkgs/main/osx-64::pango-1.42.4-h7e27002_1\n",
      "  pixman             pkgs/main/osx-64::pixman-0.40.0-haf1e3a3_0\n",
      "\n",
      "The following packages will be UPDATED:\n",
      "\n",
      "  conda                                        4.8.3-py37_0 --> 4.9.1-py37hecd8cb5_0\n",
      "\n",
      "\n",
      "Proceed ([y]/n)? \n",
      "\n",
      "Downloading and Extracting Packages\n",
      "fribidi-1.0.10       | 63 KB     | ##################################### | 100% \n",
      "cairo-1.14.12        | 860 KB    | ##################################### | 100% \n",
      "pixman-0.40.0        | 340 KB    | ##################################### | 100% \n",
      "fontconfig-2.13.0    | 202 KB    | ##################################### | 100% \n",
      "graphviz-2.40.1      | 6.3 MB    | ##################################### | 100% \n",
      "harfbuzz-1.8.8       | 414 KB    | ##################################### | 100% \n",
      "graphite2-1.3.13     | 80 KB     | ##################################### | 100% \n",
      "pango-1.42.4         | 456 KB    | ##################################### | 100% \n",
      "conda-4.9.1          | 2.9 MB    | ##################################### | 100% \n",
      "Preparing transaction: done\n",
      "Verifying transaction: done\n",
      "Executing transaction: done\n",
      "Collecting graphviz\n",
      "  Downloading graphviz-0.14.2-py2.py3-none-any.whl (18 kB)\n",
      "Installing collected packages: graphviz\n",
      "Successfully installed graphviz-0.14.2\n",
      "\u001b[33mWARNING: You are using pip version 20.2.3; however, version 20.2.4 is available.\n",
      "You should consider upgrading via the '/Users/huff/opt/anaconda3/bin/python -m pip install --upgrade pip' command.\u001b[0m\n"
     ]
    }
   ],
   "source": [
    "try:\n",
    "    import graphviz  \n",
    "except ImportError:\n",
    "    !y | conda install graphviz \n",
    "    !pip install graphviz"
   ]
  },
  {
   "cell_type": "code",
   "execution_count": 8,
   "metadata": {},
   "outputs": [
    {
     "data": {
      "image/svg+xml": [
       "<?xml version=\"1.0\" encoding=\"UTF-8\" standalone=\"no\"?>\n",
       "<!DOCTYPE svg PUBLIC \"-//W3C//DTD SVG 1.1//EN\"\n",
       " \"http://www.w3.org/Graphics/SVG/1.1/DTD/svg11.dtd\">\n",
       "<!-- Generated by graphviz version 2.40.1 (20161225.0304)\n",
       " -->\n",
       "<!-- Title: %3 Pages: 1 -->\n",
       "<svg width=\"160pt\" height=\"740pt\"\n",
       " viewBox=\"0.00 0.00 159.84 740.00\" xmlns=\"http://www.w3.org/2000/svg\" xmlns:xlink=\"http://www.w3.org/1999/xlink\">\n",
       "<g id=\"graph0\" class=\"graph\" transform=\"scale(1 1) rotate(0) translate(4 736)\">\n",
       "<title>%3</title>\n",
       "<polygon fill=\"#ffffff\" stroke=\"transparent\" points=\"-4,4 -4,-736 155.8437,-736 155.8437,4 -4,4\"/>\n",
       "<!-- A -->\n",
       "<g id=\"node1\" class=\"node\">\n",
       "<title>A</title>\n",
       "<ellipse fill=\"none\" stroke=\"#000000\" cx=\"70.8437\" cy=\"-714\" rx=\"29.795\" ry=\"18\"/>\n",
       "<text text-anchor=\"middle\" x=\"70.8437\" y=\"-710.3\" font-family=\"Times,serif\" font-size=\"14.00\" fill=\"#000000\">Mine</text>\n",
       "</g>\n",
       "<!-- B -->\n",
       "<g id=\"node2\" class=\"node\">\n",
       "<title>B</title>\n",
       "<ellipse fill=\"none\" stroke=\"#000000\" cx=\"70.8437\" cy=\"-627\" rx=\"27\" ry=\"18\"/>\n",
       "<text text-anchor=\"middle\" x=\"70.8437\" y=\"-623.3\" font-family=\"Times,serif\" font-size=\"14.00\" fill=\"#000000\">Mill</text>\n",
       "</g>\n",
       "<!-- A&#45;&gt;B -->\n",
       "<g id=\"edge1\" class=\"edge\">\n",
       "<title>A&#45;&gt;B</title>\n",
       "<path fill=\"none\" stroke=\"#000000\" d=\"M70.8437,-695.9735C70.8437,-684.1918 70.8437,-668.5607 70.8437,-655.1581\"/>\n",
       "<polygon fill=\"#000000\" stroke=\"#000000\" points=\"74.3438,-655.0033 70.8437,-645.0034 67.3438,-655.0034 74.3438,-655.0033\"/>\n",
       "<text text-anchor=\"middle\" x=\"111.3437\" y=\"-666.8\" font-family=\"Times,serif\" font-size=\"14.00\" fill=\"#000000\">Natural U Ore</text>\n",
       "</g>\n",
       "<!-- C -->\n",
       "<g id=\"node3\" class=\"node\">\n",
       "<title>C</title>\n",
       "<ellipse fill=\"none\" stroke=\"#000000\" cx=\"70.8437\" cy=\"-540\" rx=\"52.7911\" ry=\"18\"/>\n",
       "<text text-anchor=\"middle\" x=\"70.8437\" y=\"-536.3\" font-family=\"Times,serif\" font-size=\"14.00\" fill=\"#000000\">Conversion</text>\n",
       "</g>\n",
       "<!-- B&#45;&gt;C -->\n",
       "<g id=\"edge2\" class=\"edge\">\n",
       "<title>B&#45;&gt;C</title>\n",
       "<path fill=\"none\" stroke=\"#000000\" d=\"M70.8437,-608.9735C70.8437,-597.1918 70.8437,-581.5607 70.8437,-568.1581\"/>\n",
       "<polygon fill=\"#000000\" stroke=\"#000000\" points=\"74.3438,-568.0033 70.8437,-558.0034 67.3438,-568.0034 74.3438,-568.0033\"/>\n",
       "<text text-anchor=\"middle\" x=\"88.3437\" y=\"-579.8\" font-family=\"Times,serif\" font-size=\"14.00\" fill=\"#000000\">U3O8</text>\n",
       "</g>\n",
       "<!-- D -->\n",
       "<g id=\"node4\" class=\"node\">\n",
       "<title>D</title>\n",
       "<ellipse fill=\"none\" stroke=\"#000000\" cx=\"70.8437\" cy=\"-453\" rx=\"53.0913\" ry=\"18\"/>\n",
       "<text text-anchor=\"middle\" x=\"70.8437\" y=\"-449.3\" font-family=\"Times,serif\" font-size=\"14.00\" fill=\"#000000\">Enrichment</text>\n",
       "</g>\n",
       "<!-- C&#45;&gt;D -->\n",
       "<g id=\"edge3\" class=\"edge\">\n",
       "<title>C&#45;&gt;D</title>\n",
       "<path fill=\"none\" stroke=\"#000000\" d=\"M70.8437,-521.9735C70.8437,-510.1918 70.8437,-494.5607 70.8437,-481.1581\"/>\n",
       "<polygon fill=\"#000000\" stroke=\"#000000\" points=\"74.3438,-481.0033 70.8437,-471.0034 67.3438,-481.0034 74.3438,-481.0033\"/>\n",
       "<text text-anchor=\"middle\" x=\"83.3437\" y=\"-492.8\" font-family=\"Times,serif\" font-size=\"14.00\" fill=\"#000000\">UF6</text>\n",
       "</g>\n",
       "<!-- E -->\n",
       "<g id=\"node5\" class=\"node\">\n",
       "<title>E</title>\n",
       "<ellipse fill=\"none\" stroke=\"#000000\" cx=\"70.8437\" cy=\"-366\" rx=\"70.6878\" ry=\"18\"/>\n",
       "<text text-anchor=\"middle\" x=\"70.8437\" y=\"-362.3\" font-family=\"Times,serif\" font-size=\"14.00\" fill=\"#000000\">Fuel Fabrication</text>\n",
       "</g>\n",
       "<!-- D&#45;&gt;E -->\n",
       "<g id=\"edge4\" class=\"edge\">\n",
       "<title>D&#45;&gt;E</title>\n",
       "<path fill=\"none\" stroke=\"#000000\" d=\"M70.8437,-434.9735C70.8437,-423.1918 70.8437,-407.5607 70.8437,-394.1581\"/>\n",
       "<polygon fill=\"#000000\" stroke=\"#000000\" points=\"74.3438,-394.0033 70.8437,-384.0034 67.3438,-394.0034 74.3438,-394.0033\"/>\n",
       "<text text-anchor=\"middle\" x=\"110.3437\" y=\"-405.8\" font-family=\"Times,serif\" font-size=\"14.00\" fill=\"#000000\">Enriched UF6</text>\n",
       "</g>\n",
       "<!-- F -->\n",
       "<g id=\"node6\" class=\"node\">\n",
       "<title>F</title>\n",
       "<ellipse fill=\"none\" stroke=\"#000000\" cx=\"70.8437\" cy=\"-279\" rx=\"38.9931\" ry=\"18\"/>\n",
       "<text text-anchor=\"middle\" x=\"70.8437\" y=\"-275.3\" font-family=\"Times,serif\" font-size=\"14.00\" fill=\"#000000\">Reactor</text>\n",
       "</g>\n",
       "<!-- E&#45;&gt;F -->\n",
       "<g id=\"edge5\" class=\"edge\">\n",
       "<title>E&#45;&gt;F</title>\n",
       "<path fill=\"none\" stroke=\"#000000\" d=\"M70.8437,-347.9735C70.8437,-336.1918 70.8437,-320.5607 70.8437,-307.1581\"/>\n",
       "<polygon fill=\"#000000\" stroke=\"#000000\" points=\"74.3438,-307.0033 70.8437,-297.0034 67.3438,-307.0034 74.3438,-307.0033\"/>\n",
       "<text text-anchor=\"middle\" x=\"100.8437\" y=\"-318.8\" font-family=\"Times,serif\" font-size=\"14.00\" fill=\"#000000\">Fresh Fuel</text>\n",
       "</g>\n",
       "<!-- G -->\n",
       "<g id=\"node7\" class=\"node\">\n",
       "<title>G</title>\n",
       "<ellipse fill=\"none\" stroke=\"#000000\" cx=\"70.8437\" cy=\"-192\" rx=\"55.7903\" ry=\"18\"/>\n",
       "<text text-anchor=\"middle\" x=\"70.8437\" y=\"-188.3\" font-family=\"Times,serif\" font-size=\"14.00\" fill=\"#000000\">Wet Storage</text>\n",
       "</g>\n",
       "<!-- F&#45;&gt;G -->\n",
       "<g id=\"edge6\" class=\"edge\">\n",
       "<title>F&#45;&gt;G</title>\n",
       "<path fill=\"none\" stroke=\"#000000\" d=\"M70.8437,-260.9735C70.8437,-249.1918 70.8437,-233.5607 70.8437,-220.1581\"/>\n",
       "<polygon fill=\"#000000\" stroke=\"#000000\" points=\"74.3438,-220.0033 70.8437,-210.0034 67.3438,-220.0034 74.3438,-220.0033\"/>\n",
       "<text text-anchor=\"middle\" x=\"101.3437\" y=\"-231.8\" font-family=\"Times,serif\" font-size=\"14.00\" fill=\"#000000\">Spent Fuel</text>\n",
       "</g>\n",
       "<!-- H -->\n",
       "<g id=\"node8\" class=\"node\">\n",
       "<title>H</title>\n",
       "<ellipse fill=\"none\" stroke=\"#000000\" cx=\"70.8437\" cy=\"-105\" rx=\"55.4913\" ry=\"18\"/>\n",
       "<text text-anchor=\"middle\" x=\"70.8437\" y=\"-101.3\" font-family=\"Times,serif\" font-size=\"14.00\" fill=\"#000000\">Dry Storage</text>\n",
       "</g>\n",
       "<!-- G&#45;&gt;H -->\n",
       "<g id=\"edge7\" class=\"edge\">\n",
       "<title>G&#45;&gt;H</title>\n",
       "<path fill=\"none\" stroke=\"#000000\" d=\"M70.8437,-173.9735C70.8437,-162.1918 70.8437,-146.5607 70.8437,-133.1581\"/>\n",
       "<polygon fill=\"#000000\" stroke=\"#000000\" points=\"74.3438,-133.0033 70.8437,-123.0034 67.3438,-133.0034 74.3438,-133.0033\"/>\n",
       "<text text-anchor=\"middle\" x=\"105.8437\" y=\"-144.8\" font-family=\"Times,serif\" font-size=\"14.00\" fill=\"#000000\">Cooled SNF</text>\n",
       "</g>\n",
       "<!-- I -->\n",
       "<g id=\"node9\" class=\"node\">\n",
       "<title>I</title>\n",
       "<ellipse fill=\"none\" stroke=\"#000000\" cx=\"70.8437\" cy=\"-18\" rx=\"50.8918\" ry=\"18\"/>\n",
       "<text text-anchor=\"middle\" x=\"70.8437\" y=\"-14.3\" font-family=\"Times,serif\" font-size=\"14.00\" fill=\"#000000\">Repository</text>\n",
       "</g>\n",
       "<!-- H&#45;&gt;I -->\n",
       "<g id=\"edge8\" class=\"edge\">\n",
       "<title>H&#45;&gt;I</title>\n",
       "<path fill=\"none\" stroke=\"#000000\" d=\"M70.8437,-86.9735C70.8437,-75.1918 70.8437,-59.5607 70.8437,-46.1581\"/>\n",
       "<polygon fill=\"#000000\" stroke=\"#000000\" points=\"74.3438,-46.0033 70.8437,-36.0034 67.3438,-46.0034 74.3438,-46.0033\"/>\n",
       "<text text-anchor=\"middle\" x=\"105.8437\" y=\"-57.8\" font-family=\"Times,serif\" font-size=\"14.00\" fill=\"#000000\">Cooled SNF</text>\n",
       "</g>\n",
       "</g>\n",
       "</svg>\n"
      ],
      "text/plain": [
       "<graphviz.dot.Digraph at 0x7ff13058d890>"
      ]
     },
     "execution_count": 8,
     "metadata": {},
     "output_type": "execute_result"
    }
   ],
   "source": [
    "from graphviz import Digraph\n",
    "\n",
    "dot = Digraph(comment='The Round Table')\n",
    "dot.node('A', 'Mine')\n",
    "dot.node('B', 'Mill')\n",
    "dot.node('C', 'Conversion')\n",
    "dot.node('D', 'Enrichment')\n",
    "dot.node('E', 'Fuel Fabrication')\n",
    "dot.node('F', 'Reactor')\n",
    "dot.node('G', 'Wet Storage')\n",
    "dot.node('H', 'Dry Storage')\n",
    "dot.node('I', 'Repository')\n",
    "\n",
    "dot.edge('A', 'B', label='Natural U Ore')\n",
    "dot.edge('B', 'C', label='U3O8')\n",
    "dot.edge('C', 'D', label='UF6')\n",
    "dot.edge('D', 'E', label='Enriched UF6')\n",
    "dot.edge('E', 'F', label='Fresh Fuel')\n",
    "dot.edge('F', 'G', label='Spent Fuel')\n",
    "dot.edge('G', 'H', label='Cooled SNF')\n",
    "dot.edge('H', 'I', label='Cooled SNF')\n",
    "dot"
   ]
  },
  {
   "cell_type": "markdown",
   "metadata": {},
   "source": [
    "## Single Pass or Multi Pass Recycle\n",
    "\n",
    "To add reprocessing or recycling,  and all high level spent nuclear fuel is eventually destined for a geologic repository"
   ]
  },
  {
   "cell_type": "code",
   "execution_count": 9,
   "metadata": {},
   "outputs": [
    {
     "data": {
      "image/svg+xml": [
       "<?xml version=\"1.0\" encoding=\"UTF-8\" standalone=\"no\"?>\n",
       "<!DOCTYPE svg PUBLIC \"-//W3C//DTD SVG 1.1//EN\"\n",
       " \"http://www.w3.org/Graphics/SVG/1.1/DTD/svg11.dtd\">\n",
       "<!-- Generated by graphviz version 2.40.1 (20161225.0304)\n",
       " -->\n",
       "<!-- Title: %3 Pages: 1 -->\n",
       "<svg width=\"340pt\" height=\"827pt\"\n",
       " viewBox=\"0.00 0.00 339.70 827.00\" xmlns=\"http://www.w3.org/2000/svg\" xmlns:xlink=\"http://www.w3.org/1999/xlink\">\n",
       "<g id=\"graph0\" class=\"graph\" transform=\"scale(1 1) rotate(0) translate(4 823)\">\n",
       "<title>%3</title>\n",
       "<polygon fill=\"#ffffff\" stroke=\"transparent\" points=\"-4,4 -4,-823 335.6955,-823 335.6955,4 -4,4\"/>\n",
       "<!-- A -->\n",
       "<g id=\"node1\" class=\"node\">\n",
       "<title>A</title>\n",
       "<ellipse fill=\"none\" stroke=\"#000000\" cx=\"250.6955\" cy=\"-801\" rx=\"29.795\" ry=\"18\"/>\n",
       "<text text-anchor=\"middle\" x=\"250.6955\" y=\"-797.3\" font-family=\"Times,serif\" font-size=\"14.00\" fill=\"#000000\">Mine</text>\n",
       "</g>\n",
       "<!-- B -->\n",
       "<g id=\"node2\" class=\"node\">\n",
       "<title>B</title>\n",
       "<ellipse fill=\"none\" stroke=\"#000000\" cx=\"250.6955\" cy=\"-714\" rx=\"27\" ry=\"18\"/>\n",
       "<text text-anchor=\"middle\" x=\"250.6955\" y=\"-710.3\" font-family=\"Times,serif\" font-size=\"14.00\" fill=\"#000000\">Mill</text>\n",
       "</g>\n",
       "<!-- A&#45;&gt;B -->\n",
       "<g id=\"edge1\" class=\"edge\">\n",
       "<title>A&#45;&gt;B</title>\n",
       "<path fill=\"none\" stroke=\"#000000\" d=\"M250.6955,-782.9735C250.6955,-771.1918 250.6955,-755.5607 250.6955,-742.1581\"/>\n",
       "<polygon fill=\"#000000\" stroke=\"#000000\" points=\"254.1956,-742.0033 250.6955,-732.0034 247.1956,-742.0034 254.1956,-742.0033\"/>\n",
       "<text text-anchor=\"middle\" x=\"291.1955\" y=\"-753.8\" font-family=\"Times,serif\" font-size=\"14.00\" fill=\"#000000\">Natural U Ore</text>\n",
       "</g>\n",
       "<!-- C -->\n",
       "<g id=\"node3\" class=\"node\">\n",
       "<title>C</title>\n",
       "<ellipse fill=\"none\" stroke=\"#000000\" cx=\"250.6955\" cy=\"-627\" rx=\"52.7911\" ry=\"18\"/>\n",
       "<text text-anchor=\"middle\" x=\"250.6955\" y=\"-623.3\" font-family=\"Times,serif\" font-size=\"14.00\" fill=\"#000000\">Conversion</text>\n",
       "</g>\n",
       "<!-- B&#45;&gt;C -->\n",
       "<g id=\"edge2\" class=\"edge\">\n",
       "<title>B&#45;&gt;C</title>\n",
       "<path fill=\"none\" stroke=\"#000000\" d=\"M250.6955,-695.9735C250.6955,-684.1918 250.6955,-668.5607 250.6955,-655.1581\"/>\n",
       "<polygon fill=\"#000000\" stroke=\"#000000\" points=\"254.1956,-655.0033 250.6955,-645.0034 247.1956,-655.0034 254.1956,-655.0033\"/>\n",
       "<text text-anchor=\"middle\" x=\"268.1955\" y=\"-666.8\" font-family=\"Times,serif\" font-size=\"14.00\" fill=\"#000000\">U3O8</text>\n",
       "</g>\n",
       "<!-- D -->\n",
       "<g id=\"node4\" class=\"node\">\n",
       "<title>D</title>\n",
       "<ellipse fill=\"none\" stroke=\"#000000\" cx=\"250.6955\" cy=\"-540\" rx=\"53.0913\" ry=\"18\"/>\n",
       "<text text-anchor=\"middle\" x=\"250.6955\" y=\"-536.3\" font-family=\"Times,serif\" font-size=\"14.00\" fill=\"#000000\">Enrichment</text>\n",
       "</g>\n",
       "<!-- C&#45;&gt;D -->\n",
       "<g id=\"edge3\" class=\"edge\">\n",
       "<title>C&#45;&gt;D</title>\n",
       "<path fill=\"none\" stroke=\"#000000\" d=\"M250.6955,-608.9735C250.6955,-597.1918 250.6955,-581.5607 250.6955,-568.1581\"/>\n",
       "<polygon fill=\"#000000\" stroke=\"#000000\" points=\"254.1956,-568.0033 250.6955,-558.0034 247.1956,-568.0034 254.1956,-568.0033\"/>\n",
       "<text text-anchor=\"middle\" x=\"263.1955\" y=\"-579.8\" font-family=\"Times,serif\" font-size=\"14.00\" fill=\"#000000\">UF6</text>\n",
       "</g>\n",
       "<!-- E -->\n",
       "<g id=\"node5\" class=\"node\">\n",
       "<title>E</title>\n",
       "<ellipse fill=\"none\" stroke=\"#000000\" cx=\"250.6955\" cy=\"-453\" rx=\"70.6878\" ry=\"18\"/>\n",
       "<text text-anchor=\"middle\" x=\"250.6955\" y=\"-449.3\" font-family=\"Times,serif\" font-size=\"14.00\" fill=\"#000000\">Fuel Fabrication</text>\n",
       "</g>\n",
       "<!-- D&#45;&gt;E -->\n",
       "<g id=\"edge4\" class=\"edge\">\n",
       "<title>D&#45;&gt;E</title>\n",
       "<path fill=\"none\" stroke=\"#000000\" d=\"M250.6955,-521.9735C250.6955,-510.1918 250.6955,-494.5607 250.6955,-481.1581\"/>\n",
       "<polygon fill=\"#000000\" stroke=\"#000000\" points=\"254.1956,-481.0033 250.6955,-471.0034 247.1956,-481.0034 254.1956,-481.0033\"/>\n",
       "<text text-anchor=\"middle\" x=\"290.1955\" y=\"-492.8\" font-family=\"Times,serif\" font-size=\"14.00\" fill=\"#000000\">Enriched UF6</text>\n",
       "</g>\n",
       "<!-- F -->\n",
       "<g id=\"node6\" class=\"node\">\n",
       "<title>F</title>\n",
       "<ellipse fill=\"none\" stroke=\"#000000\" cx=\"175.6955\" cy=\"-366\" rx=\"38.9931\" ry=\"18\"/>\n",
       "<text text-anchor=\"middle\" x=\"175.6955\" y=\"-362.3\" font-family=\"Times,serif\" font-size=\"14.00\" fill=\"#000000\">Reactor</text>\n",
       "</g>\n",
       "<!-- E&#45;&gt;F -->\n",
       "<g id=\"edge5\" class=\"edge\">\n",
       "<title>E&#45;&gt;F</title>\n",
       "<path fill=\"none\" stroke=\"#000000\" d=\"M203.3543,-439.3944C192.8658,-434.1114 183.0057,-426.8705 176.6955,-417 172.4979,-410.4339 171.0679,-402.3557 170.9989,-394.5807\"/>\n",
       "<polygon fill=\"#000000\" stroke=\"#000000\" points=\"174.5083,-394.5295 171.6163,-384.337 167.521,-394.1083 174.5083,-394.5295\"/>\n",
       "<text text-anchor=\"middle\" x=\"206.6955\" y=\"-405.8\" font-family=\"Times,serif\" font-size=\"14.00\" fill=\"#000000\">Fresh Fuel</text>\n",
       "</g>\n",
       "<!-- G -->\n",
       "<g id=\"node7\" class=\"node\">\n",
       "<title>G</title>\n",
       "<ellipse fill=\"none\" stroke=\"#000000\" cx=\"152.6955\" cy=\"-279\" rx=\"55.7903\" ry=\"18\"/>\n",
       "<text text-anchor=\"middle\" x=\"152.6955\" y=\"-275.3\" font-family=\"Times,serif\" font-size=\"14.00\" fill=\"#000000\">Wet Storage</text>\n",
       "</g>\n",
       "<!-- F&#45;&gt;G -->\n",
       "<g id=\"edge6\" class=\"edge\">\n",
       "<title>F&#45;&gt;G</title>\n",
       "<path fill=\"none\" stroke=\"#000000\" d=\"M170.9299,-347.9735C167.7843,-336.0751 163.6009,-320.2508 160.0345,-306.7606\"/>\n",
       "<polygon fill=\"#000000\" stroke=\"#000000\" points=\"163.3947,-305.7766 157.455,-297.0034 156.6272,-307.5658 163.3947,-305.7766\"/>\n",
       "<text text-anchor=\"middle\" x=\"196.1955\" y=\"-318.8\" font-family=\"Times,serif\" font-size=\"14.00\" fill=\"#000000\">Spent Fuel</text>\n",
       "</g>\n",
       "<!-- H -->\n",
       "<g id=\"node8\" class=\"node\">\n",
       "<title>H</title>\n",
       "<ellipse fill=\"none\" stroke=\"#000000\" cx=\"61.6955\" cy=\"-192\" rx=\"55.4913\" ry=\"18\"/>\n",
       "<text text-anchor=\"middle\" x=\"61.6955\" y=\"-188.3\" font-family=\"Times,serif\" font-size=\"14.00\" fill=\"#000000\">Dry Storage</text>\n",
       "</g>\n",
       "<!-- G&#45;&gt;H -->\n",
       "<g id=\"edge7\" class=\"edge\">\n",
       "<title>G&#45;&gt;H</title>\n",
       "<path fill=\"none\" stroke=\"#000000\" d=\"M106.5311,-268.7551C92.3426,-263.3743 78.0236,-255.2411 68.6955,-243 63.7992,-236.5746 61.4878,-228.3284 60.5464,-220.3483\"/>\n",
       "<polygon fill=\"#000000\" stroke=\"#000000\" points=\"64.0318,-219.9824 59.9958,-210.1865 57.0421,-220.3613 64.0318,-219.9824\"/>\n",
       "<text text-anchor=\"middle\" x=\"103.6955\" y=\"-231.8\" font-family=\"Times,serif\" font-size=\"14.00\" fill=\"#000000\">Cooled SNF</text>\n",
       "</g>\n",
       "<!-- Z -->\n",
       "<g id=\"node10\" class=\"node\">\n",
       "<title>Z</title>\n",
       "<ellipse fill=\"none\" stroke=\"#000000\" cx=\"182.6955\" cy=\"-105\" rx=\"59.5901\" ry=\"18\"/>\n",
       "<text text-anchor=\"middle\" x=\"182.6955\" y=\"-101.3\" font-family=\"Times,serif\" font-size=\"14.00\" fill=\"#000000\">Reprocessing</text>\n",
       "</g>\n",
       "<!-- G&#45;&gt;Z -->\n",
       "<g id=\"edge10\" class=\"edge\">\n",
       "<title>G&#45;&gt;Z</title>\n",
       "<path fill=\"none\" stroke=\"#000000\" d=\"M154.5994,-260.7074C156.9104,-239.6917 161.191,-204.2148 166.6955,-174 169.175,-160.3899 172.5652,-145.4166 175.5868,-132.9065\"/>\n",
       "<polygon fill=\"#000000\" stroke=\"#000000\" points=\"179.0184,-133.6082 178.0101,-123.0615 172.2213,-131.9351 179.0184,-133.6082\"/>\n",
       "<text text-anchor=\"middle\" x=\"201.6955\" y=\"-188.3\" font-family=\"Times,serif\" font-size=\"14.00\" fill=\"#000000\">Cooled SNF</text>\n",
       "</g>\n",
       "<!-- I -->\n",
       "<g id=\"node9\" class=\"node\">\n",
       "<title>I</title>\n",
       "<ellipse fill=\"none\" stroke=\"#000000\" cx=\"50.6955\" cy=\"-18\" rx=\"50.8918\" ry=\"18\"/>\n",
       "<text text-anchor=\"middle\" x=\"50.6955\" y=\"-14.3\" font-family=\"Times,serif\" font-size=\"14.00\" fill=\"#000000\">Repository</text>\n",
       "</g>\n",
       "<!-- H&#45;&gt;I -->\n",
       "<g id=\"edge8\" class=\"edge\">\n",
       "<title>H&#45;&gt;I</title>\n",
       "<path fill=\"none\" stroke=\"#000000\" d=\"M55.6768,-174.0886C51.3757,-160.3041 45.9639,-140.6824 43.6955,-123 40.3743,-97.1116 42.94,-67.4175 45.8564,-46.2278\"/>\n",
       "<polygon fill=\"#000000\" stroke=\"#000000\" points=\"49.3273,-46.6818 47.3379,-36.2754 42.4036,-45.6511 49.3273,-46.6818\"/>\n",
       "<text text-anchor=\"middle\" x=\"78.6955\" y=\"-101.3\" font-family=\"Times,serif\" font-size=\"14.00\" fill=\"#000000\">Cooled SNF</text>\n",
       "</g>\n",
       "<!-- H&#45;&gt;Z -->\n",
       "<g id=\"edge9\" class=\"edge\">\n",
       "<title>H&#45;&gt;Z</title>\n",
       "<path fill=\"none\" stroke=\"#000000\" d=\"M59.6697,-173.552C59.5168,-162.894 61.2049,-149.8812 68.6955,-141 72.9114,-136.0014 100.6031,-127.2001 127.6356,-119.5513\"/>\n",
       "<polygon fill=\"#000000\" stroke=\"#000000\" points=\"128.8282,-122.8523 137.5205,-116.7947 126.9478,-116.1096 128.8282,-122.8523\"/>\n",
       "<text text-anchor=\"middle\" x=\"103.6955\" y=\"-144.8\" font-family=\"Times,serif\" font-size=\"14.00\" fill=\"#000000\">Cooled SNF</text>\n",
       "</g>\n",
       "<!-- Z&#45;&gt;E -->\n",
       "<g id=\"edge11\" class=\"edge\">\n",
       "<title>Z&#45;&gt;E</title>\n",
       "<path fill=\"none\" stroke=\"#000000\" d=\"M206.8612,-121.6736C226.4064,-137.3221 250.6955,-162.6692 250.6955,-192 250.6955,-366 250.6955,-366 250.6955,-366 250.6955,-385.4525 250.6955,-407.3516 250.6955,-424.3123\"/>\n",
       "<polygon fill=\"#000000\" stroke=\"#000000\" points=\"247.1956,-424.6694 250.6955,-434.6694 254.1956,-424.6695 247.1956,-424.6694\"/>\n",
       "<text text-anchor=\"middle\" x=\"258.1955\" y=\"-275.3\" font-family=\"Times,serif\" font-size=\"14.00\" fill=\"#000000\">Pu</text>\n",
       "</g>\n",
       "<!-- Z&#45;&gt;E -->\n",
       "<g id=\"edge12\" class=\"edge\">\n",
       "<title>Z&#45;&gt;E</title>\n",
       "<path fill=\"none\" stroke=\"#000000\" d=\"M226.331,-117.3985C260.2935,-130.031 301.6955,-153.3558 301.6955,-192 301.6955,-366 301.6955,-366 301.6955,-366 301.6955,-388.9602 288.3122,-411.2272 275.2572,-427.4861\"/>\n",
       "<polygon fill=\"#000000\" stroke=\"#000000\" points=\"272.333,-425.5228 268.5328,-435.4127 277.671,-430.0512 272.333,-425.5228\"/>\n",
       "<text text-anchor=\"middle\" x=\"307.1955\" y=\"-275.3\" font-family=\"Times,serif\" font-size=\"14.00\" fill=\"#000000\">U</text>\n",
       "</g>\n",
       "<!-- Z&#45;&gt;I -->\n",
       "<g id=\"edge13\" class=\"edge\">\n",
       "<title>Z&#45;&gt;I</title>\n",
       "<path fill=\"none\" stroke=\"#000000\" d=\"M157.5566,-88.4312C136.4642,-74.5294 106.1925,-54.5776 83.2497,-39.4562\"/>\n",
       "<polygon fill=\"#000000\" stroke=\"#000000\" points=\"85.1256,-36.5008 74.8499,-33.92 81.2734,-42.3455 85.1256,-36.5008\"/>\n",
       "<text text-anchor=\"middle\" x=\"132.6955\" y=\"-57.8\" font-family=\"Times,serif\" font-size=\"14.00\" fill=\"#000000\">FP</text>\n",
       "</g>\n",
       "</g>\n",
       "</svg>\n"
      ],
      "text/plain": [
       "<graphviz.dot.Digraph at 0x7ff13058d890>"
      ]
     },
     "execution_count": 9,
     "metadata": {},
     "output_type": "execute_result"
    }
   ],
   "source": [
    "dot.node('Z', 'Reprocessing')\n",
    "dot.edge('H', 'Z', label='Cooled SNF')\n",
    "dot.edge('G', 'Z', label='Cooled SNF')\n",
    "dot.edge('Z', 'E', label='Pu')\n",
    "dot.edge('Z', 'E', label='U')\n",
    "dot.edge('Z', 'I', label='FP')\n",
    "\n",
    "\n",
    "\n",
    "dot"
   ]
  },
  {
   "cell_type": "markdown",
   "metadata": {},
   "source": [
    "## Wrap-up\n",
    "\n",
    "- Reactors of various types can be distinguished by neutron speed, coolant type, fuel type, size, and generation.\n",
    "- A once through fuel cycle, like that in the US, is identifiable by the immediate storage and ultimate disposal of all spent fuel.\n",
    "- Single and multi pass recycling schemes can be called \"closed\" fuel cycles. These involve separations and reprocessing."
   ]
  },
  {
   "cell_type": "markdown",
   "metadata": {},
   "source": [
    "## References\n",
    "\n",
    "This section was developed to complement chapter 1 of [1]. In reference [2] you'll find a video concerning the front end of the fuel cycle that's pretty fun, 5 minutes, and actually quite accurate. \n",
    "\n",
    "[1] N. Tsoulfanidis, The Nuclear Fuel Cycle. La Grange Park, Illinois, USA: American Nuclear Society, 2013.\n",
    "\n",
    "[2] D. News. How Uranium Becomes Nuclear Fuel. https://www.youtube.com/watch?v=apODDbgFFPI. 2015.\n"
   ]
  },
  {
   "cell_type": "code",
   "execution_count": null,
   "metadata": {
    "collapsed": true
   },
   "outputs": [],
   "source": []
  }
 ],
 "metadata": {
  "anaconda-cloud": {},
  "kernelspec": {
   "display_name": "Python 3",
   "language": "python",
   "name": "python3"
  },
  "language_info": {
   "codemirror_mode": {
    "name": "ipython",
    "version": 3
   },
   "file_extension": ".py",
   "mimetype": "text/x-python",
   "name": "python",
   "nbconvert_exporter": "python",
   "pygments_lexer": "ipython3",
   "version": "3.7.6"
  }
 },
 "nbformat": 4,
 "nbformat_minor": 1
}
