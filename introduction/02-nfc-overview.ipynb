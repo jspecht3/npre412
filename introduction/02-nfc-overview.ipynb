{
 "cells": [
  {
   "cell_type": "markdown",
   "metadata": {},
   "source": [
    "# Nuclear Fuel Cycle Overview\n",
    "\n",
    "The nuclear fuel cycle is the technical and economic system traversed by nuclear fuel during the generation of nuclear power.\n",
    "\n",
    "## Learning Objectives\n",
    "\n",
    "By the end of this lesson, you should be able to:\n",
    "\n",
    "- Categorize types of fission reactors by their fuels and coolants.\n",
    "- Summarize the history and key characteristics of reactor technology generations.\n",
    "- Weigh and compare advanced nuclear reactor types.\n",
    "- Name fuel cycle facilities and technologies that contribute to open and closed cycles.\n",
    "- Identify categories of nuclear fuel cycle strategies (open, closed, etc.)\n",
    "- Associate categories of fuel cycle with nations that implement them (USA, France, etc.)\n",
    "- Order the stages of such fuel cycle from mining to disposal, including reprocessing.\n",
    "- Identify the chemical and physical states of nuclear material passed between stages.\n"
   ]
  },
  {
   "cell_type": "markdown",
   "metadata": {},
   "source": [
    "## Fission Reactor Types\n",
    "\n",
    "Let's see what you know already.\n",
    "\n",
    "[pollev.com/kathrynhuff668](pollev.com/kathrynhuff668)"
   ]
  },
  {
   "cell_type": "code",
   "execution_count": 2,
   "metadata": {},
   "outputs": [
    {
     "data": {
      "text/html": [
       "\n",
       "        <iframe\n",
       "            width=\"1000\"\n",
       "            height=\"700\"\n",
       "            src=\"https://embed.polleverywhere.com/free_text_polls/YWUBNMDynR0yeiu?controls=none&short_poll=true?frameBorder=0\"\n",
       "            frameborder=\"0\"\n",
       "            allowfullscreen\n",
       "            \n",
       "        ></iframe>\n",
       "        "
      ],
      "text/plain": [
       "<IPython.lib.display.IFrame at 0x1069ba630>"
      ]
     },
     "execution_count": 2,
     "metadata": {},
     "output_type": "execute_result"
    }
   ],
   "source": [
    "from IPython.display import IFrame\n",
    "IFrame(\"https://embed.polleverywhere.com/free_text_polls/YWUBNMDynR0yeiu?controls=none&short_poll=true\", width=\"1000\", height=\"700\", frameBorder=\"0\")"
   ]
  },
  {
   "cell_type": "code",
   "execution_count": 3,
   "metadata": {},
   "outputs": [
    {
     "data": {
      "text/html": [
       "\n",
       "        <iframe\n",
       "            width=\"1000\"\n",
       "            height=\"700\"\n",
       "            src=\"https://embed.polleverywhere.com/free_text_polls/rhvKnG3a6nKaNdU?controls=none&short_poll=true?frameBorder=0\"\n",
       "            frameborder=\"0\"\n",
       "            allowfullscreen\n",
       "            \n",
       "        ></iframe>\n",
       "        "
      ],
      "text/plain": [
       "<IPython.lib.display.IFrame at 0x1069fb890>"
      ]
     },
     "execution_count": 3,
     "metadata": {},
     "output_type": "execute_result"
    }
   ],
   "source": [
    "from IPython.display import IFrame\n",
    "IFrame(\"https://embed.polleverywhere.com/free_text_polls/rhvKnG3a6nKaNdU?controls=none&short_poll=true\", width=\"1000\", height=\"700\", frameBorder=\"0\")"
   ]
  },
  {
   "cell_type": "code",
   "execution_count": 4,
   "metadata": {},
   "outputs": [
    {
     "data": {
      "text/html": [
       "\n",
       "        <iframe\n",
       "            width=\"1000\"\n",
       "            height=\"700\"\n",
       "            src=\"https://embed.polleverywhere.com/free_text_polls/zdDog6JmDGOQ1hJ?controls=none&short_poll=true?frameBorder=0\"\n",
       "            frameborder=\"0\"\n",
       "            allowfullscreen\n",
       "            \n",
       "        ></iframe>\n",
       "        "
      ],
      "text/plain": [
       "<IPython.lib.display.IFrame at 0x1069fbbc0>"
      ]
     },
     "execution_count": 4,
     "metadata": {},
     "output_type": "execute_result"
    }
   ],
   "source": [
    "from IPython.display import IFrame\n",
    "IFrame(\"https://embed.polleverywhere.com/free_text_polls/zdDog6JmDGOQ1hJ?controls=none&short_poll=true\", width=\"1000\", height=\"700\", frameBorder=\"0\")"
   ]
  },
  {
   "cell_type": "code",
   "execution_count": 5,
   "metadata": {},
   "outputs": [
    {
     "data": {
      "text/html": [
       "\n",
       "        <iframe\n",
       "            width=\"1000\"\n",
       "            height=\"700\"\n",
       "            src=\"https://embed.polleverywhere.com/free_text_polls/YE5bPL6KecA5M3A?controls=none&short_poll=true?frameBorder=0\"\n",
       "            frameborder=\"0\"\n",
       "            allowfullscreen\n",
       "            \n",
       "        ></iframe>\n",
       "        "
      ],
      "text/plain": [
       "<IPython.lib.display.IFrame at 0x1069fb3e0>"
      ]
     },
     "execution_count": 5,
     "metadata": {},
     "output_type": "execute_result"
    }
   ],
   "source": [
    "from IPython.display import IFrame\n",
    "IFrame(\"https://embed.polleverywhere.com/free_text_polls/YE5bPL6KecA5M3A?controls=none&short_poll=true\", width=\"1000\", height=\"700\", frameBorder=\"0\")"
   ]
  },
  {
   "cell_type": "code",
   "execution_count": 6,
   "metadata": {},
   "outputs": [
    {
     "data": {
      "text/html": [
       "\n",
       "        <iframe\n",
       "            width=\"1000\"\n",
       "            height=\"700\"\n",
       "            src=\"https://embed.polleverywhere.com/free_text_polls/BLojIJiKtPULpmw?controls=none&short_poll=true?frameBorder=0\"\n",
       "            frameborder=\"0\"\n",
       "            allowfullscreen\n",
       "            \n",
       "        ></iframe>\n",
       "        "
      ],
      "text/plain": [
       "<IPython.lib.display.IFrame at 0x1069fa6c0>"
      ]
     },
     "execution_count": 6,
     "metadata": {},
     "output_type": "execute_result"
    }
   ],
   "source": [
    "from IPython.display import IFrame\n",
    "IFrame(\"https://embed.polleverywhere.com/free_text_polls/BLojIJiKtPULpmw?controls=none&short_poll=true\", width=\"1000\", height=\"700\", frameBorder=\"0\")"
   ]
  },
  {
   "cell_type": "markdown",
   "metadata": {},
   "source": [
    "A really good summary, with images, can be found [here](https://www.theiet.org/media/8809/nuclear-reactor-types.pdf)."
   ]
  },
  {
   "cell_type": "markdown",
   "metadata": {},
   "source": [
    "## What about fusion?\n",
    "\n",
    "Fusion devices can use Tritium, Deuterium, Protium, $^3He$, $^4He$. Their fuel cycles typically involve breeding more fuel. Fusion isn't explicitly part of the content of this class, but all fusion concepts being proposed will have fuel cycles, waste, and economics that follow similar models as fission concepts.\n",
    "\n",
    "![https://upload.wikimedia.org/wikipedia/commons/thumb/d/da/ITER_Tokamak_and_Plant_Systems_%282016%29_%2841783636452%29.jpg/1200px-ITER_Tokamak_and_Plant_Systems_%282016%29_%2841783636452%29.jpg](https://upload.wikimedia.org/wikipedia/commons/thumb/d/da/ITER_Tokamak_and_Plant_Systems_%282016%29_%2841783636452%29.jpg/1200px-ITER_Tokamak_and_Plant_Systems_%282016%29_%2841783636452%29.jpg)"
   ]
  },
  {
   "cell_type": "markdown",
   "metadata": {},
   "source": [
    "# Fuel Cycle Strategies\n",
    "\n",
    "## Once through\n",
    "\n",
    "Also known as an open fuel cycle, this is the fuel cycle currently underway in the United States. There is no reprocessing or recycling of any kind and all high level spent nuclear fuel is eventually destined for a geologic repository."
   ]
  },
  {
   "cell_type": "code",
   "execution_count": 9,
   "metadata": {},
   "outputs": [],
   "source": [
    "try:\n",
    "    import graphviz  \n",
    "except ImportError:\n",
    "    !y | conda install graphviz \n",
    "    !pip install graphviz"
   ]
  },
  {
   "cell_type": "code",
   "execution_count": 10,
   "metadata": {},
   "outputs": [
    {
     "data": {
      "image/svg+xml": [
       "<?xml version=\"1.0\" encoding=\"UTF-8\" standalone=\"no\"?>\n",
       "<!DOCTYPE svg PUBLIC \"-//W3C//DTD SVG 1.1//EN\"\n",
       " \"http://www.w3.org/Graphics/SVG/1.1/DTD/svg11.dtd\">\n",
       "<!-- Generated by graphviz version 2.50.0 (0)\n",
       " -->\n",
       "<!-- Pages: 1 -->\n",
       "<svg width=\"156pt\" height=\"740pt\"\n",
       " viewBox=\"0.00 0.00 155.89 740.00\" xmlns=\"http://www.w3.org/2000/svg\" xmlns:xlink=\"http://www.w3.org/1999/xlink\">\n",
       "<g id=\"graph0\" class=\"graph\" transform=\"scale(1 1) rotate(0) translate(4 736)\">\n",
       "<polygon fill=\"white\" stroke=\"transparent\" points=\"-4,4 -4,-736 151.89,-736 151.89,4 -4,4\"/>\n",
       "<!-- A -->\n",
       "<g id=\"node1\" class=\"node\">\n",
       "<title>A</title>\n",
       "<ellipse fill=\"none\" stroke=\"black\" cx=\"68.89\" cy=\"-714\" rx=\"29.8\" ry=\"18\"/>\n",
       "<text text-anchor=\"middle\" x=\"68.89\" y=\"-710.3\" font-family=\"Times,serif\" font-size=\"14.00\">Mine</text>\n",
       "</g>\n",
       "<!-- B -->\n",
       "<g id=\"node2\" class=\"node\">\n",
       "<title>B</title>\n",
       "<ellipse fill=\"none\" stroke=\"black\" cx=\"68.89\" cy=\"-627\" rx=\"27\" ry=\"18\"/>\n",
       "<text text-anchor=\"middle\" x=\"68.89\" y=\"-623.3\" font-family=\"Times,serif\" font-size=\"14.00\">Mill</text>\n",
       "</g>\n",
       "<!-- A&#45;&gt;B -->\n",
       "<g id=\"edge1\" class=\"edge\">\n",
       "<title>A&#45;&gt;B</title>\n",
       "<path fill=\"none\" stroke=\"black\" d=\"M68.89,-695.8C68.89,-684.16 68.89,-668.55 68.89,-655.24\"/>\n",
       "<polygon fill=\"black\" stroke=\"black\" points=\"72.39,-655.18 68.89,-645.18 65.39,-655.18 72.39,-655.18\"/>\n",
       "<text text-anchor=\"middle\" x=\"108.39\" y=\"-666.8\" font-family=\"Times,serif\" font-size=\"14.00\">Natural U Ore</text>\n",
       "</g>\n",
       "<!-- C -->\n",
       "<g id=\"node3\" class=\"node\">\n",
       "<title>C</title>\n",
       "<ellipse fill=\"none\" stroke=\"black\" cx=\"68.89\" cy=\"-540\" rx=\"51.19\" ry=\"18\"/>\n",
       "<text text-anchor=\"middle\" x=\"68.89\" y=\"-536.3\" font-family=\"Times,serif\" font-size=\"14.00\">Conversion</text>\n",
       "</g>\n",
       "<!-- B&#45;&gt;C -->\n",
       "<g id=\"edge2\" class=\"edge\">\n",
       "<title>B&#45;&gt;C</title>\n",
       "<path fill=\"none\" stroke=\"black\" d=\"M68.89,-608.8C68.89,-597.16 68.89,-581.55 68.89,-568.24\"/>\n",
       "<polygon fill=\"black\" stroke=\"black\" points=\"72.39,-568.18 68.89,-558.18 65.39,-568.18 72.39,-568.18\"/>\n",
       "<text text-anchor=\"middle\" x=\"85.89\" y=\"-579.8\" font-family=\"Times,serif\" font-size=\"14.00\">U3O8</text>\n",
       "</g>\n",
       "<!-- D -->\n",
       "<g id=\"node4\" class=\"node\">\n",
       "<title>D</title>\n",
       "<ellipse fill=\"none\" stroke=\"black\" cx=\"68.89\" cy=\"-453\" rx=\"51.99\" ry=\"18\"/>\n",
       "<text text-anchor=\"middle\" x=\"68.89\" y=\"-449.3\" font-family=\"Times,serif\" font-size=\"14.00\">Enrichment</text>\n",
       "</g>\n",
       "<!-- C&#45;&gt;D -->\n",
       "<g id=\"edge3\" class=\"edge\">\n",
       "<title>C&#45;&gt;D</title>\n",
       "<path fill=\"none\" stroke=\"black\" d=\"M68.89,-521.8C68.89,-510.16 68.89,-494.55 68.89,-481.24\"/>\n",
       "<polygon fill=\"black\" stroke=\"black\" points=\"72.39,-481.18 68.89,-471.18 65.39,-481.18 72.39,-481.18\"/>\n",
       "<text text-anchor=\"middle\" x=\"81.39\" y=\"-492.8\" font-family=\"Times,serif\" font-size=\"14.00\">UF6</text>\n",
       "</g>\n",
       "<!-- E -->\n",
       "<g id=\"node5\" class=\"node\">\n",
       "<title>E</title>\n",
       "<ellipse fill=\"none\" stroke=\"black\" cx=\"68.89\" cy=\"-366\" rx=\"68.79\" ry=\"18\"/>\n",
       "<text text-anchor=\"middle\" x=\"68.89\" y=\"-362.3\" font-family=\"Times,serif\" font-size=\"14.00\">Fuel Fabrication</text>\n",
       "</g>\n",
       "<!-- D&#45;&gt;E -->\n",
       "<g id=\"edge4\" class=\"edge\">\n",
       "<title>D&#45;&gt;E</title>\n",
       "<path fill=\"none\" stroke=\"black\" d=\"M68.89,-434.8C68.89,-423.16 68.89,-407.55 68.89,-394.24\"/>\n",
       "<polygon fill=\"black\" stroke=\"black\" points=\"72.39,-394.18 68.89,-384.18 65.39,-394.18 72.39,-394.18\"/>\n",
       "<text text-anchor=\"middle\" x=\"107.39\" y=\"-405.8\" font-family=\"Times,serif\" font-size=\"14.00\">Enriched UF6</text>\n",
       "</g>\n",
       "<!-- F -->\n",
       "<g id=\"node6\" class=\"node\">\n",
       "<title>F</title>\n",
       "<ellipse fill=\"none\" stroke=\"black\" cx=\"68.89\" cy=\"-279\" rx=\"38.19\" ry=\"18\"/>\n",
       "<text text-anchor=\"middle\" x=\"68.89\" y=\"-275.3\" font-family=\"Times,serif\" font-size=\"14.00\">Reactor</text>\n",
       "</g>\n",
       "<!-- E&#45;&gt;F -->\n",
       "<g id=\"edge5\" class=\"edge\">\n",
       "<title>E&#45;&gt;F</title>\n",
       "<path fill=\"none\" stroke=\"black\" d=\"M68.89,-347.8C68.89,-336.16 68.89,-320.55 68.89,-307.24\"/>\n",
       "<polygon fill=\"black\" stroke=\"black\" points=\"72.39,-307.18 68.89,-297.18 65.39,-307.18 72.39,-307.18\"/>\n",
       "<text text-anchor=\"middle\" x=\"97.89\" y=\"-318.8\" font-family=\"Times,serif\" font-size=\"14.00\">Fresh Fuel</text>\n",
       "</g>\n",
       "<!-- G -->\n",
       "<g id=\"node7\" class=\"node\">\n",
       "<title>G</title>\n",
       "<ellipse fill=\"none\" stroke=\"black\" cx=\"68.89\" cy=\"-192\" rx=\"54.69\" ry=\"18\"/>\n",
       "<text text-anchor=\"middle\" x=\"68.89\" y=\"-188.3\" font-family=\"Times,serif\" font-size=\"14.00\">Wet Storage</text>\n",
       "</g>\n",
       "<!-- F&#45;&gt;G -->\n",
       "<g id=\"edge6\" class=\"edge\">\n",
       "<title>F&#45;&gt;G</title>\n",
       "<path fill=\"none\" stroke=\"black\" d=\"M68.89,-260.8C68.89,-249.16 68.89,-233.55 68.89,-220.24\"/>\n",
       "<polygon fill=\"black\" stroke=\"black\" points=\"72.39,-220.18 68.89,-210.18 65.39,-220.18 72.39,-220.18\"/>\n",
       "<text text-anchor=\"middle\" x=\"98.39\" y=\"-231.8\" font-family=\"Times,serif\" font-size=\"14.00\">Spent Fuel</text>\n",
       "</g>\n",
       "<!-- H -->\n",
       "<g id=\"node8\" class=\"node\">\n",
       "<title>H</title>\n",
       "<ellipse fill=\"none\" stroke=\"black\" cx=\"68.89\" cy=\"-105\" rx=\"53.89\" ry=\"18\"/>\n",
       "<text text-anchor=\"middle\" x=\"68.89\" y=\"-101.3\" font-family=\"Times,serif\" font-size=\"14.00\">Dry Storage</text>\n",
       "</g>\n",
       "<!-- G&#45;&gt;H -->\n",
       "<g id=\"edge7\" class=\"edge\">\n",
       "<title>G&#45;&gt;H</title>\n",
       "<path fill=\"none\" stroke=\"black\" d=\"M68.89,-173.8C68.89,-162.16 68.89,-146.55 68.89,-133.24\"/>\n",
       "<polygon fill=\"black\" stroke=\"black\" points=\"72.39,-133.18 68.89,-123.18 65.39,-133.18 72.39,-133.18\"/>\n",
       "<text text-anchor=\"middle\" x=\"102.89\" y=\"-144.8\" font-family=\"Times,serif\" font-size=\"14.00\">Cooled SNF</text>\n",
       "</g>\n",
       "<!-- I -->\n",
       "<g id=\"node9\" class=\"node\">\n",
       "<title>I</title>\n",
       "<ellipse fill=\"none\" stroke=\"black\" cx=\"68.89\" cy=\"-18\" rx=\"49.29\" ry=\"18\"/>\n",
       "<text text-anchor=\"middle\" x=\"68.89\" y=\"-14.3\" font-family=\"Times,serif\" font-size=\"14.00\">Repository</text>\n",
       "</g>\n",
       "<!-- H&#45;&gt;I -->\n",
       "<g id=\"edge8\" class=\"edge\">\n",
       "<title>H&#45;&gt;I</title>\n",
       "<path fill=\"none\" stroke=\"black\" d=\"M68.89,-86.8C68.89,-75.16 68.89,-59.55 68.89,-46.24\"/>\n",
       "<polygon fill=\"black\" stroke=\"black\" points=\"72.39,-46.18 68.89,-36.18 65.39,-46.18 72.39,-46.18\"/>\n",
       "<text text-anchor=\"middle\" x=\"102.89\" y=\"-57.8\" font-family=\"Times,serif\" font-size=\"14.00\">Cooled SNF</text>\n",
       "</g>\n",
       "</g>\n",
       "</svg>\n"
      ],
      "text/plain": [
       "<graphviz.graphs.Digraph at 0x1069fb530>"
      ]
     },
     "execution_count": 10,
     "metadata": {},
     "output_type": "execute_result"
    }
   ],
   "source": [
    "from graphviz import Digraph\n",
    "\n",
    "dot = Digraph(comment='The Round Table')\n",
    "dot.node('A', 'Mine')\n",
    "dot.node('B', 'Mill')\n",
    "dot.node('C', 'Conversion')\n",
    "dot.node('D', 'Enrichment')\n",
    "dot.node('E', 'Fuel Fabrication')\n",
    "dot.node('F', 'Reactor')\n",
    "dot.node('G', 'Wet Storage')\n",
    "dot.node('H', 'Dry Storage')\n",
    "dot.node('I', 'Repository')\n",
    "\n",
    "dot.edge('A', 'B', label='Natural U Ore')\n",
    "dot.edge('B', 'C', label='U3O8')\n",
    "dot.edge('C', 'D', label='UF6')\n",
    "dot.edge('D', 'E', label='Enriched UF6')\n",
    "dot.edge('E', 'F', label='Fresh Fuel')\n",
    "dot.edge('F', 'G', label='Spent Fuel')\n",
    "dot.edge('G', 'H', label='Cooled SNF')\n",
    "dot.edge('H', 'I', label='Cooled SNF')\n",
    "dot"
   ]
  },
  {
   "cell_type": "markdown",
   "metadata": {},
   "source": [
    "## Single Pass or Multi Pass Recycle\n",
    "\n",
    "To add reprocessing or recycling,  and all high level spent nuclear fuel is eventually destined for a geologic repository"
   ]
  },
  {
   "cell_type": "code",
   "execution_count": 11,
   "metadata": {},
   "outputs": [
    {
     "data": {
      "image/svg+xml": [
       "<?xml version=\"1.0\" encoding=\"UTF-8\" standalone=\"no\"?>\n",
       "<!DOCTYPE svg PUBLIC \"-//W3C//DTD SVG 1.1//EN\"\n",
       " \"http://www.w3.org/Graphics/SVG/1.1/DTD/svg11.dtd\">\n",
       "<!-- Generated by graphviz version 2.50.0 (0)\n",
       " -->\n",
       "<!-- Pages: 1 -->\n",
       "<svg width=\"332pt\" height=\"827pt\"\n",
       " viewBox=\"0.00 0.00 332.40 827.00\" xmlns=\"http://www.w3.org/2000/svg\" xmlns:xlink=\"http://www.w3.org/1999/xlink\">\n",
       "<g id=\"graph0\" class=\"graph\" transform=\"scale(1 1) rotate(0) translate(4 823)\">\n",
       "<polygon fill=\"white\" stroke=\"transparent\" points=\"-4,4 -4,-823 328.4,-823 328.4,4 -4,4\"/>\n",
       "<!-- A -->\n",
       "<g id=\"node1\" class=\"node\">\n",
       "<title>A</title>\n",
       "<ellipse fill=\"none\" stroke=\"black\" cx=\"245.4\" cy=\"-801\" rx=\"29.8\" ry=\"18\"/>\n",
       "<text text-anchor=\"middle\" x=\"245.4\" y=\"-797.3\" font-family=\"Times,serif\" font-size=\"14.00\">Mine</text>\n",
       "</g>\n",
       "<!-- B -->\n",
       "<g id=\"node2\" class=\"node\">\n",
       "<title>B</title>\n",
       "<ellipse fill=\"none\" stroke=\"black\" cx=\"245.4\" cy=\"-714\" rx=\"27\" ry=\"18\"/>\n",
       "<text text-anchor=\"middle\" x=\"245.4\" y=\"-710.3\" font-family=\"Times,serif\" font-size=\"14.00\">Mill</text>\n",
       "</g>\n",
       "<!-- A&#45;&gt;B -->\n",
       "<g id=\"edge1\" class=\"edge\">\n",
       "<title>A&#45;&gt;B</title>\n",
       "<path fill=\"none\" stroke=\"black\" d=\"M245.4,-782.8C245.4,-771.16 245.4,-755.55 245.4,-742.24\"/>\n",
       "<polygon fill=\"black\" stroke=\"black\" points=\"248.9,-742.18 245.4,-732.18 241.9,-742.18 248.9,-742.18\"/>\n",
       "<text text-anchor=\"middle\" x=\"284.9\" y=\"-753.8\" font-family=\"Times,serif\" font-size=\"14.00\">Natural U Ore</text>\n",
       "</g>\n",
       "<!-- C -->\n",
       "<g id=\"node3\" class=\"node\">\n",
       "<title>C</title>\n",
       "<ellipse fill=\"none\" stroke=\"black\" cx=\"245.4\" cy=\"-627\" rx=\"51.19\" ry=\"18\"/>\n",
       "<text text-anchor=\"middle\" x=\"245.4\" y=\"-623.3\" font-family=\"Times,serif\" font-size=\"14.00\">Conversion</text>\n",
       "</g>\n",
       "<!-- B&#45;&gt;C -->\n",
       "<g id=\"edge2\" class=\"edge\">\n",
       "<title>B&#45;&gt;C</title>\n",
       "<path fill=\"none\" stroke=\"black\" d=\"M245.4,-695.8C245.4,-684.16 245.4,-668.55 245.4,-655.24\"/>\n",
       "<polygon fill=\"black\" stroke=\"black\" points=\"248.9,-655.18 245.4,-645.18 241.9,-655.18 248.9,-655.18\"/>\n",
       "<text text-anchor=\"middle\" x=\"262.4\" y=\"-666.8\" font-family=\"Times,serif\" font-size=\"14.00\">U3O8</text>\n",
       "</g>\n",
       "<!-- D -->\n",
       "<g id=\"node4\" class=\"node\">\n",
       "<title>D</title>\n",
       "<ellipse fill=\"none\" stroke=\"black\" cx=\"245.4\" cy=\"-540\" rx=\"51.99\" ry=\"18\"/>\n",
       "<text text-anchor=\"middle\" x=\"245.4\" y=\"-536.3\" font-family=\"Times,serif\" font-size=\"14.00\">Enrichment</text>\n",
       "</g>\n",
       "<!-- C&#45;&gt;D -->\n",
       "<g id=\"edge3\" class=\"edge\">\n",
       "<title>C&#45;&gt;D</title>\n",
       "<path fill=\"none\" stroke=\"black\" d=\"M245.4,-608.8C245.4,-597.16 245.4,-581.55 245.4,-568.24\"/>\n",
       "<polygon fill=\"black\" stroke=\"black\" points=\"248.9,-568.18 245.4,-558.18 241.9,-568.18 248.9,-568.18\"/>\n",
       "<text text-anchor=\"middle\" x=\"257.9\" y=\"-579.8\" font-family=\"Times,serif\" font-size=\"14.00\">UF6</text>\n",
       "</g>\n",
       "<!-- E -->\n",
       "<g id=\"node5\" class=\"node\">\n",
       "<title>E</title>\n",
       "<ellipse fill=\"none\" stroke=\"black\" cx=\"245.4\" cy=\"-453\" rx=\"68.79\" ry=\"18\"/>\n",
       "<text text-anchor=\"middle\" x=\"245.4\" y=\"-449.3\" font-family=\"Times,serif\" font-size=\"14.00\">Fuel Fabrication</text>\n",
       "</g>\n",
       "<!-- D&#45;&gt;E -->\n",
       "<g id=\"edge4\" class=\"edge\">\n",
       "<title>D&#45;&gt;E</title>\n",
       "<path fill=\"none\" stroke=\"black\" d=\"M245.4,-521.8C245.4,-510.16 245.4,-494.55 245.4,-481.24\"/>\n",
       "<polygon fill=\"black\" stroke=\"black\" points=\"248.9,-481.18 245.4,-471.18 241.9,-481.18 248.9,-481.18\"/>\n",
       "<text text-anchor=\"middle\" x=\"283.9\" y=\"-492.8\" font-family=\"Times,serif\" font-size=\"14.00\">Enriched UF6</text>\n",
       "</g>\n",
       "<!-- F -->\n",
       "<g id=\"node6\" class=\"node\">\n",
       "<title>F</title>\n",
       "<ellipse fill=\"none\" stroke=\"black\" cx=\"172.4\" cy=\"-366\" rx=\"38.19\" ry=\"18\"/>\n",
       "<text text-anchor=\"middle\" x=\"172.4\" y=\"-362.3\" font-family=\"Times,serif\" font-size=\"14.00\">Reactor</text>\n",
       "</g>\n",
       "<!-- E&#45;&gt;F -->\n",
       "<g id=\"edge5\" class=\"edge\">\n",
       "<title>E&#45;&gt;F</title>\n",
       "<path fill=\"none\" stroke=\"black\" d=\"M200.46,-439.33C189.84,-434.15 179.76,-426.95 173.4,-417 169.1,-410.29 167.76,-401.96 167.8,-394.04\"/>\n",
       "<polygon fill=\"black\" stroke=\"black\" points=\"171.29,-394.26 168.52,-384.03 164.31,-393.75 171.29,-394.26\"/>\n",
       "<text text-anchor=\"middle\" x=\"202.4\" y=\"-405.8\" font-family=\"Times,serif\" font-size=\"14.00\">Fresh Fuel</text>\n",
       "</g>\n",
       "<!-- G -->\n",
       "<g id=\"node7\" class=\"node\">\n",
       "<title>G</title>\n",
       "<ellipse fill=\"none\" stroke=\"black\" cx=\"149.4\" cy=\"-279\" rx=\"54.69\" ry=\"18\"/>\n",
       "<text text-anchor=\"middle\" x=\"149.4\" y=\"-275.3\" font-family=\"Times,serif\" font-size=\"14.00\">Wet Storage</text>\n",
       "</g>\n",
       "<!-- F&#45;&gt;G -->\n",
       "<g id=\"edge6\" class=\"edge\">\n",
       "<title>F&#45;&gt;G</title>\n",
       "<path fill=\"none\" stroke=\"black\" d=\"M167.74,-347.8C164.56,-336.05 160.28,-320.24 156.66,-306.84\"/>\n",
       "<polygon fill=\"black\" stroke=\"black\" points=\"160.03,-305.91 154.04,-297.18 153.28,-307.74 160.03,-305.91\"/>\n",
       "<text text-anchor=\"middle\" x=\"191.9\" y=\"-318.8\" font-family=\"Times,serif\" font-size=\"14.00\">Spent Fuel</text>\n",
       "</g>\n",
       "<!-- H -->\n",
       "<g id=\"node8\" class=\"node\">\n",
       "<title>H</title>\n",
       "<ellipse fill=\"none\" stroke=\"black\" cx=\"59.4\" cy=\"-192\" rx=\"53.89\" ry=\"18\"/>\n",
       "<text text-anchor=\"middle\" x=\"59.4\" y=\"-188.3\" font-family=\"Times,serif\" font-size=\"14.00\">Dry Storage</text>\n",
       "</g>\n",
       "<!-- G&#45;&gt;H -->\n",
       "<g id=\"edge7\" class=\"edge\">\n",
       "<title>G&#45;&gt;H</title>\n",
       "<path fill=\"none\" stroke=\"black\" d=\"M105.34,-268.28C91.23,-263.05 76.83,-255.08 67.4,-243 62.43,-236.64 60,-228.41 58.92,-220.48\"/>\n",
       "<polygon fill=\"black\" stroke=\"black\" points=\"62.4,-220.11 58.18,-210.39 55.42,-220.62 62.4,-220.11\"/>\n",
       "<text text-anchor=\"middle\" x=\"101.4\" y=\"-231.8\" font-family=\"Times,serif\" font-size=\"14.00\">Cooled SNF</text>\n",
       "</g>\n",
       "<!-- Z -->\n",
       "<g id=\"node10\" class=\"node\">\n",
       "<title>Z</title>\n",
       "<ellipse fill=\"none\" stroke=\"black\" cx=\"177.4\" cy=\"-105\" rx=\"57.69\" ry=\"18\"/>\n",
       "<text text-anchor=\"middle\" x=\"177.4\" y=\"-101.3\" font-family=\"Times,serif\" font-size=\"14.00\">Reprocessing</text>\n",
       "</g>\n",
       "<!-- G&#45;&gt;Z -->\n",
       "<g id=\"edge10\" class=\"edge\">\n",
       "<title>G&#45;&gt;Z</title>\n",
       "<path fill=\"none\" stroke=\"black\" d=\"M151.36,-260.65C153.79,-239.95 158.23,-204.35 163.4,-174 165.72,-160.35 168.77,-145.27 171.44,-132.78\"/>\n",
       "<polygon fill=\"black\" stroke=\"black\" points=\"174.86,-133.5 173.56,-122.99 168.02,-132.02 174.86,-133.5\"/>\n",
       "<text text-anchor=\"middle\" x=\"197.4\" y=\"-188.3\" font-family=\"Times,serif\" font-size=\"14.00\">Cooled SNF</text>\n",
       "</g>\n",
       "<!-- I -->\n",
       "<g id=\"node9\" class=\"node\">\n",
       "<title>I</title>\n",
       "<ellipse fill=\"none\" stroke=\"black\" cx=\"49.4\" cy=\"-18\" rx=\"49.29\" ry=\"18\"/>\n",
       "<text text-anchor=\"middle\" x=\"49.4\" y=\"-14.3\" font-family=\"Times,serif\" font-size=\"14.00\">Repository</text>\n",
       "</g>\n",
       "<!-- H&#45;&gt;I -->\n",
       "<g id=\"edge8\" class=\"edge\">\n",
       "<title>H&#45;&gt;I</title>\n",
       "<path fill=\"none\" stroke=\"black\" d=\"M53.88,-173.89C49.79,-160.27 44.57,-140.63 42.4,-123 39.19,-97 41.85,-67.15 44.77,-46.11\"/>\n",
       "<polygon fill=\"black\" stroke=\"black\" points=\"48.26,-46.4 46.28,-35.99 41.34,-45.36 48.26,-46.4\"/>\n",
       "<text text-anchor=\"middle\" x=\"76.4\" y=\"-101.3\" font-family=\"Times,serif\" font-size=\"14.00\">Cooled SNF</text>\n",
       "</g>\n",
       "<!-- H&#45;&gt;Z -->\n",
       "<g id=\"edge9\" class=\"edge\">\n",
       "<title>H&#45;&gt;Z</title>\n",
       "<path fill=\"none\" stroke=\"black\" d=\"M57.88,-173.84C57.88,-163.21 59.71,-149.93 67.4,-141 71.54,-136.19 98.57,-127.55 124.79,-120.07\"/>\n",
       "<polygon fill=\"black\" stroke=\"black\" points=\"126.07,-123.34 134.75,-117.26 124.18,-116.6 126.07,-123.34\"/>\n",
       "<text text-anchor=\"middle\" x=\"101.4\" y=\"-144.8\" font-family=\"Times,serif\" font-size=\"14.00\">Cooled SNF</text>\n",
       "</g>\n",
       "<!-- Z&#45;&gt;E -->\n",
       "<g id=\"edge11\" class=\"edge\">\n",
       "<title>Z&#45;&gt;E</title>\n",
       "<path fill=\"none\" stroke=\"black\" d=\"M200.8,-121.57C220.47,-136.73 245.4,-161.71 245.4,-191 245.4,-367 245.4,-367 245.4,-367 245.4,-386.25 245.4,-407.95 245.4,-424.6\"/>\n",
       "<polygon fill=\"black\" stroke=\"black\" points=\"241.9,-424.74 245.4,-434.74 248.9,-424.74 241.9,-424.74\"/>\n",
       "<text text-anchor=\"middle\" x=\"252.9\" y=\"-275.3\" font-family=\"Times,serif\" font-size=\"14.00\">Pu</text>\n",
       "</g>\n",
       "<!-- Z&#45;&gt;E -->\n",
       "<g id=\"edge12\" class=\"edge\">\n",
       "<title>Z&#45;&gt;E</title>\n",
       "<path fill=\"none\" stroke=\"black\" d=\"M219.69,-117.34C253.89,-129.38 296.4,-152.16 296.4,-191 296.4,-367 296.4,-367 296.4,-367 296.4,-389.86 282.66,-411.89 269.45,-427.78\"/>\n",
       "<polygon fill=\"black\" stroke=\"black\" points=\"266.63,-425.69 262.66,-435.51 271.89,-430.31 266.63,-425.69\"/>\n",
       "<text text-anchor=\"middle\" x=\"301.4\" y=\"-275.3\" font-family=\"Times,serif\" font-size=\"14.00\">U</text>\n",
       "</g>\n",
       "<!-- Z&#45;&gt;I -->\n",
       "<g id=\"edge13\" class=\"edge\">\n",
       "<title>Z&#45;&gt;I</title>\n",
       "<path fill=\"none\" stroke=\"black\" d=\"M153.92,-88.41C133.4,-74.79 103.45,-54.89 80.86,-39.89\"/>\n",
       "<polygon fill=\"black\" stroke=\"black\" points=\"82.56,-36.82 72.29,-34.21 78.69,-42.65 82.56,-36.82\"/>\n",
       "<text text-anchor=\"middle\" x=\"129.4\" y=\"-57.8\" font-family=\"Times,serif\" font-size=\"14.00\">FP</text>\n",
       "</g>\n",
       "</g>\n",
       "</svg>\n"
      ],
      "text/plain": [
       "<graphviz.graphs.Digraph at 0x1069fb530>"
      ]
     },
     "execution_count": 11,
     "metadata": {},
     "output_type": "execute_result"
    }
   ],
   "source": [
    "dot.node('Z', 'Reprocessing')\n",
    "dot.edge('H', 'Z', label='Cooled SNF')\n",
    "dot.edge('G', 'Z', label='Cooled SNF')\n",
    "dot.edge('Z', 'E', label='Pu')\n",
    "dot.edge('Z', 'E', label='U')\n",
    "dot.edge('Z', 'I', label='FP')\n",
    "\n",
    "\n",
    "\n",
    "dot"
   ]
  },
  {
   "cell_type": "markdown",
   "metadata": {},
   "source": [
    "## Wrap-up\n",
    "\n",
    "- Reactors of various types can be distinguished by neutron speed, coolant type, fuel type, size, and generation.\n",
    "- A once through fuel cycle, like that in the US, is identifiable by the immediate storage and ultimate disposal of all spent fuel.\n",
    "- Single and multi pass recycling schemes can be called \"closed\" fuel cycles. These involve separations and reprocessing."
   ]
  },
  {
   "cell_type": "markdown",
   "metadata": {},
   "source": [
    "## References\n",
    "\n",
    "This section was developed to complement chapter 1 of [1]. In reference [2] you'll find a video concerning the front end of the fuel cycle that's pretty fun, 5 minutes, and actually quite accurate. \n",
    "\n",
    "[1] N. Tsoulfanidis, The Nuclear Fuel Cycle. La Grange Park, Illinois, USA: American Nuclear Society, 2013.\n",
    "\n",
    "[2] D. News. How Uranium Becomes Nuclear Fuel. https://www.youtube.com/watch?v=apODDbgFFPI. 2015.\n"
   ]
  },
  {
   "cell_type": "code",
   "execution_count": null,
   "metadata": {
    "collapsed": true,
    "jupyter": {
     "outputs_hidden": true
    }
   },
   "outputs": [],
   "source": []
  }
 ],
 "metadata": {
  "anaconda-cloud": {},
  "kernelspec": {
   "display_name": "Python 3 (ipykernel)",
   "language": "python",
   "name": "python3"
  },
  "language_info": {
   "codemirror_mode": {
    "name": "ipython",
    "version": 3
   },
   "file_extension": ".py",
   "mimetype": "text/x-python",
   "name": "python",
   "nbconvert_exporter": "python",
   "pygments_lexer": "ipython3",
   "version": "3.12.7"
  }
 },
 "nbformat": 4,
 "nbformat_minor": 4
}
