{
 "cells": [
  {
   "cell_type": "code",
   "execution_count": 22,
   "metadata": {},
   "outputs": [],
   "source": [
    "#Uncomment the below and re-run if you have a matplotlib library error in the next cell.\n",
    "#pip install matplotlib ipympl"
   ]
  },
  {
   "cell_type": "code",
   "execution_count": 23,
   "metadata": {},
   "outputs": [],
   "source": [
    "%matplotlib notebook\n",
    "%matplotlib inline\n",
    "import math\n",
    "import matplotlib.pyplot as plt"
   ]
  },
  {
   "cell_type": "markdown",
   "metadata": {},
   "source": [
    "\n",
    "# Nuclear Power Economics and Fuel Management\n",
    "\n"
   ]
  },
  {
   "cell_type": "markdown",
   "metadata": {},
   "source": [
    "## Syllabus\n",
    "\n",
    "Throughout the semester, you can always find the syllabus online at [https://github.com/katyhuff/npre412/blob/master/syllabus/syllabus.pdf](https://github.com/katyhuff/npre412/blob/master/syllabus/syllabus.pdf)."
   ]
  },
  {
   "cell_type": "code",
   "execution_count": 17,
   "metadata": {
    "scrolled": true
   },
   "outputs": [
    {
     "data": {
      "text/html": [
       "\n",
       "        <iframe\n",
       "            width=\"1000\"\n",
       "            height=\"1000\"\n",
       "            src=\"../syllabus/syllabus.pdf\"\n",
       "            frameborder=\"0\"\n",
       "            allowfullscreen\n",
       "            \n",
       "        ></iframe>\n",
       "        "
      ],
      "text/plain": [
       "<IPython.lib.display.IFrame at 0x116d59160>"
      ]
     },
     "execution_count": 17,
     "metadata": {},
     "output_type": "execute_result"
    }
   ],
   "source": [
    "from IPython.display import IFrame\n",
    "IFrame(\"../syllabus/syllabus.pdf\", width=1000, height=1000)"
   ]
  },
  {
   "cell_type": "code",
   "execution_count": 18,
   "metadata": {},
   "outputs": [
    {
     "data": {
      "text/html": [
       "\n",
       "        <iframe\n",
       "            width=\"1000\"\n",
       "            height=\"700\"\n",
       "            src=\"http://katyhuff.github.io\"\n",
       "            frameborder=\"0\"\n",
       "            allowfullscreen\n",
       "            \n",
       "        ></iframe>\n",
       "        "
      ],
      "text/plain": [
       "<IPython.lib.display.IFrame at 0x11766dc70>"
      ]
     },
     "execution_count": 18,
     "metadata": {},
     "output_type": "execute_result"
    }
   ],
   "source": [
    "from IPython.display import IFrame\n",
    "IFrame(\"http://katyhuff.github.io\", width=1000, height=700)"
   ]
  },
  {
   "cell_type": "markdown",
   "metadata": {},
   "source": [
    "## Assessment\n",
    "\n",
    "\n",
    "My goal (and, hopefully your goal) is for you to learn this material. If I have done my job right, your grade in this class will reflect just that -- how much you have learned. To do this for many learning types, your comprehension of the readings will be assessed with quizzes, your ability to apply what you've learned from class on your own will be assessed with the homeworks and projects, and your wholistic retention of the material will be assessed with projects.\n",
    "\n",
    "![http://www.phdcomics.com/comics/archive/phd051910s.gif](http://www.phdcomics.com/comics/archive/phd051910s.gif)\n"
   ]
  },
  {
   "cell_type": "markdown",
   "metadata": {},
   "source": [
    "### Tuesday Background Reading Assignments\n",
    "\n",
    "Rather than introducing you to concepts during class, I think our time is better spent if we focus on exploring those concepts through demonstration and discussion together. **This 'active learning' educational strategy is backed by science, but is also just more respectful of your ability to learn things on your own.** Therefore, the lectures will assume you have studied the background materials ahead of time. This will include book sections, government reports, videos, and other resources. You will be expected to study the material outside of class before the start of each week. I recommend you take notes on this material as it will be the basis of the quizzes, may come up in class, and may arise in the homeworks. \n",
    "\n",
    "**On Tuesday of each week I'll assign a list of reading material. You'll have 7 days to study that material before we start covering those concepts in class.**\n",
    "\n",
    "![http://illinois.edu/assets/img/about/landmarks/grainger.jpg](http://illinois.edu/assets/img/about/landmarks/grainger.jpg)\n",
    "\n",
    "### Tuesday Quizzes\n",
    "\n",
    "To help me calibrate the in-class discussion, a weekly quiz will assess your comprehension of the background material. The quizzes can be taken online through [Canvas](https://canvas.illinois.edu) at any time during the week, but they must be completed by Tuesday at 9:30am, 7 days after the material was assigned.\n",
    "\n",
    "### Tuesday Homework Assignments\n",
    "\n",
    "Homeworks will be assigned each Tuesday concerning the material covered that week. You will have 7 days to do the homework, so it will be due at 9:30am on the following Tuesday.\n",
    "\n",
    "### Projects\n",
    "\n",
    "The class will involve two projects. One is a signficant quantitative research project, which involves a project proposal stage as well as a presentation to take place during the time period alotted for the final exam. The other is an in depth critical reading of a relevant book, with a report and an individual presentation due late in the semester.\n",
    "\n",
    "### Tests\n",
    "\n",
    "There will be no in-class exams.\n",
    "\n",
    "### Participation\n",
    "\n",
    "I will notice when you are not in class. While attendance might not directly affect your grades, it may indirectly affect your them. If you miss something I demonstrate in class, you'll have a lot more trouble proving that you've learned it. \n",
    "\n",
    "## How to get an A\n",
    "\n",
    "You should expect to spend 2-3 hours outside of class for every hour you spend in class. So, for a 3 credit class, you'll need to spend 3 hours a week in class and 6-9 hours outside of class on the coursework. This should include reading the book chapters in advance of the lectures that cover those topics and other necessary reading material. If you find you're spending much less or much more time on this class, please let me know. \n",
    "\n",
    "## Late Work\n",
    "\n",
    "**Late work has a halflife of 1 hour.** That is, adjusted for lateness, your grade $G(t)$ is a decaying percentage of the raw grade $G_0$. An assignment turned in $t$ hours late will recieve a grade according to the following relation:\n",
    "\n",
    "$$\n",
    "\\begin{align}\n",
    "        G(t) &= G_0e^{-\\lambda t}\\\\\n",
    "\\end{align}\n",
    "$$\n",
    "\n",
    "where\n",
    "\n",
    "$$\n",
    "\\begin{align}\n",
    "        G(t) &= \\mbox{grade adjusted for lateness}\\\\\n",
    "        G_0 &= \\mbox{raw grade}\\\\\n",
    "        \\lambda &= \\frac{ln(2)}{t_{1/2}} = \\mbox{decay constant} \\\\\n",
    "        t &= \\mbox{time elapsed since due [hours]}\\\\\n",
    "        t_{1/2} &= 1 = \\mbox{half-life [hours]} \\\\\n",
    "\\end{align}\n",
    "$$"
   ]
  },
  {
   "cell_type": "code",
   "execution_count": 28,
   "metadata": {},
   "outputs": [],
   "source": [
    "import math\n",
    "def late_grade(hours_late, grade=100, half_life=1):\n",
    "    \"\"\"This function describes how much credit you will get for late work\"\"\"\n",
    "    lam = math.log(2)/half_life\n",
    "    return grade*math.exp(-lam*hours_late)"
   ]
  },
  {
   "cell_type": "code",
   "execution_count": 31,
   "metadata": {},
   "outputs": [
    {
     "data": {
      "text/html": [
       "\n",
       "\n",
       "<style>\n",
       "\n",
       "</style>\n",
       "\n",
       "<div id=\"fig_el731794947324912375146943\"></div>\n",
       "<script>\n",
       "function mpld3_load_lib(url, callback){\n",
       "  var s = document.createElement('script');\n",
       "  s.src = url;\n",
       "  s.async = true;\n",
       "  s.onreadystatechange = s.onload = callback;\n",
       "  s.onerror = function(){console.warn(\"failed to load library \" + url);};\n",
       "  document.getElementsByTagName(\"head\")[0].appendChild(s);\n",
       "}\n",
       "\n",
       "if(typeof(mpld3) !== \"undefined\" && mpld3._mpld3IsLoaded){\n",
       "   // already loaded: just create the figure\n",
       "   !function(mpld3){\n",
       "       \n",
       "       mpld3.draw_figure(\"fig_el731794947324912375146943\", {\"width\": 640.0, \"height\": 480.0, \"axes\": [{\"bbox\": [0.125, 0.10999999999999999, 0.775, 0.77], \"xlim\": [-1.1500000000000001, 24.15], \"ylim\": [48.55, 102.45], \"xdomain\": [-1.1500000000000001, 24.15], \"ydomain\": [48.55, 102.45], \"xscale\": \"linear\", \"yscale\": \"linear\", \"axes\": [{\"position\": \"bottom\", \"nticks\": 7, \"tickvalues\": null, \"tickformat_formatter\": \"\", \"tickformat\": null, \"scale\": \"linear\", \"fontsize\": 10.0, \"grid\": {\"gridOn\": false}, \"visible\": true}, {\"position\": \"left\", \"nticks\": 8, \"tickvalues\": null, \"tickformat_formatter\": \"\", \"tickformat\": null, \"scale\": \"linear\", \"fontsize\": 10.0, \"grid\": {\"gridOn\": false}, \"visible\": true}], \"axesbg\": \"#FFFFFF\", \"axesbgalpha\": null, \"zoomable\": true, \"id\": \"el731794948011552\", \"lines\": [{\"data\": \"data01\", \"xindex\": 0, \"yindex\": 1, \"coordinates\": \"data\", \"id\": \"el731794948305504\", \"color\": \"#FF0000\", \"linewidth\": 1.5, \"dasharray\": \"none\", \"alpha\": 1, \"zorder\": 2, \"drawstyle\": \"default\"}], \"paths\": [], \"markers\": [], \"texts\": [{\"text\": \"Hours Late\", \"position\": [0.5, -0.07921476671476674], \"coordinates\": \"axes\", \"h_anchor\": \"middle\", \"v_baseline\": \"hanging\", \"rotation\": -0.0, \"fontsize\": 10.0, \"color\": \"#000000\", \"alpha\": 1, \"zorder\": 3, \"id\": \"el731794948008912\"}, {\"text\": \"Percent of Grade Earned\", \"position\": [-0.08448140681003585, 0.5], \"coordinates\": \"axes\", \"h_anchor\": \"middle\", \"v_baseline\": \"auto\", \"rotation\": -90.0, \"fontsize\": 10.0, \"color\": \"#000000\", \"alpha\": 1, \"zorder\": 3, \"id\": \"el731794948008960\"}, {\"text\": \"Grade Decay\", \"position\": [0.5, 1.0225468975468974], \"coordinates\": \"axes\", \"h_anchor\": \"middle\", \"v_baseline\": \"auto\", \"rotation\": -0.0, \"fontsize\": 12.0, \"color\": \"#000000\", \"alpha\": 1, \"zorder\": 3, \"id\": \"el731794948017072\"}], \"collections\": [{\"offsets\": \"data01\", \"xindex\": 0, \"yindex\": 1, \"paths\": [[[[0.0, -0.5], [0.13260155, -0.5], [0.25978993539242673, -0.44731684579412084], [0.3535533905932738, -0.3535533905932738], [0.44731684579412084, -0.25978993539242673], [0.5, -0.13260155], [0.5, 0.0], [0.5, 0.13260155], [0.44731684579412084, 0.25978993539242673], [0.3535533905932738, 0.3535533905932738], [0.25978993539242673, 0.44731684579412084], [0.13260155, 0.5], [0.0, 0.5], [-0.13260155, 0.5], [-0.25978993539242673, 0.44731684579412084], [-0.3535533905932738, 0.3535533905932738], [-0.44731684579412084, 0.25978993539242673], [-0.5, 0.13260155], [-0.5, 0.0], [-0.5, -0.13260155], [-0.44731684579412084, -0.25978993539242673], [-0.3535533905932738, -0.3535533905932738], [-0.25978993539242673, -0.44731684579412084], [-0.13260155, -0.5], [0.0, -0.5]], [\"M\", \"C\", \"C\", \"C\", \"C\", \"C\", \"C\", \"C\", \"C\", \"Z\"]]], \"pathtransforms\": [[62.11299937499416, 0.0, 0.0, 62.11299937499416, 0.0, 0.0], [61.17420984873677, 0.0, 0.0, 61.17420984873677, 0.0, 0.0], [60.220787190774445, 0.0, 0.0, 60.220787190774445, 0.0, 0.0], [59.25202502139317, 0.0, 0.0, 59.25202502139317, 0.0, 0.0], [58.59728641591385, 0.0, 0.0, 58.59728641591385, 0.0, 0.0], [57.60122598146589, 0.0, 0.0, 57.60122598146589, 0.0, 0.0], [56.9275042553311, 0.0, 0.0, 56.9275042553311, 0.0, 0.0], [55.90169943749474, 0.0, 0.0, 55.90169943749474, 0.0, 0.0], [55.207241428754976, 0.0, 0.0, 55.207241428754976, 0.0, 0.0], [54.50393575096828, 0.0, 0.0, 54.50393575096828, 0.0, 0.0], [53.43162239353151, 0.0, 0.0, 53.43162239353151, 0.0, 0.0], [52.70462766947299, 0.0, 0.0, 52.70462766947299, 0.0, 0.0], [51.96746370519364, 0.0, 0.0, 51.96746370519364, 0.0, 0.0], [51.21969142940493, 0.0, 0.0, 51.21969142940493, 0.0, 0.0], [50.46083923495819, 0.0, 0.0, 50.46083923495819, 0.0, 0.0], [49.69039949999532, 0.0, 0.0, 49.69039949999532, 0.0, 0.0], [48.90782461571947, 0.0, 0.0, 48.90782461571947, 0.0, 0.0], [48.51180332381383, 0.0, 0.0, 48.51180332381383, 0.0, 0.0], [47.70990010366019, 0.0, 0.0, 47.70990010366019, 0.0, 0.0], [46.89428615592815, 0.0, 0.0, 46.89428615592815, 0.0, 0.0], [46.48111258522642, 0.0, 0.0, 46.48111258522642, 0.0, 0.0], [45.643546458763836, 0.0, 0.0, 45.643546458763836, 0.0, 0.0], [44.790320823880826, 0.0, 0.0, 44.790320823880826, 0.0, 0.0], [44.35755395186475, 0.0, 0.0, 44.35755395186475, 0.0, 0.0]], \"alphas\": [0.4], \"edgecolors\": [\"rgba(0, 0, 255, 0.4)\"], \"facecolors\": [\"rgba(0, 0, 255, 0.4)\"], \"edgewidths\": [1.0], \"offsetcoordinates\": \"data\", \"pathcoordinates\": \"display\", \"zorder\": 1, \"id\": \"el731794948002240\"}], \"images\": [], \"sharex\": [], \"sharey\": []}], \"data\": {\"data01\": [[0.0, 100.0], [1.0, 97.0], [2.0, 94.0], [3.0, 91.0], [4.0, 89.0], [5.0, 86.0], [6.0, 84.0], [7.0, 81.0], [8.0, 79.0], [9.0, 77.0], [10.0, 74.0], [11.0, 72.0], [12.0, 70.0], [13.0, 68.0], [14.0, 66.0], [15.0, 64.0], [16.0, 62.0], [17.0, 61.0], [18.0, 59.0], [19.0, 57.0], [20.0, 56.0], [21.0, 54.0], [22.0, 52.0], [23.0, 51.0]]}, \"id\": \"el731794947324912\", \"plugins\": [{\"type\": \"reset\"}, {\"type\": \"zoom\", \"button\": true, \"enabled\": false}, {\"type\": \"boxzoom\", \"button\": true, \"enabled\": false}, {\"type\": \"tooltip\", \"id\": \"el731794948002240\", \"labels\": [\"100% earned\", \"97% earned\", \"94% earned\", \"91% earned\", \"89% earned\", \"86% earned\", \"84% earned\", \"81% earned\", \"79% earned\", \"77% earned\", \"74% earned\", \"72% earned\", \"70% earned\", \"68% earned\", \"66% earned\", \"64% earned\", \"62% earned\", \"61% earned\", \"59% earned\", \"57% earned\", \"56% earned\", \"54% earned\", \"52% earned\", \"51% earned\"], \"hoffset\": 0, \"voffset\": 10, \"location\": \"mouse\"}]});\n",
       "   }(mpld3);\n",
       "}else if(typeof define === \"function\" && define.amd){\n",
       "   // require.js is available: use it to load d3/mpld3\n",
       "   require.config({paths: {d3: \"https://d3js.org/d3.v5\"}});\n",
       "   require([\"d3\"], function(d3){\n",
       "      window.d3 = d3;\n",
       "      mpld3_load_lib(\"https://mpld3.github.io/js/mpld3.v0.5.10.js\", function(){\n",
       "         \n",
       "         mpld3.draw_figure(\"fig_el731794947324912375146943\", {\"width\": 640.0, \"height\": 480.0, \"axes\": [{\"bbox\": [0.125, 0.10999999999999999, 0.775, 0.77], \"xlim\": [-1.1500000000000001, 24.15], \"ylim\": [48.55, 102.45], \"xdomain\": [-1.1500000000000001, 24.15], \"ydomain\": [48.55, 102.45], \"xscale\": \"linear\", \"yscale\": \"linear\", \"axes\": [{\"position\": \"bottom\", \"nticks\": 7, \"tickvalues\": null, \"tickformat_formatter\": \"\", \"tickformat\": null, \"scale\": \"linear\", \"fontsize\": 10.0, \"grid\": {\"gridOn\": false}, \"visible\": true}, {\"position\": \"left\", \"nticks\": 8, \"tickvalues\": null, \"tickformat_formatter\": \"\", \"tickformat\": null, \"scale\": \"linear\", \"fontsize\": 10.0, \"grid\": {\"gridOn\": false}, \"visible\": true}], \"axesbg\": \"#FFFFFF\", \"axesbgalpha\": null, \"zoomable\": true, \"id\": \"el731794948011552\", \"lines\": [{\"data\": \"data01\", \"xindex\": 0, \"yindex\": 1, \"coordinates\": \"data\", \"id\": \"el731794948305504\", \"color\": \"#FF0000\", \"linewidth\": 1.5, \"dasharray\": \"none\", \"alpha\": 1, \"zorder\": 2, \"drawstyle\": \"default\"}], \"paths\": [], \"markers\": [], \"texts\": [{\"text\": \"Hours Late\", \"position\": [0.5, -0.07921476671476674], \"coordinates\": \"axes\", \"h_anchor\": \"middle\", \"v_baseline\": \"hanging\", \"rotation\": -0.0, \"fontsize\": 10.0, \"color\": \"#000000\", \"alpha\": 1, \"zorder\": 3, \"id\": \"el731794948008912\"}, {\"text\": \"Percent of Grade Earned\", \"position\": [-0.08448140681003585, 0.5], \"coordinates\": \"axes\", \"h_anchor\": \"middle\", \"v_baseline\": \"auto\", \"rotation\": -90.0, \"fontsize\": 10.0, \"color\": \"#000000\", \"alpha\": 1, \"zorder\": 3, \"id\": \"el731794948008960\"}, {\"text\": \"Grade Decay\", \"position\": [0.5, 1.0225468975468974], \"coordinates\": \"axes\", \"h_anchor\": \"middle\", \"v_baseline\": \"auto\", \"rotation\": -0.0, \"fontsize\": 12.0, \"color\": \"#000000\", \"alpha\": 1, \"zorder\": 3, \"id\": \"el731794948017072\"}], \"collections\": [{\"offsets\": \"data01\", \"xindex\": 0, \"yindex\": 1, \"paths\": [[[[0.0, -0.5], [0.13260155, -0.5], [0.25978993539242673, -0.44731684579412084], [0.3535533905932738, -0.3535533905932738], [0.44731684579412084, -0.25978993539242673], [0.5, -0.13260155], [0.5, 0.0], [0.5, 0.13260155], [0.44731684579412084, 0.25978993539242673], [0.3535533905932738, 0.3535533905932738], [0.25978993539242673, 0.44731684579412084], [0.13260155, 0.5], [0.0, 0.5], [-0.13260155, 0.5], [-0.25978993539242673, 0.44731684579412084], [-0.3535533905932738, 0.3535533905932738], [-0.44731684579412084, 0.25978993539242673], [-0.5, 0.13260155], [-0.5, 0.0], [-0.5, -0.13260155], [-0.44731684579412084, -0.25978993539242673], [-0.3535533905932738, -0.3535533905932738], [-0.25978993539242673, -0.44731684579412084], [-0.13260155, -0.5], [0.0, -0.5]], [\"M\", \"C\", \"C\", \"C\", \"C\", \"C\", \"C\", \"C\", \"C\", \"Z\"]]], \"pathtransforms\": [[62.11299937499416, 0.0, 0.0, 62.11299937499416, 0.0, 0.0], [61.17420984873677, 0.0, 0.0, 61.17420984873677, 0.0, 0.0], [60.220787190774445, 0.0, 0.0, 60.220787190774445, 0.0, 0.0], [59.25202502139317, 0.0, 0.0, 59.25202502139317, 0.0, 0.0], [58.59728641591385, 0.0, 0.0, 58.59728641591385, 0.0, 0.0], [57.60122598146589, 0.0, 0.0, 57.60122598146589, 0.0, 0.0], [56.9275042553311, 0.0, 0.0, 56.9275042553311, 0.0, 0.0], [55.90169943749474, 0.0, 0.0, 55.90169943749474, 0.0, 0.0], [55.207241428754976, 0.0, 0.0, 55.207241428754976, 0.0, 0.0], [54.50393575096828, 0.0, 0.0, 54.50393575096828, 0.0, 0.0], [53.43162239353151, 0.0, 0.0, 53.43162239353151, 0.0, 0.0], [52.70462766947299, 0.0, 0.0, 52.70462766947299, 0.0, 0.0], [51.96746370519364, 0.0, 0.0, 51.96746370519364, 0.0, 0.0], [51.21969142940493, 0.0, 0.0, 51.21969142940493, 0.0, 0.0], [50.46083923495819, 0.0, 0.0, 50.46083923495819, 0.0, 0.0], [49.69039949999532, 0.0, 0.0, 49.69039949999532, 0.0, 0.0], [48.90782461571947, 0.0, 0.0, 48.90782461571947, 0.0, 0.0], [48.51180332381383, 0.0, 0.0, 48.51180332381383, 0.0, 0.0], [47.70990010366019, 0.0, 0.0, 47.70990010366019, 0.0, 0.0], [46.89428615592815, 0.0, 0.0, 46.89428615592815, 0.0, 0.0], [46.48111258522642, 0.0, 0.0, 46.48111258522642, 0.0, 0.0], [45.643546458763836, 0.0, 0.0, 45.643546458763836, 0.0, 0.0], [44.790320823880826, 0.0, 0.0, 44.790320823880826, 0.0, 0.0], [44.35755395186475, 0.0, 0.0, 44.35755395186475, 0.0, 0.0]], \"alphas\": [0.4], \"edgecolors\": [\"rgba(0, 0, 255, 0.4)\"], \"facecolors\": [\"rgba(0, 0, 255, 0.4)\"], \"edgewidths\": [1.0], \"offsetcoordinates\": \"data\", \"pathcoordinates\": \"display\", \"zorder\": 1, \"id\": \"el731794948002240\"}], \"images\": [], \"sharex\": [], \"sharey\": []}], \"data\": {\"data01\": [[0.0, 100.0], [1.0, 97.0], [2.0, 94.0], [3.0, 91.0], [4.0, 89.0], [5.0, 86.0], [6.0, 84.0], [7.0, 81.0], [8.0, 79.0], [9.0, 77.0], [10.0, 74.0], [11.0, 72.0], [12.0, 70.0], [13.0, 68.0], [14.0, 66.0], [15.0, 64.0], [16.0, 62.0], [17.0, 61.0], [18.0, 59.0], [19.0, 57.0], [20.0, 56.0], [21.0, 54.0], [22.0, 52.0], [23.0, 51.0]]}, \"id\": \"el731794947324912\", \"plugins\": [{\"type\": \"reset\"}, {\"type\": \"zoom\", \"button\": true, \"enabled\": false}, {\"type\": \"boxzoom\", \"button\": true, \"enabled\": false}, {\"type\": \"tooltip\", \"id\": \"el731794948002240\", \"labels\": [\"100% earned\", \"97% earned\", \"94% earned\", \"91% earned\", \"89% earned\", \"86% earned\", \"84% earned\", \"81% earned\", \"79% earned\", \"77% earned\", \"74% earned\", \"72% earned\", \"70% earned\", \"68% earned\", \"66% earned\", \"64% earned\", \"62% earned\", \"61% earned\", \"59% earned\", \"57% earned\", \"56% earned\", \"54% earned\", \"52% earned\", \"51% earned\"], \"hoffset\": 0, \"voffset\": 10, \"location\": \"mouse\"}]});\n",
       "      });\n",
       "    });\n",
       "}else{\n",
       "    // require.js not available: dynamically load d3 & mpld3\n",
       "    mpld3_load_lib(\"https://d3js.org/d3.v5.js\", function(){\n",
       "         mpld3_load_lib(\"https://mpld3.github.io/js/mpld3.v0.5.10.js\", function(){\n",
       "                 \n",
       "                 mpld3.draw_figure(\"fig_el731794947324912375146943\", {\"width\": 640.0, \"height\": 480.0, \"axes\": [{\"bbox\": [0.125, 0.10999999999999999, 0.775, 0.77], \"xlim\": [-1.1500000000000001, 24.15], \"ylim\": [48.55, 102.45], \"xdomain\": [-1.1500000000000001, 24.15], \"ydomain\": [48.55, 102.45], \"xscale\": \"linear\", \"yscale\": \"linear\", \"axes\": [{\"position\": \"bottom\", \"nticks\": 7, \"tickvalues\": null, \"tickformat_formatter\": \"\", \"tickformat\": null, \"scale\": \"linear\", \"fontsize\": 10.0, \"grid\": {\"gridOn\": false}, \"visible\": true}, {\"position\": \"left\", \"nticks\": 8, \"tickvalues\": null, \"tickformat_formatter\": \"\", \"tickformat\": null, \"scale\": \"linear\", \"fontsize\": 10.0, \"grid\": {\"gridOn\": false}, \"visible\": true}], \"axesbg\": \"#FFFFFF\", \"axesbgalpha\": null, \"zoomable\": true, \"id\": \"el731794948011552\", \"lines\": [{\"data\": \"data01\", \"xindex\": 0, \"yindex\": 1, \"coordinates\": \"data\", \"id\": \"el731794948305504\", \"color\": \"#FF0000\", \"linewidth\": 1.5, \"dasharray\": \"none\", \"alpha\": 1, \"zorder\": 2, \"drawstyle\": \"default\"}], \"paths\": [], \"markers\": [], \"texts\": [{\"text\": \"Hours Late\", \"position\": [0.5, -0.07921476671476674], \"coordinates\": \"axes\", \"h_anchor\": \"middle\", \"v_baseline\": \"hanging\", \"rotation\": -0.0, \"fontsize\": 10.0, \"color\": \"#000000\", \"alpha\": 1, \"zorder\": 3, \"id\": \"el731794948008912\"}, {\"text\": \"Percent of Grade Earned\", \"position\": [-0.08448140681003585, 0.5], \"coordinates\": \"axes\", \"h_anchor\": \"middle\", \"v_baseline\": \"auto\", \"rotation\": -90.0, \"fontsize\": 10.0, \"color\": \"#000000\", \"alpha\": 1, \"zorder\": 3, \"id\": \"el731794948008960\"}, {\"text\": \"Grade Decay\", \"position\": [0.5, 1.0225468975468974], \"coordinates\": \"axes\", \"h_anchor\": \"middle\", \"v_baseline\": \"auto\", \"rotation\": -0.0, \"fontsize\": 12.0, \"color\": \"#000000\", \"alpha\": 1, \"zorder\": 3, \"id\": \"el731794948017072\"}], \"collections\": [{\"offsets\": \"data01\", \"xindex\": 0, \"yindex\": 1, \"paths\": [[[[0.0, -0.5], [0.13260155, -0.5], [0.25978993539242673, -0.44731684579412084], [0.3535533905932738, -0.3535533905932738], [0.44731684579412084, -0.25978993539242673], [0.5, -0.13260155], [0.5, 0.0], [0.5, 0.13260155], [0.44731684579412084, 0.25978993539242673], [0.3535533905932738, 0.3535533905932738], [0.25978993539242673, 0.44731684579412084], [0.13260155, 0.5], [0.0, 0.5], [-0.13260155, 0.5], [-0.25978993539242673, 0.44731684579412084], [-0.3535533905932738, 0.3535533905932738], [-0.44731684579412084, 0.25978993539242673], [-0.5, 0.13260155], [-0.5, 0.0], [-0.5, -0.13260155], [-0.44731684579412084, -0.25978993539242673], [-0.3535533905932738, -0.3535533905932738], [-0.25978993539242673, -0.44731684579412084], [-0.13260155, -0.5], [0.0, -0.5]], [\"M\", \"C\", \"C\", \"C\", \"C\", \"C\", \"C\", \"C\", \"C\", \"Z\"]]], \"pathtransforms\": [[62.11299937499416, 0.0, 0.0, 62.11299937499416, 0.0, 0.0], [61.17420984873677, 0.0, 0.0, 61.17420984873677, 0.0, 0.0], [60.220787190774445, 0.0, 0.0, 60.220787190774445, 0.0, 0.0], [59.25202502139317, 0.0, 0.0, 59.25202502139317, 0.0, 0.0], [58.59728641591385, 0.0, 0.0, 58.59728641591385, 0.0, 0.0], [57.60122598146589, 0.0, 0.0, 57.60122598146589, 0.0, 0.0], [56.9275042553311, 0.0, 0.0, 56.9275042553311, 0.0, 0.0], [55.90169943749474, 0.0, 0.0, 55.90169943749474, 0.0, 0.0], [55.207241428754976, 0.0, 0.0, 55.207241428754976, 0.0, 0.0], [54.50393575096828, 0.0, 0.0, 54.50393575096828, 0.0, 0.0], [53.43162239353151, 0.0, 0.0, 53.43162239353151, 0.0, 0.0], [52.70462766947299, 0.0, 0.0, 52.70462766947299, 0.0, 0.0], [51.96746370519364, 0.0, 0.0, 51.96746370519364, 0.0, 0.0], [51.21969142940493, 0.0, 0.0, 51.21969142940493, 0.0, 0.0], [50.46083923495819, 0.0, 0.0, 50.46083923495819, 0.0, 0.0], [49.69039949999532, 0.0, 0.0, 49.69039949999532, 0.0, 0.0], [48.90782461571947, 0.0, 0.0, 48.90782461571947, 0.0, 0.0], [48.51180332381383, 0.0, 0.0, 48.51180332381383, 0.0, 0.0], [47.70990010366019, 0.0, 0.0, 47.70990010366019, 0.0, 0.0], [46.89428615592815, 0.0, 0.0, 46.89428615592815, 0.0, 0.0], [46.48111258522642, 0.0, 0.0, 46.48111258522642, 0.0, 0.0], [45.643546458763836, 0.0, 0.0, 45.643546458763836, 0.0, 0.0], [44.790320823880826, 0.0, 0.0, 44.790320823880826, 0.0, 0.0], [44.35755395186475, 0.0, 0.0, 44.35755395186475, 0.0, 0.0]], \"alphas\": [0.4], \"edgecolors\": [\"rgba(0, 0, 255, 0.4)\"], \"facecolors\": [\"rgba(0, 0, 255, 0.4)\"], \"edgewidths\": [1.0], \"offsetcoordinates\": \"data\", \"pathcoordinates\": \"display\", \"zorder\": 1, \"id\": \"el731794948002240\"}], \"images\": [], \"sharex\": [], \"sharey\": []}], \"data\": {\"data01\": [[0.0, 100.0], [1.0, 97.0], [2.0, 94.0], [3.0, 91.0], [4.0, 89.0], [5.0, 86.0], [6.0, 84.0], [7.0, 81.0], [8.0, 79.0], [9.0, 77.0], [10.0, 74.0], [11.0, 72.0], [12.0, 70.0], [13.0, 68.0], [14.0, 66.0], [15.0, 64.0], [16.0, 62.0], [17.0, 61.0], [18.0, 59.0], [19.0, 57.0], [20.0, 56.0], [21.0, 54.0], [22.0, 52.0], [23.0, 51.0]]}, \"id\": \"el731794947324912\", \"plugins\": [{\"type\": \"reset\"}, {\"type\": \"zoom\", \"button\": true, \"enabled\": false}, {\"type\": \"boxzoom\", \"button\": true, \"enabled\": false}, {\"type\": \"tooltip\", \"id\": \"el731794948002240\", \"labels\": [\"100% earned\", \"97% earned\", \"94% earned\", \"91% earned\", \"89% earned\", \"86% earned\", \"84% earned\", \"81% earned\", \"79% earned\", \"77% earned\", \"74% earned\", \"72% earned\", \"70% earned\", \"68% earned\", \"66% earned\", \"64% earned\", \"62% earned\", \"61% earned\", \"59% earned\", \"57% earned\", \"56% earned\", \"54% earned\", \"52% earned\", \"51% earned\"], \"hoffset\": 0, \"voffset\": 10, \"location\": \"mouse\"}]});\n",
       "            })\n",
       "         });\n",
       "}\n",
       "</script>"
      ],
      "text/plain": [
       "<IPython.core.display.HTML object>"
      ]
     },
     "execution_count": 31,
     "metadata": {},
     "output_type": "execute_result"
    }
   ],
   "source": [
    "# This code plots how much credit you'll get over time\n",
    "import numpy as np\n",
    "y = np.arange(24)\n",
    "x = np.arange(24)\n",
    "for h in range(0,24):\n",
    "    x[h] = h\n",
    "    y[h] = late_grade(h,half_life = 24)\n",
    "    \n",
    "# creates a figure and axes with matplotlib\n",
    "fig, ax = plt.subplots()\n",
    "scatter = plt.scatter(x, y, color='blue', s=y*20, alpha=0.4)    \n",
    "ax.plot(x, y, color='red')    \n",
    "\n",
    "# adds labels to the plot\n",
    "ax.set_ylabel('Percent of Grade Earned')\n",
    "ax.set_xlabel('Hours Late')\n",
    "ax.set_title('Grade Decay')\n",
    "\n",
    "# adds tooltips\n",
    "import mpld3\n",
    "labels = ['{0}% earned'.format(i) for i in y]\n",
    "tooltip = mpld3.plugins.PointLabelTooltip(scatter, labels=labels)\n",
    "mpld3.plugins.connect(fig, tooltip)\n",
    "\n",
    "mpld3.display()"
   ]
  },
  {
   "cell_type": "code",
   "execution_count": 26,
   "metadata": {},
   "outputs": [
    {
     "name": "stdout",
     "output_type": "stream",
     "text": [
      "If you turn in your homework an hour late, you'll get  50.0 % credit.\n",
      "If you turn in your homework six hours late, you'll get  1.56 % credit.\n",
      "If you turn in your homework a day late, you'll get  0.0 % credit.\n",
      "If you turn in your homework two days late, you'll get  0.0 % credit.\n",
      "If you turn in your homework three days late, you'll get  0.0 % credit.\n"
     ]
    }
   ],
   "source": [
    "print(\"If you turn in your homework an hour late, you'll get \", round(late_grade(1),2), \"% credit.\")\n",
    "print(\"If you turn in your homework six hours late, you'll get \", round(late_grade(6),2), \"% credit.\")\n",
    "print(\"If you turn in your homework a day late, you'll get \", round(late_grade(24),2), \"% credit.\")\n",
    "print(\"If you turn in your homework two days late, you'll get \", round(late_grade(48),2), \"% credit.\")\n",
    "print(\"If you turn in your homework three days late, you'll get \", round(late_grade(72),2), \"% credit.\")"
   ]
  },
  {
   "cell_type": "markdown",
   "metadata": {
    "collapsed": true,
    "jupyter": {
     "outputs_hidden": true
    }
   },
   "source": [
    "**There will be no negotiation about late work except in the case of absence documented by an absence letter from the Dean of Students.** The university policy for requesting such a letter is [here](http://studentcode.illinois.edu/article1_part5_1-501.html) . Please note that such a letter is appropriate for many types of conflicts, but that religious conflicts require special early handling. In accordance with university policy, students seeking an excused absence for religious reasons should complete the Request for Accommodation for Religious Observances Form, which can be found on the Office of the Dean of Students website. The student should submit this form to the instructor and the Office of the Dean of Students by the end of the second week of the course to which it applies."
   ]
  },
  {
   "cell_type": "markdown",
   "metadata": {},
   "source": [
    "## Communications\n",
    "\n",
    "\n",
    "Things to try when you have a question:\n",
    "\n",
    "- Be Persistent: [Try just one more time.](https://s-media-cache-ak0.pinimg.com/736x/03/54/ce/0354ce58a7a4308edcc46dd9238e12d7.jpg)\n",
    "- Google: [You might be surprised at its depth.](https://devhumor.com/content/uploads//images/April2016/google-errors.jpg)\n",
    "- Collaboration: Try to connect with your colleagues in the course, your student colleagues probably know the answer.\n",
    "- Prof. appointment: Schedule an appointment with me at [katyhuff.youcanbook.me](katyhuff.youcanbook.me)\n",
    "\n",
    "### A note on email\n",
    "\n",
    "[Email tips for dealing with fussy professor types.](https://medium.com/@lportwoodstacer/how-to-email-your-professor-without-being-annoying-af-cf64ae0e4087)"
   ]
  },
  {
   "cell_type": "markdown",
   "metadata": {},
   "source": [
    "## Python, IPython, Jupyter, git, and the Notebooks\n",
    "\n",
    "Rather than reading equations off of slides, I will display lecture notes, equations, and images in \"Jupyter notebooks\" like this one. Sometimes, I will call them by their old name, \"IPython notebooks,\" but I'm talking about \"Jupyter notebooks\". Interleaved with the course notes, we will often write small functions in the Python programming language to represent the equations we are talking about. This will allow you to interact with the math, changing variables, modifying the models, and exploring the parameter space. \n",
    "\n",
    "### But I don't know Python!\n",
    "\n",
    "*You don't have to know Python to take this class.* However, you will need to learn a little along the way. I will provide lots of example code to support your completion of homework assignments and I will never ask you to write functioning code as part of any written exam. Programming is really hard without the internet. \n",
    "\n",
    "### Exercises\n",
    "\n",
    "Watch for blocks titled **Exercise** in the notebooks. Those mark moments when I will ask you, during class, to try something out, explore an equation, or arrive at an answer. These are short and are not meant to be difficult. They exist to quickly solidify an idea before we move on to the next one. I will often randomly call on students (with a random number generator populated with the enrollment list) to give solutions to the exercises, so **a failure to show up and participate will be noticed.** \n",
    "\n",
    "### Installing Python, IPython, Jupyter, git, and the Notebooks\n",
    "\n",
    "Because engaging in the exercises will be really helpful for you to study, you'll should try to gain access to a computer equipped with Python (a version greater than 3.0) and a basic set of scientific python libraries. If you have a computer already, I encourage you to install [anaconda](https://www.continuum.io/downloads).\n",
    "\n",
    "These notebooks are stored \"in the cloud,\" which is to say that they are stored on someone else's computers. Those computers are servers at GitHub, a sometimes silly but also very important company in the beautiful city of San Francisco. GitHub stores \"git repositories\" which are collections of files that are \"version controlled\" by the program \"git.\" This is a lot to keep track of, and I won't require that you learn git to participate in this class. However, I strongly recommend using git and GitHub and to keep track of your research code. So, I encourage you to use git to access the notebooks. \n",
    "\n",
    "**More information about the things you might want to install can be found in the [README](https://github.com/katyhuff/npre412/blob/master/README.md).**\n"
   ]
  },
  {
   "cell_type": "markdown",
   "metadata": {},
   "source": [
    "\n",
    "\n",
    "\n",
    "\n"
   ]
  },
  {
   "cell_type": "code",
   "execution_count": null,
   "metadata": {
    "collapsed": true,
    "jupyter": {
     "outputs_hidden": true
    }
   },
   "outputs": [],
   "source": []
  }
 ],
 "metadata": {
  "anaconda-cloud": {},
  "kernelspec": {
   "display_name": "Python 3 (ipykernel)",
   "language": "python",
   "name": "python3"
  },
  "language_info": {
   "codemirror_mode": {
    "name": "ipython",
    "version": 3
   },
   "file_extension": ".py",
   "mimetype": "text/x-python",
   "name": "python",
   "nbconvert_exporter": "python",
   "pygments_lexer": "ipython3",
   "version": "3.12.7"
  }
 },
 "nbformat": 4,
 "nbformat_minor": 4
}
