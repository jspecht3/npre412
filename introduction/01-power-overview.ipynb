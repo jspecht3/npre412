{
 "cells": [
  {
   "cell_type": "markdown",
   "metadata": {},
   "source": [
    "# The Current Context for Nuclear Power\n",
    "\n",
    "In the context of world energy, where does nuclear power sit? It's producing about 18-20% of US electricity, but what about world electricity? What about world energy? Where is the world getting its energy, and what parts of the world are consuming what? How do different sources of energy and electricity compete and compare? \n",
    "\n",
    "## Objectives\n",
    "\n",
    "After this lesson, you should be equipped to:\n",
    "\n",
    "- Identify the major sources of energy consumed worldwide and domestically\n",
    "- Differentiate between energy use and electricity use\n",
    "- Recognize the niche filled by nuclear power\n",
    "- Summarize the history of power from different sectors both worldwide and domestically\n",
    "- Map the geography of nuclear power production\n",
    "- Recognize the names of institutions for energy information and understand the data they collect\n",
    "- Distinguish among the major modes of energy production \n"
   ]
  },
  {
   "cell_type": "markdown",
   "metadata": {},
   "source": [
    "# Polls: Show What You Know\n",
    "\n",
    "Please go to [pollev.com/kathrynhuff668](https://pollev.com/kathrynhuff668)."
   ]
  },
  {
   "cell_type": "code",
   "execution_count": 10,
   "metadata": {},
   "outputs": [
    {
     "data": {
      "text/html": [
       "\n",
       "        <iframe\n",
       "            width=\"1000\"\n",
       "            height=\"700\"\n",
       "            src=\"https://embed.polleverywhere.com/free_text_polls/CgIqfTSwUg2Ph7E?controls=none&short_poll=true?frameBorder=0\"\n",
       "            frameborder=\"0\"\n",
       "            allowfullscreen\n",
       "        ></iframe>\n",
       "        "
      ],
      "text/plain": [
       "<IPython.lib.display.IFrame at 0x7fa01c1d1610>"
      ]
     },
     "execution_count": 10,
     "metadata": {},
     "output_type": "execute_result"
    }
   ],
   "source": [
    "from IPython.display import IFrame\n",
    "IFrame(\"https://embed.polleverywhere.com/free_text_polls/CgIqfTSwUg2Ph7E?controls=none&short_poll=true\", width=\"1000\", height=\"700\", frameBorder=\"0\")"
   ]
  },
  {
   "cell_type": "code",
   "execution_count": 11,
   "metadata": {},
   "outputs": [
    {
     "data": {
      "text/html": [
       "\n",
       "        <iframe\n",
       "            width=\"1000\"\n",
       "            height=\"700\"\n",
       "            src=\"https://embed.polleverywhere.com/free_text_polls/4ZxqdRtjqMhDZ9A?controls=none&short_poll=true\"\n",
       "            frameborder=\"0\"\n",
       "            allowfullscreen\n",
       "        ></iframe>\n",
       "        "
      ],
      "text/plain": [
       "<IPython.lib.display.IFrame at 0x7fa01c184c10>"
      ]
     },
     "execution_count": 11,
     "metadata": {},
     "output_type": "execute_result"
    }
   ],
   "source": [
    "IFrame(\"https://embed.polleverywhere.com/free_text_polls/4ZxqdRtjqMhDZ9A?controls=none&short_poll=true\", width=1000, height=700)"
   ]
  },
  {
   "cell_type": "code",
   "execution_count": 12,
   "metadata": {},
   "outputs": [
    {
     "data": {
      "text/html": [
       "\n",
       "        <iframe\n",
       "            width=\"1000\"\n",
       "            height=\"700\"\n",
       "            src=\"https://embed.polleverywhere.com/free_text_polls/t6QSnqL7dORvP1d?preview=true\"\n",
       "            frameborder=\"0\"\n",
       "            allowfullscreen\n",
       "        ></iframe>\n",
       "        "
      ],
      "text/plain": [
       "<IPython.lib.display.IFrame at 0x7fa01c184fd0>"
      ]
     },
     "execution_count": 12,
     "metadata": {},
     "output_type": "execute_result"
    }
   ],
   "source": [
    "IFrame(\"https://embed.polleverywhere.com/free_text_polls/t6QSnqL7dORvP1d?preview=true\", width=1000, height=700)"
   ]
  },
  {
   "cell_type": "code",
   "execution_count": 13,
   "metadata": {},
   "outputs": [
    {
     "data": {
      "text/html": [
       "\n",
       "        <iframe\n",
       "            width=\"1000\"\n",
       "            height=\"1000\"\n",
       "            src=\"https://embed.polleverywhere.com/free_text_polls/NBjjz658zOJj6iR?preview=true\"\n",
       "            frameborder=\"0\"\n",
       "            allowfullscreen\n",
       "        ></iframe>\n",
       "        "
      ],
      "text/plain": [
       "<IPython.lib.display.IFrame at 0x7fa01c182f10>"
      ]
     },
     "execution_count": 13,
     "metadata": {},
     "output_type": "execute_result"
    }
   ],
   "source": [
    "IFrame(\"https://embed.polleverywhere.com/free_text_polls/NBjjz658zOJj6iR?preview=true\", width=1000, height=1000)"
   ]
  },
  {
   "cell_type": "code",
   "execution_count": 14,
   "metadata": {
    "scrolled": true
   },
   "outputs": [
    {
     "data": {
      "text/html": [
       "\n",
       "        <iframe\n",
       "            width=\"1000\"\n",
       "            height=\"1000\"\n",
       "            src=\"https://embed.polleverywhere.com/free_text_polls/Zm3pN2rMF2qFcDe?preview=true\"\n",
       "            frameborder=\"0\"\n",
       "            allowfullscreen\n",
       "        ></iframe>\n",
       "        "
      ],
      "text/plain": [
       "<IPython.lib.display.IFrame at 0x7fa01c1550d0>"
      ]
     },
     "execution_count": 14,
     "metadata": {},
     "output_type": "execute_result"
    }
   ],
   "source": [
    "IFrame(\"https://embed.polleverywhere.com/free_text_polls/Zm3pN2rMF2qFcDe?preview=true\", width=1000, height=1000)"
   ]
  },
  {
   "cell_type": "markdown",
   "metadata": {},
   "source": [
    "## Energy Governance\n",
    "In the poll, you listed a lot of energy governance organiations and regulators. Here is a list with a few more:\n",
    "\n",
    "- DOE\n",
    "- NRC\n",
    "- EPA\n",
    "- state-level EPAs\n",
    "- IAEA\n",
    "- OECD-NEA\n"
   ]
  },
  {
   "cell_type": "markdown",
   "metadata": {},
   "source": [
    "## Thinktanks, Nonprofits, Industry Coalitions, and Environmental Organizations\n",
    "\n",
    "Additionally, there is an enormous list of interest groups, thinktanks, and nonprofits that collect and share data like this. As with all sources of data, it is important to be aware of the funding model that generated the data.\n",
    "\n",
    "- Thinktanks & Policy Centers\n",
    "  - [Belfer](http://belfercenter.ksg.harvard.edu/)\n",
    "  - [Heritage](http://www.heritage.org/)\n",
    "  - [RAND](http://www.rand.org/)\n",
    "  - [Aspen](https://www.aspeninstitute.org/issues/energy-environment/)\n",
    "  - [World Resources Institute](http://www.wri.org/)\n",
    "  - [Breakthrough](http://thebreakthrough.org/)\n",
    "  - [Third Way](http://www.thirdway.org/)\n",
    "  - [Good Energy Collective](https://www.goodenergycollective.org/)   \n",
    "  - [Nuclear Innovation Alliance (NIA)](https://nuclearinnovationalliance.org/)\n",
    "  - [Atlantic Council](https://www.atlanticcouncil.org/)\n",
    "- Industry Coalitions\n",
    "  - [Nuclear Energy Institute (NEI)](http://nei.org)\n",
    "  - [Nuclear Waste Strategy Coalition (NWSC)](http://thenwsc.org/)\n",
    "  - [US Nuclear Infrastructure Council (NIC)](http://www.usnic.org/)\n",
    "  - [World Nuclear Association](https://www.world-nuclear.org/)\n",
    "- Environmental Organizations\n",
    "  - [Greenpeace](http://www.greenpeace.org/usa/)\n",
    "  - [Sierra Club](http://www.sierraclub.org/)\n",
    "  - [UNEP](http://www.unep.org/)\n",
    "  - [Environmental Progress](http://www.environmentalprogress.org/)\n",
    "  - [Clearpath](https://clearpath.org/)\n",
    "  - [Generation Atomic](https://www.generationatomic.org/)\n",
    "  - [Clean Air Task Force](https://www.catf.us/)\n"
   ]
  },
  {
   "cell_type": "markdown",
   "metadata": {},
   "source": [
    "# How to keep track?\n",
    "\n",
    "There is a lot to keep track of. There are some organizations for which keeping track of energy information is part of their energy governance missions.\n",
    "\n",
    "## IEA\n",
    "\n",
    "The [International Energy Agency](https://iea.org) is an international organization focused on energy issues. It has 29 member countries that fund it collectively. It tackles international concerns related to energy and it was created in response to oil disruptions in the 70s. The a great resource for current information related to energy use and production worldwide. They produce an annual overview document called the World Energy Outlook. Alongside it, one can often gain access to a range of detail, from large quantities of raw data to slim primers on current energy statistics. A favorite is the [Key World Energy Statistics booklet](https://www.iea.org/reports/key-world-energy-statistics-2020).\n"
   ]
  },
  {
   "cell_type": "code",
   "execution_count": 26,
   "metadata": {
    "scrolled": true
   },
   "outputs": [
    {
     "data": {
      "text/html": [
       "\n",
       "        <iframe\n",
       "            width=\"1000\"\n",
       "            height=\"1000\"\n",
       "            src=\"https://iea.blob.core.windows.net/assets/52f66a88-0b63-4ad2-94a5-29d36e864b82/KeyWorldEnergyStatistics2021.pdf\"\n",
       "            frameborder=\"0\"\n",
       "            allowfullscreen\n",
       "        ></iframe>\n",
       "        "
      ],
      "text/plain": [
       "<IPython.lib.display.IFrame at 0x7fa01c1e4110>"
      ]
     },
     "execution_count": 26,
     "metadata": {},
     "output_type": "execute_result"
    }
   ],
   "source": [
    "from IPython.display import IFrame\n",
    "IFrame(\"https://iea.blob.core.windows.net/assets/52f66a88-0b63-4ad2-94a5-29d36e864b82/KeyWorldEnergyStatistics2021.pdf\", width=1000, height=1000)"
   ]
  },
  {
   "cell_type": "markdown",
   "metadata": {},
   "source": [
    "IEA also produces a Nuclear Technology Roadmap periodically, as an overview of the nuclear industry worldwide. [Data here](https://www.iea.org/fuels-and-technologies/nuclear)"
   ]
  },
  {
   "cell_type": "markdown",
   "metadata": {},
   "source": [
    "## Journalism\n",
    "\n",
    "And, then, you have journalism. Lots is excellent. Some is less so. Follow the data. [map](https://www.carbonbrief.org/mapped-the-worlds-nuclear-power-plants)"
   ]
  },
  {
   "cell_type": "code",
   "execution_count": 19,
   "metadata": {},
   "outputs": [
    {
     "data": {
      "text/html": [
       "\n",
       "        <iframe\n",
       "            width=\"1000\"\n",
       "            height=\"1000\"\n",
       "            src=\"https://www.carbonbrief.org/mapped-the-worlds-nuclear-power-plants\"\n",
       "            frameborder=\"0\"\n",
       "            allowfullscreen\n",
       "        ></iframe>\n",
       "        "
      ],
      "text/plain": [
       "<IPython.lib.display.IFrame at 0x7fa01c08c850>"
      ]
     },
     "execution_count": 19,
     "metadata": {},
     "output_type": "execute_result"
    }
   ],
   "source": [
    "IFrame(\"https://www.carbonbrief.org/mapped-the-worlds-nuclear-power-plants\", width=1000, height=1000) "
   ]
  },
  {
   "cell_type": "markdown",
   "metadata": {},
   "source": [
    "# Labs and Government\n",
    "At the national labs and DOE, some exceptional plots have been created to vizualize where our energy comes from and where it goes."
   ]
  },
  {
   "cell_type": "code",
   "execution_count": 31,
   "metadata": {},
   "outputs": [
    {
     "data": {
      "text/html": [
       "\n",
       "        <iframe\n",
       "            width=\"1000\"\n",
       "            height=\"1000\"\n",
       "            src=\"https://www.eia.gov/energyexplained/us-energy-facts/images/consumption-by-source-and-sector.pdf\"\n",
       "            frameborder=\"0\"\n",
       "            allowfullscreen\n",
       "        ></iframe>\n",
       "        "
      ],
      "text/plain": [
       "<IPython.lib.display.IFrame at 0x7fa01c1e97d0>"
      ]
     },
     "execution_count": 31,
     "metadata": {},
     "output_type": "execute_result"
    }
   ],
   "source": [
    "IFrame(\"https://www.eia.gov/energyexplained/us-energy-facts/images/consumption-by-source-and-sector.pdf\", width=1000, height=1000) "
   ]
  },
  {
   "cell_type": "markdown",
   "metadata": {},
   "source": [
    "# EIA\n",
    "\n",
    "A lot of this information is collected by the Energy Information Administration (EIA), whose mission is steadfastly in the realm of keeping track of this data. So, the EIA is the place to go for domestic energy information.\n",
    "\n",
    "\n",
    "![https://www.eia.gov/todayinenergy/images/2018.01.22/main.png](https://www.eia.gov/todayinenergy/images/2018.01.22/main.png)\n",
    "\n",
    "## Great Maps\n",
    "Let's explore this [EIA database](http://www.eia.gov/state/maps.cfm). \n",
    "\n",
    "## Informative Grid Data\n",
    "\n",
    "The \"grid\" is also extremely important in the context of nuclear power market share. [Check out this great data from EIA about the grid.](http://www.eia.gov/beta/realtime_grid/#/summary/demand?end=20160824&start=20160724).\n",
    "\n",
    "## Useful Nuclear Specific Data\n",
    "\n",
    "The [open database](https://www.eia.gov/opendata/) can be queried directly for nuclear energy (though you'll have to register for an API key).\n",
    "There's also a great [interactive map](http://www.eia.gov/state/maps.cfm)."
   ]
  },
  {
   "cell_type": "code",
   "execution_count": 37,
   "metadata": {
    "scrolled": true
   },
   "outputs": [
    {
     "data": {
      "text/html": [
       "\n",
       "        <iframe\n",
       "            width=\"1000\"\n",
       "            height=\"10000\"\n",
       "            src=\"http://www.eia.gov/state/maps.cfm\"\n",
       "            frameborder=\"0\"\n",
       "            allowfullscreen\n",
       "        ></iframe>\n",
       "        "
      ],
      "text/plain": [
       "<IPython.lib.display.IFrame at 0x7fa01c1e0090>"
      ]
     },
     "execution_count": 37,
     "metadata": {},
     "output_type": "execute_result"
    }
   ],
   "source": [
    "IFrame(\"http://www.eia.gov/state/maps.cfm\", width=1000, height=10000)\n"
   ]
  },
  {
   "cell_type": "markdown",
   "metadata": {},
   "source": [
    "## NRC\n",
    "The [Nuclear Regulatory Commission](http://www.nrc.gov/reactors/operating/map-power-reactors.html) also has some useful, nuclear-specific data. \n",
    "\n",
    "![https://www.nrc.gov/images/reading-rm/doc-collections/maps/power-reactors-operating.png](https://www.nrc.gov/images/reading-rm/doc-collections/maps/power-reactors-operating.png)"
   ]
  },
  {
   "cell_type": "code",
   "execution_count": 39,
   "metadata": {},
   "outputs": [
    {
     "data": {
      "text/html": [
       "\n",
       "        <iframe\n",
       "            width=\"700\"\n",
       "            height=\"1000\"\n",
       "            src=\"https://upload.wikimedia.org/wikipedia/commons/6/6f/IL_PowerStations1.pdf\"\n",
       "            frameborder=\"0\"\n",
       "            allowfullscreen\n",
       "        ></iframe>\n",
       "        "
      ],
      "text/plain": [
       "<IPython.lib.display.IFrame at 0x7fa01c1e0410>"
      ]
     },
     "execution_count": 39,
     "metadata": {},
     "output_type": "execute_result"
    }
   ],
   "source": [
    "IFrame(\"https://upload.wikimedia.org/wikipedia/commons/6/6f/IL_PowerStations1.pdf\", width=700, height=1000)"
   ]
  },
  {
   "cell_type": "markdown",
   "metadata": {},
   "source": [
    "## Discussion Question: Why did the US not build new nuclear reactors for 30 years?\n"
   ]
  },
  {
   "cell_type": "markdown",
   "metadata": {},
   "source": [
    "## Discussion Question: What worldwide impacts could result from China's new nuclear?\n"
   ]
  },
  {
   "cell_type": "markdown",
   "metadata": {},
   "source": [
    "## Discussion Question: Why were so many reactors at risk of shutting down in the last decade?\n"
   ]
  },
  {
   "cell_type": "markdown",
   "metadata": {},
   "source": [
    "## Discussion Question: What policies are helping these reactors stay open?\n"
   ]
  },
  {
   "cell_type": "markdown",
   "metadata": {},
   "source": [
    "## Discussion Question: Is there any evidence that the US can build new nuclear?"
   ]
  }
 ],
 "metadata": {
  "anaconda-cloud": {},
  "kernelspec": {
   "display_name": "Python 3",
   "language": "python",
   "name": "python3"
  },
  "language_info": {
   "codemirror_mode": {
    "name": "ipython",
    "version": 3
   },
   "file_extension": ".py",
   "mimetype": "text/x-python",
   "name": "python",
   "nbconvert_exporter": "python",
   "pygments_lexer": "ipython3",
   "version": "3.7.6"
  }
 },
 "nbformat": 4,
 "nbformat_minor": 1
}
