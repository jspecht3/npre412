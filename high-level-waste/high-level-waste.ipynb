{
 "cells": [
  {
   "cell_type": "markdown",
   "metadata": {},
   "source": [
    "# High-Level Waste : Policy\n",
    "\n",
    "In the United States, high-level readioactive waste is categorized as such not by its constituent material, but by the history of that material. Let's talk about how this came to be. \n",
    "\n",
    "\n",
    "## Learning Objectives\n",
    "\n",
    "At the end of this lesson, you will be equipped to:\n",
    "\n",
    "- Understand the magnitude of the current waste challenge in the US. \n",
    "- Recall the history of nuclear waste policy in the United States\n",
    "- Understand the legislation in the Nuclear Waste Policy Act\n",
    "- Recall the history of the Yucca Mountain Project\n",
    "- Recognize the charter and conclusions of the Blue Ribbon Commission\n",
    "- Describe the impacts of the Nuclear Waste Confidence ruling\n",
    "- Understand the path and current status of the Yucca Mountain license application\n",
    "- Recognize the NWPA waste class of various nuclear fuel cycle materials\n",
    "\n"
   ]
  },
  {
   "cell_type": "markdown",
   "metadata": {},
   "source": [
    "## Current Status\n",
    "\n",
    "The waste is waiting.\n",
    "\n",
    "![locations.png](./locations.png)\n",
    "<center>The locations of the used nuclear fuel and high level waste in the united states\n",
    "cover over a hundred locations and nearly 40 states [5]</center>\n",
    "\n",
    "![pool.png](./pool.png)\n",
    "<center>Spent fuel pools hold recently discharged fuel at reactor sites and elsewhere [2].</center>\n",
    "\n",
    "![longs.png](./logs.png)\n",
    "<center>Vitrified glass logs at reprocessing facilities and elsewhere [7].</center>\n",
    "\n",
    "![casks.png](./casks.png)\n",
    "<center>Dry casks at reactor sites and elsewhere [10].</center>\n",
    "\n",
    "![tanks.png](./tanks.png)\n",
    "<center>Liquid waste in steel or carbon steel tanks at Hanford and elsewhere[4].</center>\n",
    "\n",
    "![metric_tons.png](./metric_tons.png)\n",
    "<center>The amount of nuclear spent fuel and high level waste now exceeds the proposed legislative capacity of Yucca Mountain [13].</center>\n",
    "\n",
    "![alternative_options.png](./alternative_options.png)\n",
    "<center>An array of options have been considered in the past [13].</center>\n",
    "\n",
    "![yucca_tunnel.png](./yucca_tunnel.png)\n",
    "<center>The current U.S. geologic disposal concept [13].</center>\n",
    "\n",
    "![timeline.png](./timeline.png)\n",
    "<center>The full history of domestic nuclear waste policy, in eras [13].</center>"
   ]
  },
  {
   "cell_type": "markdown",
   "metadata": {},
   "source": [
    "## Siting\n",
    "\n",
    "How did we get here?\n",
    "\n",
    "\n",
    "### 1940-1970 Preliminary Studies\n",
    "- 1940s - first defense waste produced\n",
    "- 1950s - first power reactors\n",
    "- 1954 - The Atomic Energy Act directs the government to promote the peaceful use of atomic energy, with the understanding that disposal of the highly radioactive waste produced would be the responsibility of the federal government.\n",
    "- 1957 - National Academy of Sciences recommends geological disposal."
   ]
  },
  {
   "cell_type": "markdown",
   "metadata": {},
   "source": [
    "### 1970 - 1983 National Site Screening\n",
    "\n",
    "- 1978 - first Yucca Mountain borehole\n",
    "- 1982 - Nuclear Waste Policy Act"
   ]
  },
  {
   "cell_type": "markdown",
   "metadata": {},
   "source": [
    "### 1983 Nuclear Waste Policy Act\n",
    "\n",
    "Passed through congress in 1982, it was signed into law in January, 1983 by President Ronald Reagan.\n",
    "\n",
    "> This legislation defined the Federal Governments responsibility to\n",
    "provide permanent disposal in a deep geologic repository for spent fuel\n",
    "and high-level radioactive waste from commercial and defense\n",
    "activities. Under amended provisions (1987) of this Act, the\n",
    "Department of Energy (DOE) has the responsibility to locate, build,\n",
    "and operate a repository for such wastes. [11]"
   ]
  },
  {
   "cell_type": "markdown",
   "metadata": {},
   "source": [
    "### Site Review\n",
    "\n",
    "![nine_sites_to_one.png](./nine_sites_to_one.png)\n",
    "<center>The siting process began at nine sites and downselected to one [13].</center>\n",
    "\n",
    "![http://yuccamountain.org/image/mina-route-map_s.jpg](http://yuccamountain.org/image/mina-route-map_s.jpg)\n",
    "<center>The land surrounding and including Yucca Mountain was already owned by the\n",
    "federal government when the site was selected.</center>"
   ]
  },
  {
   "cell_type": "markdown",
   "metadata": {},
   "source": [
    "### Selection of Yucca Mountain\n",
    "\n",
    "The Yucca Mountain Site was selected and accepted by the office of President\n",
    "Ronald Reagan in 1987.\n",
    "\n",
    "![yucca_site.png](./yucca_site.png)\n",
    "<center>Yucca Mountain is in southern Nevada [12].</center>"
   ]
  },
  {
   "cell_type": "markdown",
   "metadata": {},
   "source": [
    "### 1988 Viability Assessment\n",
    "\n",
    "The 1988 **Viability Assessment** describes the nuclear waste problem and\n",
    "explains why the United States and other nations are considering deep geologic\n",
    "disposal as the solution. It also describes what research must be done to\n",
    "complete a license application.\n",
    "\n",
    "**Public hearings** are held about this viability assessment and with this, the\n",
    "Yucca Mountain site was deemed a viable site for further characterization and\n",
    "the **pursuit of a license application** began."
   ]
  },
  {
   "cell_type": "markdown",
   "metadata": {},
   "source": [
    "### 1991-2002 Site Characterization\n",
    "\n",
    "The process of researching the suitability of Yucca Mountain began:\n",
    "\n",
    "- 1991 - surface studies begin\n",
    "- 1999 - bills for interim storage at the Nevada Test Site are introduced. Bill Clinton vows to veto them.\n",
    "- 2000 - The environmental impact statement is release for public comment.\n",
    "- 2001 - EPA proposes radiation standards for Yucca Mountain. The State of Nevada files suit against the EPA concerning the standards."
   ]
  },
  {
   "cell_type": "markdown",
   "metadata": {},
   "source": [
    "## Nuclear Waste Fund\n",
    "\n",
    "The NWPA established a nuclear waste fund, to be paid into by the commercial\n",
    "entities producing nuclear waste domestically.\n",
    "\n",
    "> In return for 1 mill per kWh, the utilities would gain the assurance that the United States would manage the disposal of that waste.\n",
    "\n",
    "Though some of the Nuclear Waste Fund has been spent on the Yucca Mountain\n",
    "Project, it currently has an unspent balance of $25 billion.\n",
    "\n",
    "It receives nearly $750 million each year from the commerical entities that pay\n",
    "into it."
   ]
  },
  {
   "cell_type": "markdown",
   "metadata": {},
   "source": [
    "### Nuclear Waste Fund Litigation\n",
    "\n",
    "- 1983 - Nuclear utilities signed the Standard Contract agreeing to pay the nuclear waste fee.\n",
    "- 1998 - The utilities sue the federal government over the delay in used fuel acceptance.\n",
    "- 1998 - Courts ruled the DOE is partially liable. DOE settled and DOE developed an amended Standard Contract [3] to address new reactors."
   ]
  },
  {
   "cell_type": "markdown",
   "metadata": {},
   "source": [
    "### 2002 - 2008 Site Recommendation\n",
    "\n",
    "- 2002- The site was deemed appropriately characterized for recommendation in 2002. **Secretary of Energy$\\longrightarrow$President Bush$\\longrightarrow$Congress**\n",
    "- 2004 - In the Nevada Lawsuit, the EPA 10,000 year radiation standard is deemed inadequate. The rest of the radiation standards remain."
   ]
  },
  {
   "cell_type": "markdown",
   "metadata": {},
   "source": [
    "### 2008 - 2011 License Application and Withdrawal\n",
    "\n",
    "- The license application was submitted to the NRC in **2008**.\n",
    "- The NRC was expected to make a decision within 4 years.\n",
    "- In **May 2009**, Secretary Steven Chu stated: “Yucca Mountain as a repository is off the table”.\n",
    "- **July 2009**, the House of Representatives voted 388 to 30 to not defund the Yucca Mountain repository in the FY2010 budget.\n",
    "- On **March 3, 2010**, the DOE filed a motion with the NRC to withdraw its license application.\n",
    "- **Lawsuits** erupted from Hanford, WA and Aiken County, SC, among others. Ruled premature.\n",
    "- YMP funding was terminated with the Defense and Full-Year Continuing Appropriations Act, passed by Congress on **April 14, 2011.**"
   ]
  },
  {
   "cell_type": "markdown",
   "metadata": {},
   "source": [
    "### 2012 Blue Ribbon Commission Report\n",
    "\n",
    "The goals of the blue ribbon commission were [8]:\n",
    "\n",
    "- Evaluation of existing fuel cycle technologies and R&D programs.\n",
    "-  Options for safe storage of used nuclear fuel while final disposition pathways are selected and deployed.\n",
    "- Options for permanent disposal of used fuel and/or high-level nuclear waste,\n",
    "- Options to make legal and commercial arrangements for the management of used nuclear fuel and nuclear waste in a manner that takes the current and potential full fuel cycles into account.\n",
    "- Options for decision-making processes for management and disposal that are flexible, adaptive, and responsive.\n",
    "- Options to ensure that decisions on management of used nuclear fuel and nuclear waste are open and transparent, with broad participation.\n",
    "- The possible need for additional legislation or amendments to existing laws, including the Nuclear Waste Policy Act of 1982, as amended.\n",
    "\n",
    "\n",
    "The BRC came out with a list of recommendations [1] :\n",
    "\n",
    "- Consentbased siting approach\n",
    "- An authoritative organization dedicated solely to implementing the waste management program.\n",
    "- Access to the waste fund.\n",
    "- Prompt efforts : one or more geologic disposal facilities.\n",
    "- Prompt efforts : one or more consolidated storage facilities.\n",
    "- Prompt efforts : to prepare for SNF and HLW transportation.\n",
    "- Support for continued U.S. innovation in nuclear energy technology and for workforce development;\n",
    "- U.S. leadership in international efforts to address safety, waste management, nonproliferation, and security concerns.\n",
    "\n",
    "The Senate tried to take action:\n",
    "- Senator Jeff Bingaman, before leaving office, introduced a bill called the Nuclear Waste Administration Act of 2011. [Its daughter went before the senate in 2012.]( http://www.energy.senate.gov/public/index.cfm/2012/8/s-3469-the-nuclear-waste-administration-act-of-2012) It died in congress. \n",
    "\n",
    "\n",
    "The Judicial system tried to take action related to the Waste Confidence Rule:\n",
    "\n",
    "- To license a reactor or approve a reactor license extension, the NRC requires a Waste Confidence clause. It is a section of the application that assures the NRC that waste produced by the applying facility will be dealt with.\n",
    "- Previous to the closing of the Yucca Mountain Project, all applicants for reactor licenses and license extensinos were able to cite the nuclear waste fund and the Yucca Mountain Project.\n",
    "- In 2012, the United States Court of Appeals for the District of Columbia Circuit declared that there is no waste confidence.\n",
    "\n",
    "> “The commission apparently has no long-term plan other than hoping for a geologic repository... Failing to establish a repository is a possibility thatcannot be ignored.” [14]"
   ]
  },
  {
   "cell_type": "markdown",
   "metadata": {},
   "source": [
    "### 2013 DOE Response to Blue Ribbon Commission\n",
    "\n",
    "DOE created four working groups.\n",
    "- Governance Framework and Funding\n",
    "- System Design & Architecture\n",
    "- ConsentBased Siting\n",
    "- Transportation Routing, Safety and Security\n",
    "\n",
    "In a brief statement [[6]](http://www.energy.gov/downloads/strategy-management-and-disposal-used-nuclear-fuel-and-high-level-radioactive-waste), the DOE agreed in general with the BRC and said that DOE would pursue a timeline :\n",
    "\n",
    "- Sites, designs and licenses, constructs and begins operations of a pilot interim storage facility by **2021** with an initial focus on accepting used nuclear fuel from shut-down reactor sites.\n",
    "- Advances toward the siting and licensing of a larger interim storage facility to be available by **2025**.\n",
    "-  Makes **demonstrable progress** on the siting and characterization of repository sites to facilitate the availability of a geologic repository by 2048.\n",
    "\n",
    "\n",
    "### 2013 Legal Decisions\n",
    "\n",
    "- May: DOE is ordered by a court to stop collecting the waste fee. Representing 750 million a year when it ended, the fund now holds 37 billion.\n",
    "- August-October : NRC is ordered by the DC court of appeals to restart the licensing proceeding. The appropriated funds were insufficient to complete the proceeding. \n",
    "\n",
    "\n",
    "### 2014-2015 NRC Conclusions\n",
    "\n",
    "- NRC report concludes [continued storage in dry casks is safe for 160 years](http://www.yuccamountain.org/pdf/nrc_rule0814.pdf), brushing aside the immediate consequences of the judicial decision concerning waste confidence.\n",
    "- December 2014-Jan 2015: NRC releases the final volumes of the reports on the suitability of Yucca Mountain as a disposal spot for nuclear waste, finding that the design met the commission's requirements.\n",
    "\n",
    "\n",
    "### 2016 \n",
    "\n",
    "- DOE issues [a statement](http://www.yuccamountain.org/pdf/2015-32346.pdf) declaring that it would move forward with a consent-based siting process. \n",
    "\n",
    "\n",
    "### 2017 - 2018\n",
    "\n",
    "- March 2: Rick Perry becomes Secretary of Energy.\n",
    "- White House budget contains \\$120 million for Yucca.\n",
    "- April: A hearing to amend the NWPA\n",
    "- May: No money in federal spending budget for Yucca.\n",
    "- Nov 2: A bill to restart licensing Yucca Mountain did not pass the Senate.\n",
    "- [The “Consent-Based Siting” tab on energy.gov](https://www.energy.gov/ne/consent-based-siting)\n",
    "\n",
    "### 2019-2020\n",
    "- The Trump administration made initial budget requests to support pursuit of Yucca Mountain, but Senators Masto (D-Nev.),  Heller (R-Nev.), and others urged the US Energy & Water committee to pursue a consent-based siting approach. \n",
    "- The budget ultimately reflected that \"alternative approaches\" would be taken, rather than Yucca Mountain.\n",
    "\n",
    "### 2021\n",
    "- The Biden-Harris administration, including DOE Secretary Granholm have indicated that Yucca Mountain remains off the table and that a consent-based approach is preferred."
   ]
  },
  {
   "cell_type": "markdown",
   "metadata": {},
   "source": [
    "## Waste Classification\n",
    "\n",
    "Waste classification is an area of active discussion. \n",
    "\n",
    "\n",
    "![classification_table](./classification_table.png)\n",
    "<center>[source](https://www.fas.org/sgp/crs/misc/RL32163.pdf)</center>\n",
    "\n",
    "\n",
    "![snf_table](./snf_table.png)\n",
    "<center>[source](https://www.fas.org/sgp/crs/misc/RL32163.pdf)</center>"
   ]
  },
  {
   "cell_type": "code",
   "execution_count": 3,
   "metadata": {},
   "outputs": [
    {
     "data": {
      "text/html": [
       "\n",
       "        <iframe\n",
       "            width=\"700\"\n",
       "            height=\"700\"\n",
       "            src=\"https://embed.polleverywhere.com/free_text_polls/JfkmGGnQJfwt8Mr?controls=none&short_poll=true\"\n",
       "            frameborder=\"0\"\n",
       "            allowfullscreen\n",
       "        ></iframe>\n",
       "        "
      ],
      "text/plain": [
       "<IPython.lib.display.IFrame at 0x7fcbb56aad10>"
      ]
     },
     "execution_count": 3,
     "metadata": {},
     "output_type": "execute_result"
    }
   ],
   "source": [
    "from IPython.display import IFrame\n",
    "IFrame(\"https://embed.polleverywhere.com/free_text_polls/JfkmGGnQJfwt8Mr?controls=none&short_poll=true\",width=700, height=700)"
   ]
  },
  {
   "cell_type": "markdown",
   "metadata": {},
   "source": [
    "## Radioactivity\n",
    "\n",
    "Recall: The SI unit of activity is the becquerel (Bq), equal to one reciprocal second.\n",
    "\n",
    "\\begin{align}\n",
    "A(i) &= -\\frac{dN_i}{dt}\\\\\n",
    "&= \\lambda_iN_i\n",
    "\\end{align}\n",
    "\n",
    "## Toxicity\n",
    "\n",
    "One possibility is to use toxicity as a classifying metric. It captures the activity and danger to humans\n",
    "\n",
    "\\begin{align}\n",
    "\\mbox{Toxicity}(i,k) &= \\frac{A(i)}{DAC(i,k)}\\\\\n",
    "i &= \\mbox{isotope}\\\\\n",
    "k &= \\mbox{medium index, air or water}\\\\\n",
    "DAC &= \\mbox{derived air concentration of isotope i in air or water.} \n",
    "\\end{align}\n",
    "\n",
    "Warning : DAC is confusing. It generally is reported in $\\frac{\\mu Ci}{mL}$. From the NRC glossary, the definition is:\n",
    "\n",
    "> Derived air concentration (DAC) The concentration of a given radionuclide in air which, if breathed by the reference man for a working year of 2,000 hours under conditions of light work (with an inhalation rate of 1.2 cubic meters of air per hour), results in an intake of one annual limit on intake (ALI).\n",
    "\n",
    "Ok, great, so what is ALI?\n",
    "\n",
    "> ALI is the smaller value of intake of a given radionuclide in a year by the \"reference man\" that would result in a committed effective dose equivalent (CEDE) of 5 rems (0.05 sievert) or a committed dose equivalent (CDE) of 50 rems (0.5 sievert) to any individual organ or tissue. "
   ]
  },
  {
   "cell_type": "markdown",
   "metadata": {},
   "source": [
    "![llw_table](./llw_table.png)\n",
    "![llw_table2](./llw_table2.png)\n",
    "<center>[source](https://www.fas.org/sgp/crs/misc/RL32163.pdf)</center>\n",
    "\n",
    "\n",
    "\n",
    "\n",
    "\n",
    "\n",
    "A flow chart for improvements is below.\n",
    "\n",
    "![gombert2008](./gombert2008.png)\n",
    "<center>[source](http://www.cresp.org/NuclearChemCourse/monographs/12_Viena_Waste%20Forms%20for%20an%20Advanced%20Fuel%20Cycle_3_3_09.pdf)</center>"
   ]
  },
  {
   "cell_type": "markdown",
   "metadata": {},
   "source": [
    "## Wrap-up\n",
    "\n",
    "- Understand the magnitude of the current waste challenge in the US. \n",
    "- Recall the history of nuclear waste policy in the United States\n",
    "- Understand the legislation in the Nuclear Waste Policy Act\n",
    "- Recall the history of the Yucca Mountain Project\n",
    "- Recognize the charter and conclusions of the Blue Ribbon Commission\n",
    "- Describe the impacts of the Nuclear Waste Confidence ruling\n",
    "- Understand the path and current status of the Yucca Mountain license application\n",
    "- Recognize the NWPA waste class of various nuclear fuel cycle materials"
   ]
  },
  {
   "cell_type": "markdown",
   "metadata": {},
   "source": [
    "## References\n",
    "\n",
    "This section was developed to complement pages 302-373 of [15] as well as the full content of [16].\n",
    "\n",
    "\n",
    "[1] Mark Ayers, Vicky Bailey, Albert Carnesale, Pete Domenici, Susan Eisenhower, Chuck Hagel, Jonathan Lash, Allison Macfarlane, Richard Meserve, Ernest Moniz, Per Peterson, John Rowe, and Phil Sharp.\n",
    "Report to the secretary of energy. Technical report, Blue Ribbon Commission on America’s Nuclear Future, January 2012.\n",
    "\n",
    "[2] DOE. Spent fuel pool at a nuclear power plant.\n",
    "http://www.ocrwm.doe.gov/curriculum/unit1/lesson3reading.shtml.\n",
    "\n",
    "[3] DOE. Standard contract amendment for new reactors.\n",
    "http://energy.gov/gc/downloads/standard-contract-amendment-new-reactors.\n",
    "\n",
    "[4] DOE. Underground tank farm with 12 of the site’s 177 waste storage tanks.\n",
    "\n",
    "[5] DOE. Final supplemental environmental impact statement for a geologic repository for the disposal of\n",
    "spent nuclear fuel and high-level radioactive waste at yucca mountain, nye county, nevada. Technical Report DOE/EIS-0250F-S1, June 2008.\n",
    "\n",
    "[6] DOE. Strategy for the management and disposal of used nuclear fuel and high-level radioactive waste. Technical report, United States Department of Energy (DOE), Washington D.C., United States,\n",
    "January 2013.\n",
    "\n",
    "[7] Peter Essick. Photographing the infinity room - timing is everything, April 2012.\n",
    "\n",
    "[8] Carol Matthews. Blue ribbon commission on americas nuclear future U.S. department of energy - advisory\n",
    "committee charter, March 2010.\n",
    "\n",
    "[9] NRC. Nuclear-fuel.jpg.\n",
    "\n",
    "[10] NRC. Dry cask storage., January 2008.\n",
    "\n",
    "[11] NRC. Backgrounder on radioactive waste.\n",
    "Technical report, Nuclear Regulatory Commission, February 2011.\n",
    "\n",
    "[12] OMB. Yucca mountain 2.jpg, August 2006.\n",
    "\n",
    "[13] Mark Peters. What’s next for used nuclear fuel and nuclear waste management policy?, January 2013.\n",
    "\n",
    "[14] David B. Sentelle. On petitions for review of orders of the nuclear regulatory commission.\n",
    "\n",
    "[15] N. Tsoulfanidis, The Nuclear Fuel Cycle. La Grange Park, Illinois, USA: American Nuclear Society, 2013.\n",
    "\n",
    "[16] Mark Ayers, Vicky Bailey, Albert Carnesale, Pete Domenici, Susan Eisenhower, Chuck Hagel, Jonathan\n",
    "Lash, Allison Macfarlane, Richard Meserve, Ernest Moniz, Per Peterson, John Rowe, and Phil Sharp.\n",
    "Report to the Secretary of Energy. Technical report, Blue Ribbon Commission on America’s Nuclear\n",
    "Future, January 2012. URL: [http://energy.gov/sites/prod/files/2013/04/f0/brc_finalreport_\n",
    "jan2012.pdf](http://energy.gov/sites/prod/files/2013/04/f0/brc_finalreport_\n",
    "jan2012.pdf)"
   ]
  },
  {
   "cell_type": "code",
   "execution_count": null,
   "metadata": {
    "collapsed": true
   },
   "outputs": [],
   "source": []
  }
 ],
 "metadata": {
  "anaconda-cloud": {},
  "kernelspec": {
   "display_name": "Python 3",
   "language": "python",
   "name": "python3"
  },
  "language_info": {
   "codemirror_mode": {
    "name": "ipython",
    "version": 3
   },
   "file_extension": ".py",
   "mimetype": "text/x-python",
   "name": "python",
   "nbconvert_exporter": "python",
   "pygments_lexer": "ipython3",
   "version": "3.7.6"
  }
 },
 "nbformat": 4,
 "nbformat_minor": 1
}
