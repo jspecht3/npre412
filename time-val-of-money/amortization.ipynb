{
 "cells": [
  {
   "cell_type": "code",
   "execution_count": 1,
   "metadata": {},
   "outputs": [],
   "source": [
    "%matplotlib notebook\n",
    "%matplotlib inline\n",
    "\n",
    "import matplotlib\n",
    "import numpy as np\n",
    "import matplotlib.pyplot as plt"
   ]
  },
  {
   "cell_type": "markdown",
   "metadata": {},
   "source": [
    "# Amortization\n",
    "\n",
    "A quick review of what I said in lecture, what the book says, and what you might find on the internet\n",
    "\n",
    "## Learning Objectives\n",
    "\n",
    "At the end of this lesson, you will be equipped to:\n",
    "\n",
    "- Recognize different forms of the amortization equation\n",
    "- Choose the correct form\n",
    "- Apply the equation with the appropriate variables"
   ]
  },
  {
   "cell_type": "markdown",
   "metadata": {},
   "source": [
    "## Annuities\n",
    "\n",
    "Annuities: a series of equal dollar payments coming at the end of a certain time period for a specified number of time periods (n). Examples include mortgages, life insurance benefits, lottery payments, retirement payments.\n",
    "\n",
    "### Compound annuities\n",
    "\n",
    "Compound Annuities: depositing an equal sum of money at the end of each time period for a certain number of periods and allowing the money to grow. An example might be having $\\$50$ taken out of each paycheck and put in a Christmas account earning a $9\\%$ Annual Percentage Rate.\n",
    "\n",
    "### Future value of an annuity (FVA) equation\n",
    "\n",
    "This equation is used to determine the future value of a stream of deposits/payments (PMT) invested at a specific interest rate (i), for a specific number of periods (n). For example, the future value of your 401k contributions can be calculated using this equation:\n",
    "\n",
    "$$\n",
    "\\begin{align}\n",
    "FVA &= PMT\\left(\\frac{(1 + i)^n – 1}{i}\\right)\\\\\n",
    "FVA &= \\mbox{the future value, in today’s dollars, of a sum of\n",
    "money}\\\\\n",
    "PMT &= \\mbox{the payment made at the end of each time period}\\\\\n",
    "i &= \\mbox{interest rate}\\\\\n",
    "n &= \\mbox{number of periods}\n",
    "\\end{align}\n",
    "$$\n"
   ]
  },
  {
   "cell_type": "code",
   "execution_count": 2,
   "metadata": {},
   "outputs": [],
   "source": [
    "def fva(pmt, i, n):\n",
    "    \"\"\"the future value, in today’s dollars, of a sum of money\n",
    "    :param pmt: the payment made at the end of each time period\n",
    "    :param i: interest rate\n",
    "    :param n: number of periods\n",
    "    \"\"\"\n",
    "    num = pmt*(pow((1+i),n) - 1)\n",
    "    return num/i"
   ]
  },
  {
   "cell_type": "markdown",
   "metadata": {},
   "source": [
    "### Present value of an annuity (PVA) equation\n",
    "\n",
    "This equation is used to determine the present value of a future stream of payments, such as your pension fund or insurance benefits.\n",
    "\n",
    "$$\n",
    "\\begin{align}\n",
    "PVA &=PMT\\frac{1–(1+i)^{-n}}{i}\\\\\n",
    "PVA &= \\mbox{the present value, in today’s dollars, of a sum of money}\\\\\n",
    "PMT &= \\mbox{the payment to be made at the end of each time period}\\\\\n",
    "i &= \\mbox{interest rate}\\\\\n",
    "n &= \\mbox{number of periods}\n",
    "\\end{align}\n",
    "$$"
   ]
  },
  {
   "cell_type": "markdown",
   "metadata": {},
   "source": [
    "### Solve for PMT\n",
    "\n",
    "$$\n",
    "\\begin{align}\n",
    "PMT &= PVA\\frac{i}{1–(1+i)^{-n}}\n",
    "\\end{align}\n",
    "$$"
   ]
  },
  {
   "cell_type": "code",
   "execution_count": 3,
   "metadata": {},
   "outputs": [],
   "source": [
    "def pva(pmt, i, n):\n",
    "    \"\"\"the present value, in today’s dollars, of a sum of money\n",
    "    :param PMT: the payment to be made at the end of each time period\n",
    "    :param i: interest rate\n",
    "    :param n: number of periods\n",
    "    \"\"\"\n",
    "    num = pmt*(1 - pow((1+i),-n)) \n",
    "    return num/i"
   ]
  },
  {
   "cell_type": "code",
   "execution_count": 4,
   "metadata": {},
   "outputs": [],
   "source": [
    "def pmt(pva, i, n):\n",
    "    \"\"\"the payment to be made at the end of each time period\n",
    "    :param pva: the present value in todays dollars, of the annuity\n",
    "    :param i: interest rate\n",
    "    :param n: number of periods\n",
    "    \"\"\"\n",
    "    num = pva*i\n",
    "    denom =1 - pow((1+i),-n) \n",
    "    return num/denom"
   ]
  },
  {
   "cell_type": "code",
   "execution_count": 5,
   "metadata": {},
   "outputs": [
    {
     "name": "stdout",
     "output_type": "stream",
     "text": [
      "Each payment: 3.182377e+05\n",
      "Sum of Payments: 9.547132e+06\n"
     ]
    }
   ],
   "source": [
    "# To pay off 3 million dollars, over the course of 30 years, at an interest rate of 10%\n",
    "i = 0.1\n",
    "n = 30\n",
    "pva = 3.0e6\n",
    "\n",
    "print(\"Each payment: \" + '%e' % (pmt(pva, i, n)) + \"\\n\"\n",
    "+ \"Sum of Payments: \" + '%e' % (pmt(pva, i, n)*n))\n"
   ]
  },
  {
   "cell_type": "markdown",
   "metadata": {},
   "source": [
    "## What about the book?\n",
    "\n",
    "So, in the book, the equation capturing this situation is:\n",
    "\n",
    "\\begin{align}\n",
    "F &= \\left[ \\frac{i(1+i)^n}{(1+i)^n - 1} P\\right]N\n",
    "\\end{align}\n",
    "\n",
    "One wants to rearrange this in many ways. First, I really don't like P being inside those brackets. Yikes.\n",
    "\n",
    "\\begin{align}\n",
    "F &= \\left[ \\frac{i(1+i)^n}{(1+i)^n - 1} \\right]PN\n",
    "\\end{align}\n",
    "\n",
    "Much better. We also want to solve for the payment. What term or combination of terms would represent the amount of each equal payment?\n",
    "\n",
    "\n",
    "![https://upload.wikimedia.org/wikipedia/commons/e/e0/Question-mark-blackandwhite.png](https://upload.wikimedia.org/wikipedia/commons/e/e0/Question-mark-blackandwhite.png)\n",
    "\n",
    "\n",
    "\n",
    "&nbsp;\n",
    " \n",
    "\n",
    "&nbsp;\n",
    " \n",
    "\n",
    "\n",
    "At first glance, the payment might seem to be P. \n",
    "\n",
    "\n",
    "\n",
    " \n",
    "\n",
    "&nbsp;\n",
    " \n",
    "\n",
    "&nbsp;\n",
    " \n",
    "\n",
    "&nbsp;\n",
    "\n",
    "\n",
    "&nbsp;\n",
    "\n",
    "\n",
    "\n",
    "\n",
    "\n",
    "\n",
    "\n",
    "**P is not the payment. The payment is F/N.** P is the present value of the annuity (we called it PVA in the last example).\n",
    "\n",
    "\\begin{align}\n",
    "\\frac{F}{N} &= \\left[ \\frac{i(1+i)^n}{(1+i)^n - 1} \\right]P\n",
    "\\end{align}\n",
    "\n",
    "This doesn't look like the same equation as before, but it is. Let's show that by multiplying the top and bottom of the right hand side by $(1+i)^{-n}$.\n",
    "\n",
    "\\begin{align}\n",
    "\\frac{F}{N} &= \\left[ \\frac{i(1+i)^{n-n}}{(1+i)^{n-n} - 1(1+i)^{-n}} \\right]P\\\\\n",
    "\\frac{F}{N} &= \\left[ \\frac{i}{1 - (1+i)^{-n}} \\right]P\n",
    "\\end{align}\n",
    "\n",
    "Now, it's clearly the same equation. But be careful about the variables. If you do the wrong thing, you'll get a very large number for the payment (because you'll be solving for the present value of the annuity whose future value is the amount of the loan. **Very easy mistake to make!**\n"
   ]
  },
  {
   "cell_type": "code",
   "execution_count": null,
   "metadata": {
    "collapsed": true
   },
   "outputs": [],
   "source": []
  }
 ],
 "metadata": {
  "anaconda-cloud": {},
  "kernelspec": {
   "display_name": "Python 3",
   "language": "python",
   "name": "python3"
  },
  "language_info": {
   "codemirror_mode": {
    "name": "ipython",
    "version": 3
   },
   "file_extension": ".py",
   "mimetype": "text/x-python",
   "name": "python",
   "nbconvert_exporter": "python",
   "pygments_lexer": "ipython3",
   "version": "3.7.6"
  }
 },
 "nbformat": 4,
 "nbformat_minor": 1
}
