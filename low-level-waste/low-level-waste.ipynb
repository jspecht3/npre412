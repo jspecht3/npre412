{
 "cells": [
  {
   "cell_type": "markdown",
   "metadata": {},
   "source": [
    "\n",
    "# Low-Level Waste \n",
    "\n",
    "We have discussed aspects of high level waste. Now, we will discuss low level radioactive waste (LLW or LLRW).\n",
    "\n",
    "\n",
    "## Learning Objectives\n",
    "\n",
    "At the end of this lesson, you will be equipped to:\n",
    "\n",
    "- Identify low level waste.\n",
    "- Describe the regulatory framework related to low level waste.\n",
    "- Recognize the magnitude of masses, volumes, and classes of low level waste.\n",
    "- Describe the structure of shallow disposal sites in which low level waste is disposed.\n",
    "- Understand the incentive for LLW facilities to downblend LLW.\n"
   ]
  },
  {
   "cell_type": "markdown",
   "metadata": {},
   "source": [
    "## LLRW generation. \n",
    "\n",
    "Via WNA: \"200,000 $m^3$ of low- and intermediate-level radioactive waste\" per year, worldwide.\n",
    "\n",
    "![http://www.ehso.com/images/fig7.jpg](http://www.ehso.com/images/fig7.jpg)\n",
    "<center>Source: EPA, US volumes of LLW</center>\n"
   ]
  },
  {
   "cell_type": "markdown",
   "metadata": {},
   "source": [
    "## LLRWPA\n",
    "\n",
    "\n",
    "### Waste Compacts \n",
    "\n",
    "![http://www.nrc.gov/waste/llw-disposal/fig040.gif](http://www.nrc.gov/waste/llw-disposal/fig040.gif)\n",
    "\n",
    "![http://www.nrc.gov/reading-rm/doc-collections/nuregs/staff/sr1437/v1/fig017.gif](http://www.nrc.gov/reading-rm/doc-collections/nuregs/staff/sr1437/v1/fig017.gif)\n",
    "<center>source:NRC</center>\n",
    "\n",
    "From NRC, the current, active, LLW disposal sites are:\n",
    "\n",
    "- **EnergySolutions Barnwell Operations**, located in Barnwell, South Carolina. Currently, Barnwell accepts waste from the Atlantic compact states (Connecticut, New Jersey, and South Carolina). Barnwell is licensed by the State of South Carolina to dispose of Class A, B, and C waste.\n",
    "- **U.S. Ecology**, located in Richland, Washington. Richland accepts waste from the Northwest and Rocky Mountain compacts. Richland is licensed by the State of Washington to dispose of Class A, B, and C waste.\n",
    "- **EnergySolutions Clive Operations**, located in Clive, Utah. Clive accepts waste from all regions of the United States. Clive is licensed by the State of Utah for Class A waste only.\n",
    "- **Waste Control Specialists (WCS)**, LLC, located near Andrews, Texas. WCS accepts waste from the Texas Compact generators and outside generators with permission from the Compact. WCS is licensed by the State of Texas to dispose of Class A, B, and C waste.\n",
    "\n",
    "### Forms of Waste\n",
    "\n",
    "- Liquid: decontamination solutions, liquid scintillators, ion-exchange fluids, etc.\n",
    "  - must be solidified\n",
    "  - or, must be packed in absorbant package 2x liquid volume\n",
    "- Wet Solid: filters, etc.\n",
    "- Dry Solid: trash, swipes, clothes, tools, etc.\n",
    "  - no more than 1% liquid volume\n",
    "  \n",
    "  \n",
    "### Activity of Waste\n",
    "\n",
    "![./classification.png](./classification.png)\n",
    "<center>Source: [NRC](http://www.nrc.gov/docs/ML1609/ML16096A278.pdf)</center>\n",
    "\n",
    "### Other Minimum Requirements\n",
    "\n",
    "- Must not be **pyrophoric**.\n",
    "- Gaseous waste should be packaged at $<1.5$ atm pressure.\n",
    "- Hazardous, bioloical, pathogenic, etc. materials must be additionally regulated. "
   ]
  },
  {
   "cell_type": "markdown",
   "metadata": {},
   "source": [
    "## History \n",
    "\n",
    "Some of the first low level waste came from the Chicago Pile. \n",
    "\n",
    "![https://assets.atlasobscura.com/media/W1siZiIsInVwbG9hZHMvcGxhY2VfaW1hZ2VzL2MzMmIyZmFkNTgxNTgyZGFiOV80MDg4NTQzOTY4XzYyYWY0M2ExMzdfYi5qcGciXSxbInAiLCJ0aHVtYiIsIngzOTA-Il0sWyJwIiwiY29udmVydCIsIi1xdWFsaXR5IDgxIC1hdXRvLW9yaWVudCJdXQ](https://assets.atlasobscura.com/media/W1siZiIsInVwbG9hZHMvcGxhY2VfaW1hZ2VzL2MzMmIyZmFkNTgxNTgyZGFiOV80MDg4NTQzOTY4XzYyYWY0M2ExMzdfYi5qcGciXSxbInAiLCJ0aHVtYiIsIngzOTA-Il0sWyJwIiwiY29udmVydCIsIi1xdWFsaXR5IDgxIC1hdXRvLW9yaWVudCJdXQ) \n",
    "The burial site is out in the woods near Argonne National Laboratory.\n",
    "\n",
    "\n",
    "### Texas\n",
    "\n",
    "(Timeline from [NSF, RCNET presentation](http://slideplayer.com/slide/9244004/))\n",
    "\n",
    "- 1981: TLLRWDA created\n",
    "- 1984: Statewide screening\n",
    "- 1985: McMullen County site suggested\n",
    "- 1989: Hudspeth County site suggested near Ft. Hancock\n",
    "- 1993: Hudspeth County site suggested near Sierra Blanca\n",
    "- 1994: GWB becomes governor\n",
    "- 1994: Texas, Maine, and Vermont enter a compact (TX is host)\n",
    "- 1998: Compact ratified by US Congress\n",
    "- 1998: Sierra Blanca site license denied by Texas Natural Resources Conservation Commission (TNRCC)\n",
    "- 2003: TX House Bill 1567: Privatized disposal facility, allows federal facility waste, fee on waste goes to state revenue.\n",
    "- 2003: Andrews County Site Proposed\n",
    "- 2004: State of Maine withdraws from Compact.\n",
    "- 2009: Receives license\n",
    "  - $\\le$ 2.3 million $ft^3$ volume\n",
    "  - $\\le$ 3.9 million curies\n",
    "  - Class A: 90%\n",
    "  - Class B: 9%\n",
    "  - Class C: 1%\n",
    "\n",
    "So, the most recent low level waste facility to open is the Texas Low Level Radioactive Waste Disposal Commission Compact facility, which was licensed in 2009. This compact includes Vermont. \n",
    "\n",
    "8 Commissioners = 6(Texas) + 2(Vermont)\n",
    "\n",
    "More information about the TLLRWDCC (http://www.tllrwdcc.org/](http://www.tllrwdcc.org/)\n",
    "\n",
    "Andrews County is in far west Texas. \n",
    "![https://upload.wikimedia.org/wikipedia/commons/thumb/0/0d/Map_of_Texas_highlighting_Andrews_County.svg/200px-Map_of_Texas_highlighting_Andrews_County.svg.png](https://upload.wikimedia.org/wikipedia/commons/thumb/0/0d/Map_of_Texas_highlighting_Andrews_County.svg/200px-Map_of_Texas_highlighting_Andrews_County.svg.png)"
   ]
  },
  {
   "cell_type": "markdown",
   "metadata": {
    "collapsed": true
   },
   "source": [
    "## Technology\n",
    "\n",
    "Near Surface Disposal. \n",
    "\n",
    "![http://www.nrc.gov/images/waste/llw-disposal/llw-disposal-graphic.gif](http://www.nrc.gov/images/waste/llw-disposal/llw-disposal-graphic.gif)"
   ]
  },
  {
   "cell_type": "markdown",
   "metadata": {},
   "source": [
    "## Classification and Blending\n",
    "\n",
    "While there are rules on LLRW blending, [http://www.nrc.gov/waste/llw-disposal/llw-pa/llw-blending.html](http://www.nrc.gov/waste/llw-disposal/llw-pa/llw-blending.html), this method is used for reducing waste classification.\n",
    "\n",
    "Source: NRC Presentation:\n",
    "[Training for the Concentration Averaging and Encapsulation Branch Technical Position, Revision 1, Division of Decommissioning, Uranium Recovery and Waste Programs, U.S. Nuclear Regulatory Commission.\n",
    "March 2016.](http://www.nrc.gov/docs/ML1609/ML16096A278.pdf)"
   ]
  },
  {
   "cell_type": "code",
   "execution_count": 2,
   "metadata": {},
   "outputs": [
    {
     "data": {
      "text/html": [
       "\n",
       "        <iframe\n",
       "            width=\"800\"\n",
       "            height=\"700\"\n",
       "            src=\"http://www.nrc.gov/docs/ML1609/ML16096A278.pdf\"\n",
       "            frameborder=\"0\"\n",
       "            allowfullscreen\n",
       "        ></iframe>\n",
       "        "
      ],
      "text/plain": [
       "<IPython.lib.display.IFrame at 0x7ff5e7f8d8d0>"
      ]
     },
     "execution_count": 2,
     "metadata": {},
     "output_type": "execute_result"
    }
   ],
   "source": [
    "from IPython.display import IFrame \n",
    "IFrame(\"http://www.nrc.gov/docs/ML1609/ML16096A278.pdf\", width=800, height=700)"
   ]
  },
  {
   "cell_type": "markdown",
   "metadata": {},
   "source": [
    "## Characteristics Based Approaches \n",
    "\n",
    "Source-based approaches occaisionally fail to regulate based on inherent risk. Additionally, materials with similar characteristics created in different ways can be classified differently. Finally, waste streams generated by new methods, if not anticipated by NRC regulations, could fall through the cracks of the current classification system.\n",
    "\n",
    "[Djokic, D. \"A Characteristics-Based Approach to Radioactive Waste Classification in Advanced Nuclear Fuel Cycles.\" PhD. Dissertation, University of California Berkeley. 2013.](http://escholarship.org/uc/item/8cx5s53z)"
   ]
  },
  {
   "cell_type": "markdown",
   "metadata": {},
   "source": [
    "## Wrap-Up\n",
    "\n",
    "At the end of this lesson, you will be equipped to:\n",
    "\n",
    "- Identify low level waste.\n",
    "- Describe the regulatory framework related to low level waste.\n",
    "- Recognize the magnitude of masses, volumes, and classes of low level waste.\n",
    "- Describe the structure of shallow disposal sites in which low level waste is disposed.\n",
    "- Understand the incentive for LLW facilities to downblend LLW."
   ]
  },
  {
   "cell_type": "code",
   "execution_count": null,
   "metadata": {
    "collapsed": true
   },
   "outputs": [],
   "source": []
  }
 ],
 "metadata": {
  "anaconda-cloud": {},
  "kernelspec": {
   "display_name": "Python 3",
   "language": "python",
   "name": "python3"
  },
  "language_info": {
   "codemirror_mode": {
    "name": "ipython",
    "version": 3
   },
   "file_extension": ".py",
   "mimetype": "text/x-python",
   "name": "python",
   "nbconvert_exporter": "python",
   "pygments_lexer": "ipython3",
   "version": "3.7.6"
  }
 },
 "nbformat": 4,
 "nbformat_minor": 1
}
